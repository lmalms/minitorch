{
 "cells": [
  {
   "cell_type": "code",
   "execution_count": 12,
   "id": "a358c06e",
   "metadata": {},
   "outputs": [],
   "source": [
    "from dataclasses import asdict\n",
    "import math\n",
    "import random\n",
    "import itertools\n",
    "\n",
    "import numpy as np\n",
    "import matplotlib.pyplot as plt\n",
    "from matplotlib.patches import Rectangle, Polygon\n",
    "\n",
    "from minitorch.module import LinearScalarLayer, LinearTensorLayer, ScalarNetwork, TensorNetwork\n",
    "from minitorch.autodiff import Scalar\n",
    "import minitorch.autodiff.tensor_functions as tf\n",
    "from minitorch.optim import SGDOptimizer\n",
    "from minitorch.datasets import Datasets, DatasetTypes\n",
    "from minitorch.operators import sigmoid\n",
    "import minitorch.scalar_metrics as sm\n",
    "import minitorch.scalar_losses as sl\n",
    "import minitorch.tensor_losses as tl\n",
    "import minitorch.tensor_metrics as tm"
   ]
  },
  {
   "cell_type": "code",
   "execution_count": 13,
   "id": "97e29f49",
   "metadata": {},
   "outputs": [
    {
     "data": {
      "image/png": "[encoded data removed]",
      "text/plain": [
       "<Figure size 660x440 with 1 Axes>"
      ]
     },
     "metadata": {
      "needs_background": "light"
     },
     "output_type": "display_data"
    }
   ],
   "source": [
    "# Create a dataset\n",
    "N_SAMPLES = 50\n",
    "dataset_type = DatasetTypes.diagonal\n",
    "\n",
    "datasets = Datasets.generate_datasets(n_samples=N_SAMPLES)\n",
    "dataset = asdict(datasets)[dataset_type]\n",
    "\n",
    "pos_class = [x for (x, y) in zip(dataset.xs, dataset.ys) if y == 1]\n",
    "neg_class = [x for (x, y) in zip(dataset.xs, dataset.ys) if y == 0]\n",
    "\n",
    "x1_pos, x2_pos = zip(*pos_class)\n",
    "x1_neg, x2_neg = zip(*neg_class)\n",
    "\n",
    "fig, ax = plt.subplots(1, 1, dpi=110)\n",
    "ax.scatter(list(x1_pos), list(x2_pos), marker=\"x\", c=\"tab:blue\", label=\"class = 1\")\n",
    "ax.scatter(list(x1_neg), list(x2_neg), marker=\"o\", c=\"tab:red\", label=\"class = 0\")\n",
    "ax.legend(loc=1)\n",
    "\n",
    "bottom_left = Polygon([[0, 1], [1, 0], [0, 0]], color=\"tab:blue\", alpha=0.2, lw=0.0)\n",
    "top_right = Polygon([[0, 1], [1, 1], [1, 0]], color=\"tab:red\", alpha=0.2, lw=0.0)\n",
    "ax.add_patch(bottom_left)\n",
    "ax.add_patch(top_right)\n",
    "\n",
    "ax.set_xlabel(\"x1\")\n",
    "ax.set_ylabel(\"x2\")\n",
    "\n",
    "fig.tight_layout()"
   ]
  },
  {
   "cell_type": "markdown",
   "id": "2fe6303c",
   "metadata": {},
   "source": [
    "### Scalars"
   ]
  },
  {
   "cell_type": "code",
   "execution_count": 3,
   "id": "6e5f1536",
   "metadata": {},
   "outputs": [],
   "source": [
    "# Create a linear layer\n",
    "network = LinearScalarLayer(input_dim=2, output_dim=1)\n",
    "\n",
    "# Define an optimizer\n",
    "optimizer = SGDOptimizer(parameters=network.parameters(), lr=0.75)\n",
    "\n",
    "# Data\n",
    "X = [list(x) for x in dataset.xs]\n",
    "y_true = dataset.ys"
   ]
  },
  {
   "cell_type": "code",
   "execution_count": null,
   "id": "974f07de",
   "metadata": {},
   "outputs": [],
   "source": [
    "# Training loop\n",
    "n_epochs = 200\n",
    "losses = []\n",
    "\n",
    "for epoch in range(n_epochs): \n",
    "    \n",
    "    # Zero all grads\n",
    "    optimizer.zero_grad()\n",
    "    \n",
    "    # Forward\n",
    "    y_hat = network.forward(X)\n",
    "\n",
    "    # Convert to binary class probabilties\n",
    "    y_hat = [[scalar.sigmoid() for scalar in row] for row in y_hat]\n",
    "    y_hat = list(itertools.chain.from_iterable(y_hat))\n",
    "\n",
    "    # Compute a loss\n",
    "    loss_per_epoch = sl.binary_cross_entropy(y_true, y_hat)\n",
    "    loss_per_epoch.backward()\n",
    "    \n",
    "    optimizer.step()\n",
    "    \n",
    "    # Record\n",
    "    losses.append(loss_per_epoch.data)\n",
    "    if epoch % 10 == 0:\n",
    "        print(f\"epoch {epoch}: loss = {loss_per_epoch.data}\")"
   ]
  },
  {
   "cell_type": "code",
   "execution_count": null,
   "id": "36d29f4b",
   "metadata": {},
   "outputs": [],
   "source": [
    "# Metrics\n",
    "y_true = [Scalar(y_t) for y_t in y_true]\n",
    "y_hat = [[scalar.sigmoid() for scalar in row] for row in network.forward(X)]\n",
    "y_hat = list(itertools.chain.from_iterable(y_hat))\n",
    "\n",
    "# Convert to classes using 0.5 threshold\n",
    "y_hat_classes = [Scalar(1.0) if proba.data >= 0.5 else Scalar(0.0) for proba in y_hat]\n",
    "\n",
    "{\n",
    "    f.__name__: f(y_true=y_true, y_hat=y_hat_classes)\n",
    "    for f in [sm.accuracy, sm.precision, sm.recall]\n",
    "}"
   ]
  },
  {
   "cell_type": "code",
   "execution_count": null,
   "id": "f3c6597c",
   "metadata": {},
   "outputs": [],
   "source": [
    "# ROC Curve\n",
    "tpr, fpr, thresholds = sm.roc_curve(y_true, y_hat, bucket_size=0.025)\n",
    "tpr, fpr = [s.data for s in tpr], [s.data for s in fpr]\n",
    "\n",
    "fig, ax = plt.subplots(1, 1, dpi=110)\n",
    "ax.plot(fpr, tpr, \"-o\", c=\"tab:blue\")\n",
    "ax.plot([0, 1], [0, 1], ls=\"--\", c=\"tab:grey\")\n",
    "ax.set_xlabel(\"fpr\")\n",
    "ax.set_ylabel(\"tpr\")\n",
    "ax.set_title(\"ROC Curve\");"
   ]
  },
  {
   "cell_type": "code",
   "execution_count": null,
   "id": "01e21f1d",
   "metadata": {},
   "outputs": [],
   "source": [
    "# Visualising predictions\n",
    "fig, ax = plt.subplots(1, 1, dpi=110)\n",
    "ax.scatter(list(x1_pos), list(x2_pos), marker=\"x\", c=\"tab:blue\")\n",
    "ax.scatter(list(x1_neg), list(x2_neg), marker=\"o\", c=\"tab:red\")\n",
    "\n",
    "# Visualise decision boundary\n",
    "\n",
    "bias_positions = list(np.linspace(0, 2, 101))\n",
    "x_range = list(np.linspace(0, 1, 101))\n",
    "\n",
    "for bias_lower, bias_upper in zip(bias_positions, bias_positions[1:]):\n",
    "    \n",
    "    # Create corresponding x2 values for lower\n",
    "    X_lower = [list((x1, bias_lower - x1)) for x1 in x_range]\n",
    "    \n",
    "    # Clamp values to between 0.0 and 1.0\n",
    "    X_lower = [[x1, max(min(x2, 1.0), 0.0)] for (x1, x2) in X_lower]\n",
    "    y_lower = network.forward(X_lower)\n",
    "    y_mean_lower = sigmoid(sum(scalar[0].data for scalar in y_lower) / len(y_lower))\n",
    "\n",
    "    # Create corresponding x2 values for upper\n",
    "    X_upper = [list((x1, bias_upper - x1)) for x1 in x_range]\n",
    "    \n",
    "    # Clamp upper and lower bounds\n",
    "    X_upper = [[x1, max(min(x2, 1.0), 0.0)] for (x1, x2) in X_upper]\n",
    "    y_upper = network.forward(X_upper)\n",
    "    y_mean_upper = sigmoid(sum(scalar[0].data for scalar in y_upper) / len(y_upper))\n",
    "\n",
    "    # Plot and fill    \n",
    "    ax.fill_between(\n",
    "        x_range,\n",
    "        [x2 for (_, x2) in X_lower],\n",
    "        [x2 for (_, x2) in X_upper],\n",
    "        alpha=(y_mean_lower - 0.5) if y_mean_lower >= 0.5 else (0.5 - y_mean_lower),\n",
    "        color=\"tab:blue\" if y_mean_lower >= 0.5 else \"tab:red\",\n",
    "        lw=0.01\n",
    "    )\n",
    "    \n",
    "\n",
    "ax.set_xlabel(\"x1\")\n",
    "ax.set_ylabel(\"x2\")\n",
    "\n",
    "fig.tight_layout();"
   ]
  },
  {
   "cell_type": "markdown",
   "id": "3f83a0f4",
   "metadata": {},
   "source": [
    "### Tensors"
   ]
  },
  {
   "cell_type": "code",
   "execution_count": 14,
   "id": "daa58f18",
   "metadata": {},
   "outputs": [],
   "source": [
    "# Create a linear layer\n",
    "network = TensorNetwork(input_dim=2, hidden_dim = 5, output_dim=1)\n",
    "\n",
    "# Define an optimizer\n",
    "optimizer = SGDOptimizer(parameters=network.parameters(), lr=0.005)\n",
    "\n",
    "# Data\n",
    "X = tf.tensor([list(x) for x in dataset.xs])\n",
    "y_true = tf.tensor(dataset.ys).view(N_SAMPLES, 1)"
   ]
  },
  {
   "cell_type": "code",
   "execution_count": 15,
   "id": "aac50529",
   "metadata": {},
   "outputs": [
    {
     "name": "stdout",
     "output_type": "stream",
     "text": [
      "epoch 0: loss = 0.7148544225923849\n",
      "epoch 20: loss = 0.7220426698029915\n",
      "epoch 40: loss = 0.7300127435331628\n"
     ]
    },
    {
     "ename": "KeyboardInterrupt",
     "evalue": "",
     "output_type": "error",
     "traceback": [
      "\u001b[0;31m---------------------------------------------------------------------------\u001b[0m",
      "\u001b[0;31mKeyboardInterrupt\u001b[0m                         Traceback (most recent call last)",
      "\u001b[1;32m/Users/lukasmalms/GitHub/minitorch/notebooks/training - classification - diagonal.ipynb Cell 11\u001b[0m in \u001b[0;36m<cell line: 5>\u001b[0;34m()\u001b[0m\n\u001b[1;32m     <a href='vscode-notebook-cell:/Users/lukasmalms/GitHub/minitorch/notebooks/training%20-%20classification%20-%20diagonal.ipynb#X22sZmlsZQ%3D%3D?line=12'>13</a>\u001b[0m \u001b[39m# Compute a loss\u001b[39;00m\n\u001b[1;32m     <a href='vscode-notebook-cell:/Users/lukasmalms/GitHub/minitorch/notebooks/training%20-%20classification%20-%20diagonal.ipynb#X22sZmlsZQ%3D%3D?line=13'>14</a>\u001b[0m loss_per_epoch \u001b[39m=\u001b[39m tl\u001b[39m.\u001b[39mbinary_cross_entropy(y_true, y_hat)\n\u001b[0;32m---> <a href='vscode-notebook-cell:/Users/lukasmalms/GitHub/minitorch/notebooks/training%20-%20classification%20-%20diagonal.ipynb#X22sZmlsZQ%3D%3D?line=14'>15</a>\u001b[0m loss_per_epoch\u001b[39m.\u001b[39;49mbackward()\n\u001b[1;32m     <a href='vscode-notebook-cell:/Users/lukasmalms/GitHub/minitorch/notebooks/training%20-%20classification%20-%20diagonal.ipynb#X22sZmlsZQ%3D%3D?line=16'>17</a>\u001b[0m optimizer\u001b[39m.\u001b[39mstep()\n\u001b[1;32m     <a href='vscode-notebook-cell:/Users/lukasmalms/GitHub/minitorch/notebooks/training%20-%20classification%20-%20diagonal.ipynb#X22sZmlsZQ%3D%3D?line=18'>19</a>\u001b[0m \u001b[39m# Record\u001b[39;00m\n",
      "File \u001b[0;32m~/GitHub/minitorch/src/minitorch/autodiff/tensor.py:363\u001b[0m, in \u001b[0;36mTensor.backward\u001b[0;34m(self, grad_out)\u001b[0m\n\u001b[1;32m    361\u001b[0m         \u001b[39mraise\u001b[39;00m \u001b[39mValueError\u001b[39;00m(\u001b[39m\"\u001b[39m\u001b[39mMust provide a grad_out if non-scalar like tensor\u001b[39m\u001b[39m\"\u001b[39m)\n\u001b[1;32m    362\u001b[0m     grad_out \u001b[39m=\u001b[39m Tensor\u001b[39m.\u001b[39mmake([\u001b[39m1.0\u001b[39m], shape\u001b[39m=\u001b[39m(\u001b[39m1\u001b[39m,), backend\u001b[39m=\u001b[39m\u001b[39mself\u001b[39m\u001b[39m.\u001b[39mbackend)\n\u001b[0;32m--> 363\u001b[0m backpropagate(\u001b[39mself\u001b[39;49m, grad_out)\n",
      "File \u001b[0;32m~/GitHub/minitorch/src/minitorch/autodiff/variable.py:379\u001b[0m, in \u001b[0;36mbackpropagate\u001b[0;34m(variable, d_out)\u001b[0m\n\u001b[1;32m    376\u001b[0m \u001b[39mif\u001b[39;00m \u001b[39mnot\u001b[39;00m var\u001b[39m.\u001b[39mis_leaf():\n\u001b[1;32m    377\u001b[0m     \u001b[39m# Fetch any derivatives from previous backprop steps\u001b[39;00m\n\u001b[1;32m    378\u001b[0m     d_out \u001b[39m=\u001b[39m var_derivative_map\u001b[39m.\u001b[39mget(var, \u001b[39m1.0\u001b[39m)\n\u001b[0;32m--> 379\u001b[0m     input_diff_pairs \u001b[39m=\u001b[39m var\u001b[39m.\u001b[39;49mhistory\u001b[39m.\u001b[39;49mbackprop_step(d_out)\n\u001b[1;32m    381\u001b[0m     \u001b[39m# Update scalars with new derivatives\u001b[39;00m\n\u001b[1;32m    382\u001b[0m     \u001b[39mfor\u001b[39;00m (input_, diff) \u001b[39min\u001b[39;00m input_diff_pairs:\n",
      "File \u001b[0;32m~/GitHub/minitorch/src/minitorch/autodiff/tensor.py:41\u001b[0m, in \u001b[0;36mTensorHistory.backprop_step\u001b[0;34m(self, grad_out)\u001b[0m\n\u001b[1;32m     37\u001b[0m \u001b[39mdef\u001b[39;00m \u001b[39mbackprop_step\u001b[39m(\u001b[39mself\u001b[39m, grad_out: Tensor) \u001b[39m-\u001b[39m\u001b[39m>\u001b[39m List[Tuple[Variable, \u001b[39mfloat\u001b[39m]]:\n\u001b[1;32m     38\u001b[0m     \u001b[39m\"\"\"\u001b[39;00m\n\u001b[1;32m     39\u001b[0m \u001b[39m    Runs one step of back-propagation by calling the chain rule.\u001b[39;00m\n\u001b[1;32m     40\u001b[0m \u001b[39m    \"\"\"\u001b[39;00m\n\u001b[0;32m---> 41\u001b[0m     \u001b[39mreturn\u001b[39;00m \u001b[39mself\u001b[39;49m\u001b[39m.\u001b[39;49mlast_fn\u001b[39m.\u001b[39;49mchain_rule(\u001b[39mself\u001b[39;49m\u001b[39m.\u001b[39;49mctx, \u001b[39mself\u001b[39;49m\u001b[39m.\u001b[39;49minputs, grad_out)\n",
      "File \u001b[0;32m~/GitHub/minitorch/src/minitorch/autodiff/tensor_functions.py:81\u001b[0m, in \u001b[0;36mTensorFunction.chain_rule\u001b[0;34m(cls, ctx, inputs, grad_out)\u001b[0m\n\u001b[1;32m     79\u001b[0m     \u001b[39mraise\u001b[39;00m \u001b[39mIndexError\u001b[39;00m(\u001b[39m\"\u001b[39m\u001b[39mExpecting a gradient for each input.\u001b[39m\u001b[39m\"\u001b[39m)\n\u001b[1;32m     80\u001b[0m tensor_grad_pairs \u001b[39m=\u001b[39m \u001b[39mlist\u001b[39m(\u001b[39mzip\u001b[39m(inputs, gradients))\n\u001b[0;32m---> 81\u001b[0m tensor_grad_pairs \u001b[39m=\u001b[39m [\n\u001b[1;32m     82\u001b[0m     (t_, t_\u001b[39m.\u001b[39mexpand(grad))\n\u001b[1;32m     83\u001b[0m     \u001b[39mfor\u001b[39;00m (t_, grad) \u001b[39min\u001b[39;00m tensor_grad_pairs\n\u001b[1;32m     84\u001b[0m     \u001b[39mif\u001b[39;00m \u001b[39mnot\u001b[39;00m is_constant(t_)\n\u001b[1;32m     85\u001b[0m ]\n\u001b[1;32m     86\u001b[0m \u001b[39mreturn\u001b[39;00m tensor_grad_pairs\n",
      "File \u001b[0;32m~/GitHub/minitorch/src/minitorch/autodiff/tensor_functions.py:82\u001b[0m, in \u001b[0;36m<listcomp>\u001b[0;34m(.0)\u001b[0m\n\u001b[1;32m     79\u001b[0m     \u001b[39mraise\u001b[39;00m \u001b[39mIndexError\u001b[39;00m(\u001b[39m\"\u001b[39m\u001b[39mExpecting a gradient for each input.\u001b[39m\u001b[39m\"\u001b[39m)\n\u001b[1;32m     80\u001b[0m tensor_grad_pairs \u001b[39m=\u001b[39m \u001b[39mlist\u001b[39m(\u001b[39mzip\u001b[39m(inputs, gradients))\n\u001b[1;32m     81\u001b[0m tensor_grad_pairs \u001b[39m=\u001b[39m [\n\u001b[0;32m---> 82\u001b[0m     (t_, t_\u001b[39m.\u001b[39;49mexpand(grad))\n\u001b[1;32m     83\u001b[0m     \u001b[39mfor\u001b[39;00m (t_, grad) \u001b[39min\u001b[39;00m tensor_grad_pairs\n\u001b[1;32m     84\u001b[0m     \u001b[39mif\u001b[39;00m \u001b[39mnot\u001b[39;00m is_constant(t_)\n\u001b[1;32m     85\u001b[0m ]\n\u001b[1;32m     86\u001b[0m \u001b[39mreturn\u001b[39;00m tensor_grad_pairs\n",
      "File \u001b[0;32m~/GitHub/minitorch/src/minitorch/autodiff/tensor.py:331\u001b[0m, in \u001b[0;36mTensor.expand\u001b[0;34m(self, other)\u001b[0m\n\u001b[1;32m    329\u001b[0m \u001b[39mfor\u001b[39;00m dim, shape \u001b[39min\u001b[39;00m \u001b[39menumerate\u001b[39m(out_\u001b[39m.\u001b[39mshape):\n\u001b[1;32m    330\u001b[0m     \u001b[39mif\u001b[39;00m (original_shape[dim] \u001b[39m==\u001b[39m \u001b[39m1\u001b[39m) \u001b[39mand\u001b[39;00m (shape \u001b[39m!=\u001b[39m \u001b[39m1\u001b[39m):\n\u001b[0;32m--> 331\u001b[0m         out_ \u001b[39m=\u001b[39m \u001b[39mself\u001b[39;49m\u001b[39m.\u001b[39;49mbackend\u001b[39m.\u001b[39;49madd_reduce(out_, dim)\n\u001b[1;32m    332\u001b[0m \u001b[39massert\u001b[39;00m out_\u001b[39m.\u001b[39msize \u001b[39m==\u001b[39m \u001b[39mself\u001b[39m\u001b[39m.\u001b[39msize, \u001b[39mf\u001b[39m\u001b[39m\"\u001b[39m\u001b[39m{\u001b[39;00mout_\u001b[39m.\u001b[39mshape\u001b[39m}\u001b[39;00m\u001b[39m, \u001b[39m\u001b[39m{\u001b[39;00m\u001b[39mself\u001b[39m\u001b[39m.\u001b[39msize\u001b[39m}\u001b[39;00m\u001b[39m\"\u001b[39m\n\u001b[1;32m    333\u001b[0m \u001b[39mreturn\u001b[39;00m Tensor\u001b[39m.\u001b[39mmake(out_\u001b[39m.\u001b[39mdata\u001b[39m.\u001b[39mstorage, \u001b[39mself\u001b[39m\u001b[39m.\u001b[39mshape, backend\u001b[39m=\u001b[39m\u001b[39mself\u001b[39m\u001b[39m.\u001b[39mbackend)\n",
      "File \u001b[0;32m~/GitHub/minitorch/src/minitorch/autodiff/tensor_ops.py:295\u001b[0m, in \u001b[0;36mSimpleOps.reduce.<locals>._reduce\u001b[0;34m(a, dim)\u001b[0m\n\u001b[1;32m    289\u001b[0m out_shape[dim] \u001b[39m=\u001b[39m \u001b[39m1\u001b[39m\n\u001b[1;32m    290\u001b[0m out \u001b[39m=\u001b[39m a\u001b[39m.\u001b[39mmake(\n\u001b[1;32m    291\u001b[0m     storage\u001b[39m=\u001b[39mnp\u001b[39m.\u001b[39mones((\u001b[39mint\u001b[39m(product(out_shape)))) \u001b[39m*\u001b[39m start,\n\u001b[1;32m    292\u001b[0m     shape\u001b[39m=\u001b[39m\u001b[39mtuple\u001b[39m(out_shape),\n\u001b[1;32m    293\u001b[0m     backend\u001b[39m=\u001b[39ma\u001b[39m.\u001b[39mbackend,\n\u001b[1;32m    294\u001b[0m )\n\u001b[0;32m--> 295\u001b[0m reduce_fn(\u001b[39m*\u001b[39;49mout\u001b[39m.\u001b[39;49mtuple(), \u001b[39m*\u001b[39;49ma\u001b[39m.\u001b[39;49mtuple(), dim)\n\u001b[1;32m    296\u001b[0m \u001b[39mreturn\u001b[39;00m out\n",
      "File \u001b[0;32m~/GitHub/minitorch/src/minitorch/autodiff/tensor_ops.py:147\u001b[0m, in \u001b[0;36mtensor_reduce.<locals>._reduce\u001b[0;34m(out_storage, out_shape, out_strides, in_storage, in_shape, in_strides, reduce_dim)\u001b[0m\n\u001b[1;32m    145\u001b[0m \u001b[39mfor\u001b[39;00m j \u001b[39min\u001b[39;00m \u001b[39mrange\u001b[39m(in_shape[reduce_dim]):\n\u001b[1;32m    146\u001b[0m     in_index[reduce_dim] \u001b[39m=\u001b[39m j\n\u001b[0;32m--> 147\u001b[0m     in_positions\u001b[39m.\u001b[39mappend(index_to_position(in_index, in_strides))\n\u001b[1;32m    149\u001b[0m \u001b[39m# Get all of the corresponding values\u001b[39;00m\n\u001b[1;32m    150\u001b[0m in_values \u001b[39m=\u001b[39m [in_storage[j] \u001b[39mfor\u001b[39;00m j \u001b[39min\u001b[39;00m in_positions]\n",
      "File \u001b[0;32m~/GitHub/minitorch/src/minitorch/autodiff/tensor_data.py:40\u001b[0m, in \u001b[0;36mindex_to_position\u001b[0;34m(index, strides)\u001b[0m\n\u001b[1;32m     28\u001b[0m \u001b[39m\"\"\"\u001b[39;00m\n\u001b[1;32m     29\u001b[0m \u001b[39mConverts a multidimensional tensor 'index' to a single_dimensional position in storage\u001b[39;00m\n\u001b[1;32m     30\u001b[0m \u001b[39mbased on strides\u001b[39;00m\n\u001b[0;32m   (...)\u001b[0m\n\u001b[1;32m     37\u001b[0m \u001b[39m    Position in storage\u001b[39;00m\n\u001b[1;32m     38\u001b[0m \u001b[39m\"\"\"\u001b[39;00m\n\u001b[1;32m     39\u001b[0m index, strides \u001b[39m=\u001b[39m index\u001b[39m.\u001b[39mtolist(), strides\u001b[39m.\u001b[39mtolist()\n\u001b[0;32m---> 40\u001b[0m \u001b[39mreturn\u001b[39;00m \u001b[39mint\u001b[39m(summation(multiply_lists(index, strides)))\n",
      "File \u001b[0;32m~/GitHub/minitorch/src/minitorch/functional.py:61\u001b[0m, in \u001b[0;36msummation\u001b[0;34m(ls)\u001b[0m\n\u001b[1;32m     56\u001b[0m         \u001b[39mreturn\u001b[39;00m [fn(i, j) \u001b[39mfor\u001b[39;00m (i, j) \u001b[39min\u001b[39;00m \u001b[39mzip\u001b[39m(ls1, ls2)]\n\u001b[1;32m     58\u001b[0m     \u001b[39mreturn\u001b[39;00m mapping_func\n\u001b[0;32m---> 61\u001b[0m \u001b[39mdef\u001b[39;00m \u001b[39msummation\u001b[39m(ls: List[VariableLike]) \u001b[39m-\u001b[39m\u001b[39m>\u001b[39m VariableLike:\n\u001b[1;32m     62\u001b[0m     \u001b[39m\"\"\"Sums all values in a list.\"\"\"\u001b[39;00m\n\u001b[1;32m     63\u001b[0m     \u001b[39mreturn\u001b[39;00m reduce(add, x0\u001b[39m=\u001b[39m\u001b[39m0.0\u001b[39m)(ls)\n",
      "\u001b[0;31mKeyboardInterrupt\u001b[0m: "
     ]
    }
   ],
   "source": [
    "# Training loop\n",
    "n_epochs = 200\n",
    "losses = []\n",
    "\n",
    "for epoch in range(n_epochs): \n",
    "    \n",
    "    # Zero all grads\n",
    "    optimizer.zero_grad()\n",
    "    \n",
    "    # Forward\n",
    "    y_hat = network.forward(X).sigmoid()\n",
    "\n",
    "    # Compute a loss\n",
    "    loss_per_epoch = tl.binary_cross_entropy(y_true, y_hat)\n",
    "    loss_per_epoch.backward()\n",
    "    \n",
    "    optimizer.step()\n",
    "    \n",
    "    # Record\n",
    "    losses.append(loss_per_epoch.item())\n",
    "    if epoch % 20 == 0:\n",
    "        print(f\"epoch {epoch}: loss = {loss_per_epoch.item()}\")"
   ]
  },
  {
   "cell_type": "code",
   "execution_count": 9,
   "id": "b0123d69",
   "metadata": {},
   "outputs": [
    {
     "data": {
      "text/plain": [
       "{'accuracy': \n",
       " [0.52000],\n",
       " 'precision': \n",
       " [0.52000],\n",
       " 'recall': \n",
       " [1.00000]}"
      ]
     },
     "execution_count": 9,
     "metadata": {},
     "output_type": "execute_result"
    }
   ],
   "source": [
    "# Metrics\n",
    "y_true = y_true.view(y_true.size)\n",
    "y_hat = network.forward(X).sigmoid()\n",
    "y_hat_classes = (y_hat >= 0.5).view(y_hat.size)\n",
    "\n",
    "{\n",
    "    f.__name__: f(y_true=y_true, y_hat=y_hat_classes)\n",
    "    for f in [tm.accuracy, tm.precision, tm.recall]\n",
    "}"
   ]
  },
  {
   "cell_type": "code",
   "execution_count": null,
   "id": "b88b0fde",
   "metadata": {},
   "outputs": [],
   "source": []
  }
 ],
 "metadata": {
  "kernelspec": {
   "display_name": "minitorch",
   "language": "python",
   "name": "minitorch"
  },
  "language_info": {
   "codemirror_mode": {
    "name": "ipython",
    "version": 3
   },
   "file_extension": ".py",
   "mimetype": "text/x-python",
   "name": "python",
   "nbconvert_exporter": "python",
   "pygments_lexer": "ipython3",
   "version": "3.9.8"
  }
 },
 "nbformat": 4,
 "nbformat_minor": 5
}

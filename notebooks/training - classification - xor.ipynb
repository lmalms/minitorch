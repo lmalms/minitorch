{
 "cells": [
  {
   "cell_type": "code",
   "execution_count": null,
   "id": "84578aa4",
   "metadata": {},
   "outputs": [],
   "source": [
    "%reload_ext autoreload\n",
    "%autoreload 2"
   ]
  },
  {
   "cell_type": "code",
   "execution_count": null,
   "id": "a358c06e",
   "metadata": {},
   "outputs": [],
   "source": [
    "from dataclasses import asdict\n",
    "\n",
    "import math\n",
    "import random\n",
    "import itertools\n",
    "import numpy as np\n",
    "import matplotlib.pyplot as plt\n",
    "from matplotlib.patches import Rectangle\n",
    "\n",
    "from minitorch.module import Network, Linear\n",
    "from minitorch.optim import SGDOptimizer\n",
    "from minitorch.datasets import Datasets, DatasetTypes\n",
    "from minitorch.operators import sigmoid"
   ]
  },
  {
   "cell_type": "code",
   "execution_count": null,
   "id": "97e29f49",
   "metadata": {},
   "outputs": [],
   "source": [
    "# Create a dataset\n",
    "dataset_type = DatasetTypes.xor\n",
    "\n",
    "datasets = Datasets.generate_datasets(n_samples=50)\n",
    "dataset = asdict(datasets)[dataset_type]\n",
    "\n",
    "pos_class = [x for (x, y) in zip(dataset.xs, dataset.ys) if y == 1]\n",
    "neg_class = [x for (x, y) in zip(dataset.xs, dataset.ys) if y == 0]\n",
    "\n",
    "x1_pos, x2_pos = zip(*pos_class)\n",
    "x1_neg, x2_neg = zip(*neg_class)\n",
    "\n",
    "fig, ax = plt.subplots(1, 1, dpi=110)\n",
    "ax.scatter(list(x1_pos), list(x2_pos), marker=\"x\", c=\"tab:blue\", label=\"class = 1\")\n",
    "ax.scatter(list(x1_neg), list(x2_neg), marker=\"o\", c=\"tab:red\", label=\"class = 0\")\n",
    "ax.legend(loc=1)\n",
    "\n",
    "bottom_left = Rectangle((0, 0), 0.5, 0.5, color=\"tab:red\", alpha=0.2, lw=0.0)\n",
    "top_right = Rectangle((0.5, 0.5), 0.5, 0.5, color=\"tab:red\", alpha=0.2, lw=0.0)\n",
    "top_left = Rectangle((0.0, 0.5), 0.5, 0.5, color=\"tab:blue\", alpha=0.2, lw=0.0)\n",
    "bottom_right = Rectangle((0.5, 0.0), 0.5, 0.5, color=\"tab:blue\", alpha=0.2, lw=0.0)\n",
    "ax.add_patch(bottom_left)\n",
    "ax.add_patch(bottom_right)\n",
    "ax.add_patch(top_left)\n",
    "ax.add_patch(top_right)\n",
    "\n",
    "ax.set_xlabel(\"x1\")\n",
    "ax.set_ylabel(\"x2\")\n",
    "\n",
    "fig.tight_layout();"
   ]
  },
  {
   "cell_type": "code",
   "execution_count": null,
   "id": "6e5f1536",
   "metadata": {},
   "outputs": [],
   "source": [
    "# Create a network\n",
    "network = Network(input_dim=2, hidden_dim=10, output_dim=1)"
   ]
  },
  {
   "cell_type": "code",
   "execution_count": null,
   "id": "a4f48f8d",
   "metadata": {},
   "outputs": [],
   "source": [
    "# Define an optimizer\n",
    "optimizer = SGDOptimizer(parameters=network.parameters(), lr=0.3)"
   ]
  },
  {
   "cell_type": "code",
   "execution_count": null,
   "id": "d5a59965",
   "metadata": {},
   "outputs": [],
   "source": [
    "# Data\n",
    "X = [list(x) for x in dataset.xs]\n",
    "y_true = dataset.ys"
   ]
  },
  {
   "cell_type": "code",
   "execution_count": null,
   "id": "974f07de",
   "metadata": {},
   "outputs": [],
   "source": [
    "# Training loop\n",
    "n_epochs = 150\n",
    "losses = []\n",
    "\n",
    "for epoch in range(n_epochs): \n",
    "    \n",
    "    # Zero all grads\n",
    "    optimizer.zero_grad()\n",
    "    \n",
    "    # Forward\n",
    "    y_hat = network.forward(X)\n",
    "\n",
    "    # Convert to binary class probabilties\n",
    "    y_hat = [[scalar.sigmoid() for scalar in row] for row in y_hat]\n",
    "\n",
    "    # Compute a loss\n",
    "    loss_per_epoch = 0\n",
    "    for i in range(len(y_true)):\n",
    "        loss_per_epoch += (y_hat[i][0].log() if y_true[i] == 1.0 else (- y_hat[i][0] + 1).log())\n",
    "    loss_per_epoch = (- loss_per_epoch / len(y_true))\n",
    "    loss_per_epoch.backward()\n",
    "    \n",
    "    optimizer.step()\n",
    "    \n",
    "    # Record\n",
    "    losses.append(loss_per_epoch.data)\n",
    "    if epoch % 10 == 0:\n",
    "        print(f\"epoch {epoch}: loss = {loss_per_epoch.data}\")"
   ]
  },
  {
   "cell_type": "code",
   "execution_count": null,
   "id": "36d29f4b",
   "metadata": {},
   "outputs": [],
   "source": [
    "y_hat = network.forward(X)\n",
    "y_hat = [[scalar.sigmoid() for scalar in row] for row in y_hat]\n",
    "y_hat_classes = [[1 if proba.data >= 0.5 else 0 for proba in row] for row in y_hat]\n",
    "y_hat_classes = list(itertools.chain.from_iterable(y_hat_classes))"
   ]
  },
  {
   "cell_type": "code",
   "execution_count": null,
   "id": "bb16fc49",
   "metadata": {},
   "outputs": [],
   "source": [
    "# Accuraccy\n",
    "sum(\n",
    "    [\n",
    "        1 if y_hat_c == y_true_c \n",
    "        else 0 for (y_hat_c, y_true_c) in zip(y_hat_classes, y_true)\n",
    "    ]\n",
    ") / len(y_true)"
   ]
  },
  {
   "cell_type": "code",
   "execution_count": null,
   "id": "c0b1130c",
   "metadata": {},
   "outputs": [],
   "source": [
    "# Visualising predictions\n",
    "\n",
    "# Plot original data\n",
    "fig, ax = plt.subplots(1, 1, dpi=110)\n",
    "ax.scatter(list(x1_pos), list(x2_pos), marker=\"x\", c=\"tab:blue\")\n",
    "ax.scatter(list(x1_neg), list(x2_neg), marker=\"o\", c=\"tab:red\")\n",
    "\n",
    "# Generate mesh for predictions\n",
    "n_steps = 51\n",
    "x1_positions = list(np.linspace(0, 1.0, n_steps))\n",
    "x2_positions = list(np.linspace(0, 1.0, n_steps))\n",
    "\n",
    "# Generate predictions for each point on mesh\n",
    "y_hat = np.zeros(shape=(n_steps, n_steps))\n",
    "for i, x1 in enumerate(x1_positions):\n",
    "    X = [[x1, x2] for x2 in x2_positions]\n",
    "    y_hat_ = network.forward(X)\n",
    "    y_hat_ = [[s.sigmoid().data for s in sample] for sample in y_hat_]\n",
    "    y_hat[:, i] = np.array(y_hat_).flatten()\n",
    "\n",
    "\n",
    "# Plot predictions as rectangles\n",
    "for i, (x1_lower, x1_upper) in enumerate(zip(x1_positions, x1_positions[1:])):\n",
    "    for j, (x2_lower, x2_upper) in enumerate(zip(x2_positions, x2_positions[1:])):\n",
    "        rect = Rectangle(\n",
    "            (x1_lower, x2_lower), \n",
    "            (x1_upper - x1_lower),\n",
    "            (x2_upper - x2_lower), \n",
    "            color=\"tab:blue\" if y_hat[i, j] >= 0.5 else \"tab:red\",\n",
    "            alpha=(y_hat[i, j] - 0.5) if y_hat[i, j] >= 0.5 else (0.5 - y_hat[i, j]),\n",
    "            lw=0.0\n",
    "        )\n",
    "        ax.add_patch(rect)\n",
    "\n",
    "        \n",
    "ax.set_xlabel(\"x1\")\n",
    "ax.set_ylabel(\"x2\")\n",
    "fig.tight_layout();"
   ]
  },
  {
   "cell_type": "code",
   "execution_count": null,
   "id": "72de0389",
   "metadata": {},
   "outputs": [],
   "source": []
  }
 ],
 "metadata": {
  "kernelspec": {
   "display_name": "minitorch",
   "language": "python",
   "name": "minitorch"
  },
  "language_info": {
   "codemirror_mode": {
    "name": "ipython",
    "version": 3
   },
   "file_extension": ".py",
   "mimetype": "text/x-python",
   "name": "python",
   "nbconvert_exporter": "python",
   "pygments_lexer": "ipython3",
   "version": "3.9.8"
  }
 },
 "nbformat": 4,
 "nbformat_minor": 5
}

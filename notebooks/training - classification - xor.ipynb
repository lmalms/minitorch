{
 "cells": [
  {
   "cell_type": "code",
   "execution_count": 7,
   "id": "b49f506d",
   "metadata": {},
   "outputs": [],
   "source": [
    "%reload_ext autoreload\n",
    "%autoreload 2"
   ]
  },
  {
   "cell_type": "code",
   "execution_count": 1,
   "id": "a358c06e",
   "metadata": {},
   "outputs": [],
   "source": [
    "from dataclasses import asdict\n",
    "\n",
    "import math\n",
    "import random\n",
    "import itertools\n",
    "import numpy as np\n",
    "import matplotlib.pyplot as plt\n",
    "from matplotlib.patches import Rectangle\n",
    "\n",
    "from minitorch.module import Network, Linear\n",
    "from minitorch.optim import SGDOptimizer\n",
    "from minitorch.datasets import Datasets, DatasetTypes\n",
    "from minitorch.operators import sigmoid"
   ]
  },
  {
   "cell_type": "code",
   "execution_count": 2,
   "id": "97e29f49",
   "metadata": {},
   "outputs": [
    {
     "data": {
      "image/png": "[encoded data removed]",
      "text/plain": [
       "<Figure size 660x440 with 1 Axes>"
      ]
     },
     "metadata": {
      "needs_background": "light"
     },
     "output_type": "display_data"
    }
   ],
   "source": [
    "# Create a dataset\n",
    "dataset_type = DatasetTypes.xor\n",
    "\n",
    "datasets = Datasets.generate_datasets(n_samples=50)\n",
    "dataset = asdict(datasets)[dataset_type]\n",
    "\n",
    "pos_class = [x for (x, y) in zip(dataset.xs, dataset.ys) if y == 1]\n",
    "neg_class = [x for (x, y) in zip(dataset.xs, dataset.ys) if y == 0]\n",
    "\n",
    "x1_pos, x2_pos = zip(*pos_class)\n",
    "x1_neg, x2_neg = zip(*neg_class)\n",
    "\n",
    "fig, ax = plt.subplots(1, 1, dpi=110)\n",
    "ax.scatter(list(x1_pos), list(x2_pos), marker=\"x\", c=\"tab:blue\", label=\"class = 1\")\n",
    "ax.scatter(list(x1_neg), list(x2_neg), marker=\"o\", c=\"tab:red\", label=\"class = 0\")\n",
    "ax.legend(loc=1)\n",
    "\n",
    "bottom_left = Rectangle((0, 0), 0.5, 0.5, color=\"tab:red\", alpha=0.2, lw=0.0)\n",
    "top_right = Rectangle((0.5, 0.5), 0.5, 0.5, color=\"tab:red\", alpha=0.2, lw=0.0)\n",
    "top_left = Rectangle((0.0, 0.5), 0.5, 0.5, color=\"tab:blue\", alpha=0.2, lw=0.0)\n",
    "bottom_right = Rectangle((0.5, 0.0), 0.5, 0.5, color=\"tab:blue\", alpha=0.2, lw=0.0)\n",
    "ax.add_patch(bottom_left)\n",
    "ax.add_patch(bottom_right)\n",
    "ax.add_patch(top_left)\n",
    "ax.add_patch(top_right)\n",
    "\n",
    "ax.set_xlabel(\"x1\")\n",
    "ax.set_ylabel(\"x2\")\n",
    "\n",
    "fig.tight_layout();"
   ]
  },
  {
   "cell_type": "code",
   "execution_count": 3,
   "id": "6e5f1536",
   "metadata": {},
   "outputs": [],
   "source": [
    "# Create a network\n",
    "network = Network(input_dim=2, hidden_dim=10, output_dim=1)"
   ]
  },
  {
   "cell_type": "code",
   "execution_count": 4,
   "id": "a4f48f8d",
   "metadata": {},
   "outputs": [],
   "source": [
    "# Define an optimizer\n",
    "optimizer = SGDOptimizer(parameters=network.parameters(), lr=0.3)"
   ]
  },
  {
   "cell_type": "code",
   "execution_count": 5,
   "id": "d5a59965",
   "metadata": {},
   "outputs": [],
   "source": [
    "# Data\n",
    "X = [list(x) for x in dataset.xs]\n",
    "y_true = dataset.ys"
   ]
  },
  {
   "cell_type": "code",
   "execution_count": 6,
   "id": "974f07de",
   "metadata": {},
   "outputs": [
    {
     "name": "stdout",
     "output_type": "stream",
     "text": [
      "epoch 0: loss = 1.4464786227779372\n",
      "epoch 10: loss = 0.6704164749689968\n",
      "epoch 20: loss = 0.651164946169503\n",
      "epoch 30: loss = 0.6283928398470062\n",
      "epoch 40: loss = 0.6002301378711432\n",
      "epoch 50: loss = 0.5668323752367792\n",
      "epoch 60: loss = 0.5308571520192061\n",
      "epoch 70: loss = 0.4948898234377975\n",
      "epoch 80: loss = 0.4633581522743803\n",
      "epoch 90: loss = 0.43667523263265057\n"
     ]
    }
   ],
   "source": [
    "# Training loop\n",
    "n_epochs = 100\n",
    "losses = []\n",
    "\n",
    "for epoch in range(n_epochs): \n",
    "    \n",
    "    # Zero all grads\n",
    "    optimizer.zero_grad()\n",
    "    \n",
    "    # Forward\n",
    "    y_hat = network.forward(X)\n",
    "\n",
    "    # Convert to binary class probabilties\n",
    "    y_hat = [[scalar.sigmoid() for scalar in row] for row in y_hat]\n",
    "\n",
    "    # Compute a loss\n",
    "    loss_per_epoch = 0\n",
    "    for i in range(len(y_true)):\n",
    "        loss_per_epoch += (y_hat[i][0].log() if y_true[i] == 1.0 else (- y_hat[i][0] + 1).log())\n",
    "    loss_per_epoch = (- loss_per_epoch / len(y_true))\n",
    "    loss_per_epoch.backward()\n",
    "    \n",
    "    optimizer.step()\n",
    "    \n",
    "    # Record\n",
    "    losses.append(loss_per_epoch.data)\n",
    "    if epoch % 10 == 0:\n",
    "        print(f\"epoch {epoch}: loss = {loss_per_epoch.data}\")"
   ]
  },
  {
   "cell_type": "code",
   "execution_count": 7,
   "id": "36d29f4b",
   "metadata": {},
   "outputs": [],
   "source": [
    "y_hat = network.forward(X)\n",
    "y_hat = [[scalar.sigmoid() for scalar in row] for row in y_hat]\n",
    "y_hat_classes = [[1 if proba.data >= 0.5 else 0 for proba in row] for row in y_hat]\n",
    "y_hat_classes = list(itertools.chain.from_iterable(y_hat_classes))"
   ]
  },
  {
   "cell_type": "code",
   "execution_count": 8,
   "id": "bb16fc49",
   "metadata": {},
   "outputs": [
    {
     "data": {
      "text/plain": [
       "0.86"
      ]
     },
     "execution_count": 8,
     "metadata": {},
     "output_type": "execute_result"
    }
   ],
   "source": [
    "# Accuraccy\n",
    "sum(\n",
    "    [\n",
    "        1 if y_hat_c == y_true_c \n",
    "        else 0 for (y_hat_c, y_true_c) in zip(y_hat_classes, y_true)\n",
    "    ]\n",
    ") / len(y_true)"
   ]
  },
  {
   "cell_type": "code",
   "execution_count": 9,
   "id": "78eb24a6",
   "metadata": {},
   "outputs": [
    {
     "data": {
      "text/plain": [
       "<matplotlib.collections.PathCollection at 0x7fb69f7e6af0>"
      ]
     },
     "execution_count": 9,
     "metadata": {},
     "output_type": "execute_result"
    },
    {
     "data": {
      "image/png": "[encoded data removed]",
      "text/plain": [
       "<Figure size 660x440 with 1 Axes>"
      ]
     },
     "metadata": {
      "needs_background": "light"
     },
     "output_type": "display_data"
    }
   ],
   "source": [
    "# Visualising predictions\n",
    "fig, ax = plt.subplots(1, 1, dpi=110)\n",
    "ax.scatter(list(x1_pos), list(x2_pos), marker=\"x\", c=\"tab:blue\")\n",
    "ax.scatter(list(x1_neg), list(x2_neg), marker=\"o\", c=\"tab:red\")"
   ]
  },
  {
   "cell_type": "code",
   "execution_count": 21,
   "id": "c1115c80",
   "metadata": {},
   "outputs": [
    {
     "data": {
      "text/plain": [
       "<matplotlib.collections.QuadMesh at 0x7fb6a3d06760>"
      ]
     },
     "execution_count": 21,
     "metadata": {},
     "output_type": "execute_result"
    },
    {
     "data": {
      "image/png": "[encoded data removed]",
      "text/plain": [
       "<Figure size 432x288 with 1 Axes>"
      ]
     },
     "metadata": {
      "needs_background": "light"
     },
     "output_type": "display_data"
    }
   ],
   "source": [
    "c = np.random.randn(5, 5)\n",
    "plt.pcolormesh(\n",
    "    np.linspace(0, 1, 5),\n",
    "    np.linspace(0, 1, 5),\n",
    "    c,\n",
    "    cmap=\"coolwarm\"\n",
    ")"
   ]
  },
  {
   "cell_type": "code",
   "execution_count": 22,
   "id": "a6e33324",
   "metadata": {},
   "outputs": [
    {
     "data": {
      "text/plain": [
       "array([[ 1.99724352, -0.8137693 , -1.7492228 , -1.69280025, -1.07443073],\n",
       "       [ 0.66046026, -0.50433945,  1.75918266,  0.42924577, -1.0375759 ],\n",
       "       [ 1.85434069, -0.32165779, -1.95142085,  1.00280412,  0.50182869],\n",
       "       [-0.90403646, -0.02512757,  1.10960978, -0.75699035, -1.95461185],\n",
       "       [-0.71785342,  0.12759679,  1.24655174,  0.67557348,  0.75252627]])"
      ]
     },
     "execution_count": 22,
     "metadata": {},
     "output_type": "execute_result"
    }
   ],
   "source": [
    "c"
   ]
  },
  {
   "cell_type": "code",
   "execution_count": 44,
   "id": "23f16955",
   "metadata": {},
   "outputs": [
    {
     "data": {
      "text/plain": [
       "<matplotlib.collections.PathCollection at 0x7fb686674880>"
      ]
     },
     "execution_count": 44,
     "metadata": {},
     "output_type": "execute_result"
    },
    {
     "data": {
      "image/png": "[encoded data removed]",
      "text/plain": [
       "<Figure size 660x440 with 1 Axes>"
      ]
     },
     "metadata": {
      "needs_background": "light"
     },
     "output_type": "display_data"
    }
   ],
   "source": [
    "x1_positions = list(np.linspace(0, 1.0, 21))\n",
    "x2_positions = list(np.linspace(0, 1.0, 21))\n",
    "\n",
    "Y = np.zeros(shape=(21, 21))\n",
    "\n",
    "for i, x1 in enumerate(x1_positions):\n",
    "    X = [[x1, x2] for x2 in x2_positions]\n",
    "    y_hat = network.forward(X)\n",
    "    y_hat = [[s.sigmoid().data for s in sample] for sample in y_hat]\n",
    "    Y[:, i] = np.array(y_hat).flatten()\n",
    "\n",
    "    \n",
    "# Visualising predictions\n",
    "fig, ax = plt.subplots(1, 1, dpi=110)\n",
    "ax.pcolormesh(x1_positions, x2_positions, Y, cmap=\"coolwarm_r\", alpha=0.25)\n",
    "ax.scatter(list(x1_pos), list(x2_pos), marker=\"x\", c=\"tab:blue\")\n",
    "ax.scatter(list(x1_neg), list(x2_neg), marker=\"o\", c=\"tab:red\")\n"
   ]
  },
  {
   "cell_type": "code",
   "execution_count": 41,
   "id": "e821f491",
   "metadata": {},
   "outputs": [],
   "source": [
    "from matplotlib.colors import LinearSegmentedColormap"
   ]
  },
  {
   "cell_type": "code",
   "execution_count": 42,
   "id": "9ec1aa8d",
   "metadata": {},
   "outputs": [],
   "source": [
    "from matplotlib import colormaps"
   ]
  },
  {
   "cell_type": "code",
   "execution_count": 43,
   "id": "19e023a6",
   "metadata": {},
   "outputs": [
    {
     "data": {
      "image/png": "[encoded data removed]",
      "text/html": [
       "<div style=\"vertical-align: middle;\"><strong>coolwarm_r</strong> </div><div class=\"cmap\"><img alt=\"coolwarm_r colormap\" title=\"coolwarm_r\" style=\"border: 1px solid #555;\" src=\"data:image/png;base64,iVBORw0KGgoAAAANSUhEUgAAAgAAAABACAYAAABsv8+/AAAAGXRFWHRUaXRsZQBjb29sd2FybV9yIGNvbG9ybWFwWhD8tgAAAB90RVh0RGVzY3JpcHRpb24AY29vbHdhcm1fciBjb2xvcm1hcCA4PfgAAAAwdEVYdEF1dGhvcgBNYXRwbG90bGliIHYzLjUuMSwgaHR0cHM6Ly9tYXRwbG90bGliLm9yZ/e3zs8AAAAydEVYdFNvZnR3YXJlAE1hdHBsb3RsaWIgdjMuNS4xLCBodHRwczovL21hdHBsb3RsaWIub3Jn2RFR6AAAAiFJREFUeJzt1kGOnDAURVHblWwl+5eyP5xBAS0MLigps3fOhLaxPzVq3fr39aeXUkr7XUsppdT12X59uW7tvX6t6/VZW73ef7XD+zacq214P85rx3Pn9+3j+f+//16XbV0/3yvjnFrX/cncev3dMrs/mVfq9ffLzf3x++Oc6frpvXo9p9cv763PPjnXJ/fG/fm56/Xsfi+f5/6cG9bj+dn7cf/xers/7I/PPu4fzy/Tc8/2f+6Xz/f28+W798PcZbK/rU/vT3OH/f50fza/XJ6f37/ZX+7O9Ztz7z+W5dn+OG8/t/+efjy/r8d5/XB+6bP9yfeW47nT/mz++gPO87+bt825v79c7u/3h3n331ku3z+du/13AQCCCAAACCQAACCQAACAQAIAAAIJAAAIJAAAIJAAAIBAAgAAAgkAAAgkAAAgkAAAgEACAAACCQAACCQAACCQAACAQAIAAAIJAAAIJAAAIJAAAIBAAgAAAgkAAAgkAAAgkAAAgEACAAACCQAACCQAACCQAACAQAIAAAIJAAAIJAAAIJAAAIBAAgAAAgkAAAgkAAAgkAAAgEACAAACCQAACCQAACCQAACAQAIAAAIJAAAIJAAAIJAAAIBAAgAAAgkAAAgkAAAgkAAAgEACAAACCQAACCQAACCQAACAQAIAAAIJAAAIJAAAIJAAAIBAAgAAAgkAAAgkAAAgkAAAgEACAAACCQAACCQAACDQP+uDO9TQv7OkAAAAAElFTkSuQmCC\"></div><div style=\"vertical-align: middle; max-width: 514px; display: flex; justify-content: space-between;\"><div style=\"float: left;\"><div title=\"#b40426ff\" style=\"display: inline-block; width: 1em; height: 1em; margin: 0; vertical-align: middle; border: 1px solid #555; background-color: #b40426ff;\"></div> under</div><div style=\"margin: 0 auto; display: inline-block;\">bad <div title=\"#00000000\" style=\"display: inline-block; width: 1em; height: 1em; margin: 0; vertical-align: middle; border: 1px solid #555; background-color: #00000000;\"></div></div><div style=\"float: right;\">over <div title=\"#3b4cc0ff\" style=\"display: inline-block; width: 1em; height: 1em; margin: 0; vertical-align: middle; border: 1px solid #555; background-color: #3b4cc0ff;\"></div></div>"
      ],
      "text/plain": [
       "<matplotlib.colors.LinearSegmentedColormap at 0x7fb685fa1d90>"
      ]
     },
     "execution_count": 43,
     "metadata": {},
     "output_type": "execute_result"
    }
   ],
   "source": [
    "colormaps[\"coolwarm_r\"]"
   ]
  },
  {
   "cell_type": "code",
   "execution_count": null,
   "id": "01e21f1d",
   "metadata": {},
   "outputs": [],
   "source": [
    "# Visualising predictions\n",
    "fig, ax = plt.subplots(1, 1, dpi=110)\n",
    "ax.scatter(list(x1_pos), list(x2_pos), marker=\"x\", c=\"tab:blue\")\n",
    "ax.scatter(list(x1_neg), list(x2_neg), marker=\"o\", c=\"tab:red\")\n",
    "\n",
    "# Visualise decision boundaries\n",
    "\n",
    "x1_positions = list(np.linspace(0, 0.5, 10))\n",
    "x2_range = list(np.linspace(0, 0.5, 10))\n",
    "\n",
    "for bias_lower, bias_upper in zip(bias_positions, bias_positions[1:]):\n",
    "    \n",
    "    # Create corresponding x2 values for lower\n",
    "    X_lower = [list((x1, bias_lower - x1)) for x1 in x_range]\n",
    "    \n",
    "    # Clamp values to between 0.0 and 1.0\n",
    "    X_lower = [[x1, max(min(x2, 1.0), 0.0)] for (x1, x2) in X_lower]\n",
    "    y_lower = linear.forward(X_lower)\n",
    "    y_mean_lower = sigmoid(sum(scalar[0].data for scalar in y_lower) / len(y_lower))\n",
    "\n",
    "    # Create corresponding x2 values for upper\n",
    "    X_upper = [list((x1, bias_upper - x1)) for x1 in x_range]\n",
    "    \n",
    "    # Clamp upper and lower bounds\n",
    "    X_upper = [[x1, max(min(x2, 1.0), 0.0)] for (x1, x2) in X_upper]\n",
    "    y_upper = linear.forward(X_upper)\n",
    "    y_mean_upper = sigmoid(sum(scalar[0].data for scalar in y_upper) / len(y_upper))\n",
    "\n",
    "    # Plot and fill    \n",
    "    ax.fill_between(\n",
    "        x_range,\n",
    "        [x2 for (_, x2) in X_lower],\n",
    "        [x2 for (_, x2) in X_upper],\n",
    "        alpha=(y_mean_lower - 0.5) if y_mean_lower >= 0.5 else (0.5 - y_mean_lower),\n",
    "        color=\"tab:blue\" if y_mean_lower >= 0.5 else \"tab:red\",\n",
    "        lw=0.01\n",
    "    )\n",
    "    \n",
    "\n",
    "ax.set_xlabel(\"x1\")\n",
    "ax.set_ylabel(\"x2\")\n",
    "\n",
    "fig.tight_layout();"
   ]
  }
 ],
 "metadata": {
  "kernelspec": {
   "display_name": "minitorch",
   "language": "python",
   "name": "minitorch"
  },
  "language_info": {
   "codemirror_mode": {
    "name": "ipython",
    "version": 3
   },
   "file_extension": ".py",
   "mimetype": "text/x-python",
   "name": "python",
   "nbconvert_exporter": "python",
   "pygments_lexer": "ipython3",
   "version": "3.9.8"
  }
 },
 "nbformat": 4,
 "nbformat_minor": 5
}

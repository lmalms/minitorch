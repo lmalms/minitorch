{
 "cells": [
  {
   "cell_type": "code",
   "execution_count": 1,
   "metadata": {},
   "outputs": [],
   "source": [
    "from typing import Tuple\n",
    "\n",
    "import numpy as np\n",
    "\n",
    "import minitorch.autodiff.tensor_functions as tf\n",
    "from minitorch import operators\n",
    "from minitorch.autodiff import Context, Tensor, topological_sort\n",
    "from minitorch.autodiff.tensor_ops import SimpleBackend"
   ]
  },
  {
   "cell_type": "code",
   "execution_count": 2,
   "metadata": {},
   "outputs": [],
   "source": [
    "class TensorFunction2(tf.TensorFunction):\n",
    "    @classmethod\n",
    "    def _forward(cls, ctx: Context, x: Tensor, y: Tensor) -> Tensor:\n",
    "        \"\"\"f(x, y) = x * y + x\"\"\"\n",
    "        ctx.save_for_backward(x, y)\n",
    "        return x.func.add_zip(x.func.mul_zip(x, y), x)\n",
    "\n",
    "    @classmethod\n",
    "    def _backward(cls, ctx: Context, grad_out: Tensor) -> Tuple[Tensor, ...]:\n",
    "        \"\"\"f'_x(x, y) = y + 1 ; f'_y(x, y) = x\"\"\"\n",
    "        x, y = ctx.saved_tensors\n",
    "        df_dx = grad_out.func.mul_zip(grad_out, y.func.add_zip(y, y._ensure_tensor(1)))\n",
    "        df_dy = grad_out.func.mul_zip(grad_out, x)\n",
    "        return df_dx, df_dy"
   ]
  },
  {
   "cell_type": "code",
   "execution_count": 3,
   "metadata": {},
   "outputs": [],
   "source": [
    "# Create tensors\n",
    "x = tf.ones(shape=(3,)) * 0.5\n",
    "x.requires_grad = True\n",
    "x.name = \"tensor x\"\n",
    "\n",
    "y = tf.ones(shape=(5, 1)) * 0.75\n",
    "y.requires_grad = True\n",
    "y.name = \"tensor y\"\n",
    "\n",
    "z = tf.ones(shape=(1, 3)) * 0.5\n",
    "z.requires_grad = True\n",
    "z.name = \"tensor z\"\n",
    "\n",
    "\n",
    "w = tf.ones(shape=(5, 3)) * 0.25\n",
    "w.requires_grad = True\n",
    "w.name = \"tensor w\""
   ]
  },
  {
   "cell_type": "code",
   "execution_count": 4,
   "metadata": {},
   "outputs": [],
   "source": [
    "# Forward - once\n",
    "out1 = TensorFunction2.apply(x, y)\n",
    "out1.name = \"tensor out1\"\n",
    "out2 = TensorFunction2.apply(out1, z)\n",
    "out2.name = \"tensor out2\"\n",
    "out3 = TensorFunction2.apply(out2, w)\n",
    "out3.name = \"tensor out3\"\n",
    "\n",
    "diff_chain = topological_sort(out3)"
   ]
  },
  {
   "cell_type": "code",
   "execution_count": 5,
   "metadata": {},
   "outputs": [
    {
     "data": {
      "text/plain": [
       "['tensor out3',\n",
       " 'tensor out2',\n",
       " 'tensor w',\n",
       " 'tensor out1',\n",
       " 'tensor z',\n",
       " 'tensor x',\n",
       " 'tensor y']"
      ]
     },
     "execution_count": 5,
     "metadata": {},
     "output_type": "execute_result"
    }
   ],
   "source": [
    "[t.name for t in diff_chain]"
   ]
  },
  {
   "cell_type": "code",
   "execution_count": 6,
   "metadata": {},
   "outputs": [
    {
     "name": "stdout",
     "output_type": "stream",
     "text": [
      "running back prop for var = tensor out3\n",
      "computed diffs wrt. inputs ['tensor out2', 'tensor w']\n",
      "pased down upstream diff grad out\n",
      "0.0\n",
      "0.0\n",
      "=====\n",
      "running back prop for var = tensor out2\n",
      "computed diffs wrt. inputs ['tensor out1', 'tensor z']\n",
      "pased down upstream diff diff tensor out3 wrt. tensor out2\n",
      "0.0\n",
      "0.0\n",
      "=====\n",
      "running back prop for var = tensor w\n",
      "skipping var = tensor w - its a leaf\n",
      "=====\n",
      "running back prop for var = tensor out1\n",
      "computed diffs wrt. inputs ['tensor x', 'tensor y']\n",
      "pased down upstream diff diff tensor out2 wrt. tensor out1\n",
      "0.0\n",
      "0.0\n",
      "=====\n",
      "running back prop for var = tensor z\n",
      "skipping var = tensor z - its a leaf\n",
      "=====\n",
      "running back prop for var = tensor x\n",
      "skipping var = tensor x - its a leaf\n",
      "=====\n",
      "running back prop for var = tensor y\n",
      "skipping var = tensor y - its a leaf\n",
      "=====\n"
     ]
    }
   ],
   "source": [
    "# Backward\n",
    "grad_out = Tensor.make(\n",
    "    [0.5 for _ in range(out3.size)],\n",
    "    shape=out3.shape,\n",
    "    backend=SimpleBackend,\n",
    ")\n",
    "grad_out.name = \"grad out\"\n",
    "out3.backward(grad_out=grad_out)"
   ]
  },
  {
   "cell_type": "code",
   "execution_count": null,
   "metadata": {},
   "outputs": [],
   "source": [
    "\n",
    "out2 = TensorFunction2.apply(out1, z)\n",
    "out3 = TensorFunction2.apply(out2, w)\n",
    "\n",
    "\n",
    "\n",
    "# Check derivatives - calculated from torch.\n",
    "# expected_grad = np.array([8.2031 for _ in range(x.size)])\n",
    "# assert x.derivative is not None\n",
    "# assert x.derivative.shape == x.shape\n",
    "# assert np.allclose(np.array(x.derivative.data.storage), expected_grad)\n",
    "\n",
    "# expected_grad = np.array([1.4062 for _ in range(y.size)])\n",
    "# assert y.derivative is not None\n",
    "# assert y.derivative.shape == y.shape\n",
    "# assert np.allclose(np.array(y.derivative.data.storage), expected_grad)\n",
    "\n",
    "# expected_grad = np.array([2.7344 for _ in range(z.size)])\n",
    "# assert z.derivative is not None\n",
    "# assert z.derivative.shape == z.shape\n",
    "# assert np.allclose(np.array(z.derivative.data.storage), expected_grad)\n",
    "\n",
    "# expected_grad = np.array([0.6562 for _ in range(w.size)])\n",
    "# assert w.derivative is not None\n",
    "# assert w.derivative.shape == w.shape\n",
    "# assert np.allclose(np.array(w.derivative.data.storage), expected_grad)"
   ]
  },
  {
   "cell_type": "code",
   "execution_count": null,
   "metadata": {},
   "outputs": [],
   "source": []
  },
  {
   "cell_type": "code",
   "execution_count": null,
   "metadata": {},
   "outputs": [],
   "source": [
    "hash(s.id_)"
   ]
  },
  {
   "cell_type": "code",
   "execution_count": null,
   "metadata": {},
   "outputs": [],
   "source": []
  }
 ],
 "metadata": {
  "kernelspec": {
   "display_name": "Python 3.9.8 ('minitorch')",
   "language": "python",
   "name": "python3"
  },
  "language_info": {
   "codemirror_mode": {
    "name": "ipython",
    "version": 3
   },
   "file_extension": ".py",
   "mimetype": "text/x-python",
   "name": "python",
   "nbconvert_exporter": "python",
   "pygments_lexer": "ipython3",
   "version": "3.9.8"
  },
  "orig_nbformat": 4,
  "vscode": {
   "interpreter": {
    "hash": "2b3eb730fa1a7143dca486765832757be3254ffce0a0c66fb50fd2d4e1bf0a07"
   }
  }
 },
 "nbformat": 4,
 "nbformat_minor": 2
}

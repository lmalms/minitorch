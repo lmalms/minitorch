{
 "cells": [
  {
   "cell_type": "code",
   "execution_count": 3,
   "metadata": {},
   "outputs": [],
   "source": [
    "import numba\n",
    "import numpy as np\n",
    "from functools import reduce\n",
    "from operator import mul\n",
    "\n",
    "from minitorch.autodiff.tensor_data import to_index, _Shape, _Index\n",
    "from minitorch.autodiff.fast_tensor_ops import to_index as faster_to_index"
   ]
  },
  {
   "cell_type": "code",
   "execution_count": 32,
   "metadata": {},
   "outputs": [],
   "source": [
    "def to_index(ordinal: int, shape: _Shape, out_index: _Index) -> None:\n",
    "    shape = shape[::-1]\n",
    "    for i, dim in enumerate(shape):\n",
    "        if i == 0:\n",
    "            div = 1\n",
    "        else:\n",
    "            div = np.prod(shape[:i])\n",
    "        idx = (ordinal // div) % dim\n",
    "        out_index[(len(out_index) - 1) - i] = idx\n",
    "    "
   ]
  },
  {
   "cell_type": "code",
   "execution_count": 8,
   "metadata": {},
   "outputs": [],
   "source": [
    "shape = np.array((4, 4, 1))\n",
    "out_index, faster_out_index = np.array([0, 0, 0]), np.array([0, 0, 0])\n",
    "\n",
    "for ordinal in range(reduce(mul, shape.tolist(), 1)):   \n",
    "    to_index(ordinal, shape, out_index)\n",
    "    faster_to_index(ordinal, shape, faster_out_index)\n",
    "\n",
    "    assert np.all(out_index == faster_out_index)"
   ]
  },
  {
   "cell_type": "code",
   "execution_count": 6,
   "metadata": {},
   "outputs": [
    {
     "data": {
      "text/plain": [
       "(array([0, 0, 0]), array([0, 0, 0]))"
      ]
     },
     "execution_count": 6,
     "metadata": {},
     "output_type": "execute_result"
    }
   ],
   "source": [
    "out_index, faster_out_index"
   ]
  },
  {
   "cell_type": "markdown",
   "metadata": {},
   "source": []
  },
  {
   "cell_type": "code",
   "execution_count": null,
   "metadata": {},
   "outputs": [],
   "source": []
  }
 ],
 "metadata": {
  "kernelspec": {
   "display_name": "Python 3.10.8 ('minitorch')",
   "language": "python",
   "name": "python3"
  },
  "language_info": {
   "codemirror_mode": {
    "name": "ipython",
    "version": 3
   },
   "file_extension": ".py",
   "mimetype": "text/x-python",
   "name": "python",
   "nbconvert_exporter": "python",
   "pygments_lexer": "ipython3",
   "version": "3.10.8"
  },
  "orig_nbformat": 4,
  "vscode": {
   "interpreter": {
    "hash": "9a542034fee023ad6c63ac18a1c5c44edd0336f167a20f7c692d1590adc8721c"
   }
  }
 },
 "nbformat": 4,
 "nbformat_minor": 2
}

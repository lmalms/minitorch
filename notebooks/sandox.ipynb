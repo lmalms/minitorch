{
 "cells": [
  {
   "cell_type": "code",
   "execution_count": 14,
   "metadata": {},
   "outputs": [],
   "source": [
    "import numba\n",
    "import numpy as np\n",
    "from functools import reduce\n",
    "from operator import mul\n",
    "\n",
    "from minitorch.autodiff import tensor_functions as tf\n",
    "from minitorch.autodiff.fast_tensor_ops import FastOps\n",
    "from minitorch.autodiff.tensor_ops import SimpleOps, TensorBackend\n",
    "from minitorch import testing"
   ]
  },
  {
   "cell_type": "code",
   "execution_count": 15,
   "metadata": {},
   "outputs": [
    {
     "data": {
      "text/plain": [
       "([('add_constant',\n",
       "   <function minitorch.testing.MathTest.add_constant(x: 'T') -> 'T'>,\n",
       "   <function minitorch.testing.MathTest.add_constant(x: 'T') -> 'T'>),\n",
       "  ('complex',\n",
       "   <function minitorch.testing.MathTest.complex(x: 'T') -> 'T'>,\n",
       "   <function minitorch.testing.MathTestVariable.complex(x: 'T') -> 'T'>),\n",
       "  ('cube',\n",
       "   <function minitorch.testing.MathTest.cube(x: 'T')>,\n",
       "   <function minitorch.testing.MathTest.cube(x: 'T')>),\n",
       "  ('divide',\n",
       "   <function minitorch.testing.MathTest.divide(x: 'T') -> 'T'>,\n",
       "   <function minitorch.testing.MathTest.divide(x: 'T') -> 'T'>),\n",
       "  ('exp',\n",
       "   <function minitorch.testing.MathTest.exp(x: 'T') -> 'T'>,\n",
       "   <function minitorch.testing.MathTestVariable.exp(x: 'T') -> 'T'>),\n",
       "  ('explog',\n",
       "   <function minitorch.testing.MathTest.explog(x: 'T') -> 'T'>,\n",
       "   <function minitorch.testing.MathTestVariable.explog(x: 'T') -> 'T'>),\n",
       "  ('inv',\n",
       "   <function minitorch.testing.MathTest.inv(x: 'T')>,\n",
       "   <function minitorch.testing.MathTest.inv(x: 'T')>),\n",
       "  ('log',\n",
       "   <function minitorch.testing.MathTest.log(x: 'T') -> 'T'>,\n",
       "   <function minitorch.testing.MathTestVariable.log(x: 'T') -> 'T'>),\n",
       "  ('multiply',\n",
       "   <function minitorch.testing.MathTest.multiply(x: 'T') -> 'T'>,\n",
       "   <function minitorch.testing.MathTest.multiply(x: 'T') -> 'T'>),\n",
       "  ('neg',\n",
       "   <function minitorch.testing.MathTest.neg(x: 'T') -> 'T'>,\n",
       "   <function minitorch.testing.MathTest.neg(x: 'T') -> 'T'>),\n",
       "  ('relu',\n",
       "   <function minitorch.testing.MathTest.relu(x: 'T') -> 'T'>,\n",
       "   <function minitorch.testing.MathTestVariable.relu(x: 'T') -> 'T'>),\n",
       "  ('sigmoid',\n",
       "   <function minitorch.testing.MathTest.sigmoid(x: 'T') -> 'T'>,\n",
       "   <function minitorch.testing.MathTestVariable.sigmoid(x: 'T') -> 'T'>),\n",
       "  ('square',\n",
       "   <function minitorch.testing.MathTest.square(x: 'T')>,\n",
       "   <function minitorch.testing.MathTestVariable.square(x: 'T') -> 'T'>),\n",
       "  ('subtract_constant',\n",
       "   <function minitorch.testing.MathTest.subtract_constant(x: 'T') -> 'T'>,\n",
       "   <function minitorch.testing.MathTest.subtract_constant(x: 'T') -> 'T'>)],\n",
       " [('add2',\n",
       "   <function minitorch.testing.MathTest.add2(x: 'T', y: 'T') -> 'T'>,\n",
       "   <function minitorch.testing.MathTest.add2(x: 'T', y: 'T') -> 'T'>),\n",
       "  ('divide2',\n",
       "   <function minitorch.testing.MathTest.divide2(x: 'T', y: 'T') -> 'T'>,\n",
       "   <function minitorch.testing.MathTest.divide2(x: 'T', y: 'T') -> 'T'>),\n",
       "  ('eq2',\n",
       "   <function minitorch.testing.MathTest.eq2(x: 'T', y: 'T') -> 'T'>,\n",
       "   <function minitorch.testing.MathTestVariable.eq2(x: 'T', y: 'T') -> 'T'>),\n",
       "  ('ge2',\n",
       "   <function minitorch.testing.MathTest.ge2(x: 'T', y: 'T') -> 'T'>,\n",
       "   <function minitorch.testing.MathTestVariable.ge2(x: 'T', y: 'T') -> 'T'>),\n",
       "  ('gt2',\n",
       "   <function minitorch.testing.MathTest.gt2(x: 'T', y: 'T') -> 'T'>,\n",
       "   <function minitorch.testing.MathTestVariable.gt2(x: 'T', y: 'T') -> 'T'>),\n",
       "  ('le2',\n",
       "   <function minitorch.testing.MathTest.le2(x: 'T', y: 'T') -> 'T'>,\n",
       "   <function minitorch.testing.MathTestVariable.le2(x: 'T', y: 'T') -> 'T'>),\n",
       "  ('lt2',\n",
       "   <function minitorch.testing.MathTest.lt2(x: 'T', y: 'T') -> 'T'>,\n",
       "   <function minitorch.testing.MathTestVariable.lt2(x: 'T', y: 'T') -> 'T'>),\n",
       "  ('multiply2',\n",
       "   <function minitorch.testing.MathTest.multiply2(x: 'T', y: 'T') -> 'T'>,\n",
       "   <function minitorch.testing.MathTest.multiply2(x: 'T', y: 'T') -> 'T'>)],\n",
       " [('mean_full_reduction',\n",
       "   <function minitorch.testing.MathTest.mean_full_reduction(x: 'List[T]') -> 'T'>,\n",
       "   <function minitorch.testing.MathTestTensor.mean_full_reduction(x: 'Tensor') -> 'Tensor'>),\n",
       "  ('mean_reduction',\n",
       "   <function minitorch.testing.MathTest.mean_reduction(x: 'List[T]') -> 'T'>,\n",
       "   <function minitorch.testing.MathTestTensor.mean_reduction(x: 'Tensor') -> 'Tensor'>),\n",
       "  ('summation_reduction',\n",
       "   <function minitorch.testing.MathTest.summation_reduction(x: 'List[T]') -> 'T'>,\n",
       "   <function minitorch.testing.MathTestTensor.summation_reduction(x: 'Tensor') -> 'Tensor'>)])"
      ]
     },
     "execution_count": 15,
     "metadata": {},
     "output_type": "execute_result"
    }
   ],
   "source": [
    "testing.MathTestTensor._comp_testing()"
   ]
  },
  {
   "cell_type": "code",
   "execution_count": 4,
   "metadata": {},
   "outputs": [],
   "source": [
    "FastBackend = TensorBackend(FastOps)\n",
    "SimpleBackend = TensorBackend(SimpleOps)"
   ]
  },
  {
   "cell_type": "code",
   "execution_count": 5,
   "metadata": {},
   "outputs": [],
   "source": [
    "t_simple = tf.rand(shape=(3, 2), backend=SimpleBackend)\n",
    "t_fast = tf.rand(shape=(3, 2), backend=FastBackend)"
   ]
  },
  {
   "cell_type": "code",
   "execution_count": 7,
   "metadata": {},
   "outputs": [
    {
     "data": {
      "text/plain": [
       "\n",
       "[\n",
       "\t[0.27896 0.83176]\n",
       "\t[0.17914 0.45068]\n",
       "\t[0.31804 0.36079]\n",
       "]"
      ]
     },
     "execution_count": 7,
     "metadata": {},
     "output_type": "execute_result"
    }
   ],
   "source": [
    "t_simple"
   ]
  },
  {
   "cell_type": "code",
   "execution_count": 13,
   "metadata": {},
   "outputs": [
    {
     "data": {
      "text/plain": [
       "\n",
       "[\n",
       "\t[6.27896 6.83176]\n",
       "\t[6.17914 6.45068]\n",
       "\t[6.31804 6.36079]\n",
       "]"
      ]
     },
     "execution_count": 13,
     "metadata": {},
     "output_type": "execute_result"
    }
   ],
   "source": [
    "t_simple + 6"
   ]
  },
  {
   "cell_type": "code",
   "execution_count": 9,
   "metadata": {},
   "outputs": [
    {
     "data": {
      "text/plain": [
       "\n",
       "[\n",
       "\t[0.75765 0.86154]\n",
       "\t[0.47548 0.71621]\n",
       "\t[0.13738 0.77017]\n",
       "]"
      ]
     },
     "execution_count": 9,
     "metadata": {},
     "output_type": "execute_result"
    }
   ],
   "source": [
    "t_fast"
   ]
  },
  {
   "cell_type": "code",
   "execution_count": 12,
   "metadata": {},
   "outputs": [
    {
     "data": {
      "text/plain": [
       "\n",
       "[\n",
       "\t[6.75765 6.86154]\n",
       "\t[6.47548 6.71621]\n",
       "\t[6.13738 6.77017]\n",
       "]"
      ]
     },
     "execution_count": 12,
     "metadata": {},
     "output_type": "execute_result"
    }
   ],
   "source": []
  },
  {
   "cell_type": "code",
   "execution_count": null,
   "metadata": {},
   "outputs": [],
   "source": []
  }
 ],
 "metadata": {
  "kernelspec": {
   "display_name": "Python 3.10.8 ('minitorch')",
   "language": "python",
   "name": "python3"
  },
  "language_info": {
   "codemirror_mode": {
    "name": "ipython",
    "version": 3
   },
   "file_extension": ".py",
   "mimetype": "text/x-python",
   "name": "python",
   "nbconvert_exporter": "python",
   "pygments_lexer": "ipython3",
   "version": "3.10.8"
  },
  "orig_nbformat": 4,
  "vscode": {
   "interpreter": {
    "hash": "9a542034fee023ad6c63ac18a1c5c44edd0336f167a20f7c692d1590adc8721c"
   }
  }
 },
 "nbformat": 4,
 "nbformat_minor": 2
}

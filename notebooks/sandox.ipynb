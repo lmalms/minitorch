{
 "cells": [
  {
   "cell_type": "code",
   "execution_count": 1,
   "metadata": {},
   "outputs": [],
   "source": [
    "from typing import Tuple\n",
    "\n",
    "import numpy as np\n",
    "\n",
    "import minitorch.autodiff.tensor_functions as tf\n",
    "from minitorch import operators\n",
    "from minitorch.module import LinearTensorLayer\n",
    "from minitorch.autodiff import Context, Tensor, topological_sort\n",
    "from minitorch.autodiff.tensor_ops import SimpleBackend"
   ]
  },
  {
   "cell_type": "code",
   "execution_count": 2,
   "metadata": {},
   "outputs": [],
   "source": [
    "input_dim, output_dim = 2, 1\n",
    "linear = LinearTensorLayer(input_dim, output_dim)\n",
    "weights, bias = linear._weights.value, linear._bias.value\n",
    "\n",
    "# Generate some input data\n",
    "n_samples = 10\n",
    "inputs = tf.rand((n_samples, input_dim))\n",
    "targets = tf.tensor([1, 1, 1, 0, 0, 0, 1, 0, 1, 0])\n",
    "\n",
    "# Forward\n",
    "inputs = inputs.view(*inputs.shape, 1)\n",
    "_weights = weights.view(1, *weights.shape)\n",
    "\n",
    "out = (inputs * _weights).sum(dim=1)\n",
    "predictions = out.view(inputs.shape[0], bias.size) + bias\n",
    "predictions = predictions.sigmoid()\n",
    "\n",
    "# Compute loss\n",
    "probas = (predictions * targets) + (predictions - 1.0) * (targets - 1.0)\n",
    "loss = ((-probas.log()) / targets.size).sum()\n",
    "loss.backward()\n"
   ]
  },
  {
   "cell_type": "code",
   "execution_count": 7,
   "metadata": {},
   "outputs": [
    {
     "data": {
      "text/plain": [
       "\n",
       "[\n",
       "\t[-1.40137]\n",
       "\t[-0.96990]\n",
       "]"
      ]
     },
     "execution_count": 7,
     "metadata": {},
     "output_type": "execute_result"
    }
   ],
   "source": [
    "weights.derivative"
   ]
  },
  {
   "cell_type": "markdown",
   "metadata": {},
   "source": [
    "### Compare to torch implementation"
   ]
  },
  {
   "cell_type": "code",
   "execution_count": 5,
   "metadata": {},
   "outputs": [
    {
     "data": {
      "text/plain": [
       "(2, 1)"
      ]
     },
     "execution_count": 5,
     "metadata": {},
     "output_type": "execute_result"
    }
   ],
   "source": [
    "# Compare to torch implementation"
   ]
  },
  {
   "cell_type": "code",
   "execution_count": 7,
   "metadata": {},
   "outputs": [
    {
     "data": {
      "text/plain": [
       "(1,)"
      ]
     },
     "execution_count": 7,
     "metadata": {},
     "output_type": "execute_result"
    }
   ],
   "source": []
  },
  {
   "cell_type": "code",
   "execution_count": null,
   "metadata": {},
   "outputs": [],
   "source": [
    "we"
   ]
  }
 ],
 "metadata": {
  "kernelspec": {
   "display_name": "Python 3.9.8 ('minitorch')",
   "language": "python",
   "name": "python3"
  },
  "language_info": {
   "codemirror_mode": {
    "name": "ipython",
    "version": 3
   },
   "file_extension": ".py",
   "mimetype": "text/x-python",
   "name": "python",
   "nbconvert_exporter": "python",
   "pygments_lexer": "ipython3",
   "version": "3.9.8"
  },
  "orig_nbformat": 4,
  "vscode": {
   "interpreter": {
    "hash": "2b3eb730fa1a7143dca486765832757be3254ffce0a0c66fb50fd2d4e1bf0a07"
   }
  }
 },
 "nbformat": 4,
 "nbformat_minor": 2
}

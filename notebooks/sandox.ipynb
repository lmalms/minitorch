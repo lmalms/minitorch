{
 "cells": [
  {
   "cell_type": "code",
   "execution_count": 102,
   "metadata": {},
   "outputs": [],
   "source": [
    "import numba\n",
    "import numpy as np\n",
    "from functools import reduce\n",
    "from operator import mul\n",
    "\n",
    "from minitorch.autodiff.tensor_data import to_index"
   ]
  },
  {
   "cell_type": "code",
   "execution_count": 2,
   "metadata": {},
   "outputs": [],
   "source": [
    "def index_to_position(index, strides):\n",
    "    position = 0\n",
    "    for i, s in zip(index, strides):\n",
    "        position += i * s\n",
    "    return position\n",
    "\n",
    "\n",
    "index_to_position = numba.njit(inline=\"always\")(index_to_position)"
   ]
  },
  {
   "cell_type": "code",
   "execution_count": 58,
   "metadata": {},
   "outputs": [
    {
     "data": {
      "text/plain": [
       "23"
      ]
     },
     "execution_count": 58,
     "metadata": {},
     "output_type": "execute_result"
    }
   ],
   "source": [
    "shape = 10, 4\n",
    "index = (5, 3)\n",
    "strides = (4, 1)\n",
    "index_to_position(index, strides)"
   ]
  },
  {
   "cell_type": "code",
   "execution_count": 32,
   "metadata": {},
   "outputs": [],
   "source": [
    "def to_index_numba(ordinal: int, shape, out_index):\n",
    "    shape = reversed(shape)\n",
    "    for i in range(len(shape)):\n",
    "        is_last_dim = i == (len(shape) - 1)\n",
    "        if is_last_dim:\n",
    "            out_index[i] = remaining_ordinal\n",
    "        else:\n",
    "            out_index[i] = int(remaining_ordinal // dim)\n",
    "            remaining_ordinal = remaining_ordinal % dim\n",
    "\n",
    "to_index_numba = numba.njit(inline=\"always\")(to_index_numba)\n",
    "    "
   ]
  },
  {
   "cell_type": "code",
   "execution_count": 120,
   "metadata": {},
   "outputs": [
    {
     "data": {
      "text/plain": [
       "array([3, 2, 0])"
      ]
     },
     "execution_count": 120,
     "metadata": {},
     "output_type": "execute_result"
    }
   ],
   "source": [
    "shape = np.array((4, 4, 1))\n",
    "ordinal = 14\n",
    "out_index = np.array([0, 0, 0])\n",
    "to_index(ordinal, shape, out_index)\n",
    "out_index"
   ]
  },
  {
   "cell_type": "code",
   "execution_count": 123,
   "metadata": {},
   "outputs": [
    {
     "data": {
      "text/plain": [
       "array([3, 2, 0])"
      ]
     },
     "execution_count": 123,
     "metadata": {},
     "output_type": "execute_result"
    }
   ],
   "source": [
    "shape = np.array((4, 4, 1))\n",
    "ordinal = 14\n",
    "out_index = np.array([0, 0, 0])\n",
    "\n",
    "# enter function\n",
    "shape = shape[::-1]\n",
    "for i, dim in enumerate(shape):\n",
    "    if i == 0:\n",
    "        div = 1\n",
    "    else:\n",
    "        div = np.prod(shape[:i])\n",
    "    idx = (ordinal // div) % dim\n",
    "    out_index[(len(out_index) - 1) - i] = idx\n",
    "\n",
    "out_index"
   ]
  },
  {
   "cell_type": "code",
   "execution_count": 111,
   "metadata": {},
   "outputs": [
    {
     "data": {
      "text/plain": [
       "()"
      ]
     },
     "execution_count": 111,
     "metadata": {},
     "output_type": "execute_result"
    }
   ],
   "source": [
    "shape[2:2:-1]"
   ]
  },
  {
   "cell_type": "code",
   "execution_count": 99,
   "metadata": {},
   "outputs": [
    {
     "data": {
      "text/plain": [
       "(0, 0, 1)"
      ]
     },
     "execution_count": 99,
     "metadata": {},
     "output_type": "execute_result"
    }
   ],
   "source": [
    "# Last index\n",
    "last = 1 % 2\n",
    "\n",
    "# Middle index\n",
    "middle = (1 // (2)) % 3\n",
    "\n",
    "# because product is now bigger than ordinal\n",
    "first = (1 // (3*2)) % 5\n",
    "\n",
    "(first, middle ,last)"
   ]
  },
  {
   "cell_type": "code",
   "execution_count": 100,
   "metadata": {},
   "outputs": [
    {
     "data": {
      "text/plain": [
       "1"
      ]
     },
     "execution_count": 100,
     "metadata": {},
     "output_type": "execute_result"
    }
   ],
   "source": [
    "l = [1, 2, 3]\n",
    "for i in range(len(l)):\n",
    "    if i == 0:\n",
    "        \n",
    "\n",
    "l[0]"
   ]
  },
  {
   "cell_type": "code",
   "execution_count": null,
   "metadata": {},
   "outputs": [],
   "source": []
  },
  {
   "cell_type": "code",
   "execution_count": 60,
   "metadata": {},
   "outputs": [
    {
     "data": {
      "text/plain": [
       "array([3, 1])"
      ]
     },
     "execution_count": 60,
     "metadata": {},
     "output_type": "execute_result"
    }
   ],
   "source": [
    "shape = (5, 3)\n",
    "ordinal = 10\n",
    "out_index = np.array([0, 0])\n",
    "to_index_numba(ordinal, shape, out_index)\n",
    "out_index"
   ]
  },
  {
   "cell_type": "code",
   "execution_count": 42,
   "metadata": {},
   "outputs": [],
   "source": [
    "def broadcast_index(big_index, big_shape, shape , out_index):\n",
    "    for i in range(len(shape)):\n",
    "        print(i)\n",
    "        offset = i + len(big_shape) - len(shape)\n",
    "        print(offset)\n",
    "        out_index[i] = big_index[offset] if shape[i] != 1 else 0"
   ]
  },
  {
   "cell_type": "code",
   "execution_count": 56,
   "metadata": {},
   "outputs": [
    {
     "name": "stdout",
     "output_type": "stream",
     "text": [
      "0\n",
      "2\n",
      "1\n",
      "3\n"
     ]
    },
    {
     "data": {
      "text/plain": [
       "array([3, 0])"
      ]
     },
     "execution_count": 56,
     "metadata": {},
     "output_type": "execute_result"
    }
   ],
   "source": [
    "big_shape = (1, 5, 5, 3)\n",
    "big_index = (0, 0, 3, 1)\n",
    "shape = (5, 1)\n",
    "out_index = np.array([0, 0])\n",
    "\n",
    "broadcast_index(big_index, big_shape, shape, out_index)\n",
    "out_index\n"
   ]
  },
  {
   "cell_type": "code",
   "execution_count": 48,
   "metadata": {},
   "outputs": [],
   "source": [
    "def to_numpy(*inputs):\n",
    "    out = \n",
    "    return [np.array(in_) for in_ in inputs]\n",
    "\n",
    "to_numpy = numba.njit(inline=\"always\")(to_numpy)"
   ]
  },
  {
   "cell_type": "code",
   "execution_count": 49,
   "metadata": {},
   "outputs": [],
   "source": [
    "shape1 = (1, 2, 3)\n",
    "shape2 = (2, 3, 4)\n",
    "shape3 = (3, 4, 5)\n",
    "shape1, shape2, shape3 = to_numpy(shape1, shape2, shape3)"
   ]
  },
  {
   "cell_type": "code",
   "execution_count": 52,
   "metadata": {},
   "outputs": [
    {
     "data": {
      "text/plain": [
       "array([[0., 0., 0.]])"
      ]
     },
     "execution_count": 52,
     "metadata": {},
     "output_type": "execute_result"
    }
   ],
   "source": [
    "np.zeros(np.array([1, 3]))"
   ]
  },
  {
   "cell_type": "code",
   "execution_count": null,
   "metadata": {},
   "outputs": [],
   "source": []
  }
 ],
 "metadata": {
  "kernelspec": {
   "display_name": "Python 3.9.8 ('minitorch')",
   "language": "python",
   "name": "python3"
  },
  "language_info": {
   "codemirror_mode": {
    "name": "ipython",
    "version": 3
   },
   "file_extension": ".py",
   "mimetype": "text/x-python",
   "name": "python",
   "nbconvert_exporter": "python",
   "pygments_lexer": "ipython3",
   "version": "3.9.8"
  },
  "orig_nbformat": 4,
  "vscode": {
   "interpreter": {
    "hash": "2b3eb730fa1a7143dca486765832757be3254ffce0a0c66fb50fd2d4e1bf0a07"
   }
  }
 },
 "nbformat": 4,
 "nbformat_minor": 2
}

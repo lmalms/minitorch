{
 "cells": [
  {
   "cell_type": "code",
   "execution_count": 1,
   "metadata": {},
   "outputs": [],
   "source": [
    "from typing import Tuple\n",
    "\n",
    "import torch\n",
    "import numpy as np\n",
    "\n",
    "import minitorch.autodiff.tensor_functions as tf\n",
    "from minitorch import operators\n",
    "from minitorch.module import LinearTensorLayer, Parameter\n",
    "from minitorch.autodiff import Context, Tensor, topological_sort\n",
    "from minitorch.autodiff.tensor_ops import SimpleBackend"
   ]
  },
  {
   "cell_type": "code",
   "execution_count": null,
   "metadata": {},
   "outputs": [],
   "source": [
    "input_dim, output_dim = 2, 1\n",
    "weights = LinearTensorLayer._initialise_parameter(input_dim, output_dim).value\n",
    "bias = LinearTensorLayer._initialise_parameter(output_dim).value\n",
    "\n",
    "# Generate some input data\n",
    "n_samples = 10\n",
    "inputs = tf.rand((n_samples, input_dim))\n",
    "targets = tf.tensor([1, 1, 1, 0, 0, 0, 1, 0, 1, 0])\n",
    "\n",
    "# Forward\n",
    "inputs = inputs.view(*inputs.shape, 1)\n",
    "_weights = weights.view(1, *weights.shape)\n",
    "\n",
    "out = (inputs * _weights).sum(dim=1)\n",
    "predictions = out.view(inputs.shape[0], bias.size) + bias\n",
    "predictions = predictions.view(targets.size).sigmoid()\n",
    "\n",
    "predictions_ = (predictions * targets) + (predictions - 1.0) * (targets - 1.0)\n",
    "predictions_sum = predictions_.sum()\n",
    "predictions_sum.backward()\n",
    "\n",
    "# Compute loss\n",
    "# probas = (predictions * targets) + (predictions - 1.0) * (targets - 1.0)\n",
    "# loss = ((-probas.log()) / targets.size).sum()\n",
    "# loss.backward()\n"
   ]
  },
  {
   "cell_type": "code",
   "execution_count": null,
   "metadata": {},
   "outputs": [],
   "source": [
    "# Test loss\n",
    "out = tf.rand((10, ), requires_grad=True)\n",
    "predictions = out.sigmoid()\n",
    "targets = tf.tensor([1, 1, 1, 0, 0, 0, 1, 0, 1, 0])\n",
    "\n",
    "predictions_ = (predictions * targets) + (predictions - 1.0) * (targets - 1.0)\n",
    "predictions_.sum().backward()\n",
    "\n",
    "out.grad"
   ]
  },
  {
   "cell_type": "code",
   "execution_count": null,
   "metadata": {},
   "outputs": [],
   "source": [
    "## Compare to torch\n",
    "torch_out = torch.tensor(out.data.storage, requires_grad=True)\n",
    "torch_predictions = torch_out.sigmoid()\n",
    "torch_targets = torch.tensor(targets.data.storage)\n",
    "\n",
    "torch_predictions_ = (torch_predictions * torch_targets) + (torch_predictions - 1.0) * (torch_targets - 1.0)\n",
    "torch_predictions_.sum().backward()\n",
    "\n",
    "torch_out.grad"
   ]
  },
  {
   "cell_type": "code",
   "execution_count": 2,
   "metadata": {},
   "outputs": [
    {
     "data": {
      "text/plain": [
       "\n",
       "[1.00000 1.00000 1.00000 -1.00000 -1.00000 -1.00000 1.00000 -1.00000 1.00000 -1.00000]"
      ]
     },
     "execution_count": 2,
     "metadata": {},
     "output_type": "execute_result"
    }
   ],
   "source": [
    "# Test loss without sigmoid\n",
    "predictions = tf.rand((10, ), requires_grad=True)\n",
    "targets = tf.tensor([1, 1, 1, 0, 0, 0, 1, 0, 1, 0])\n",
    "\n",
    "predictions_ = (predictions * targets) + (predictions - 1.0) * (targets - 1.0)\n",
    "predictions_.sum().backward()\n",
    "\n",
    "predictions.grad"
   ]
  },
  {
   "cell_type": "code",
   "execution_count": 3,
   "metadata": {},
   "outputs": [
    {
     "data": {
      "text/plain": [
       "tensor([ 1.,  1.,  1., -1., -1., -1.,  1., -1.,  1., -1.], dtype=torch.float64)"
      ]
     },
     "execution_count": 3,
     "metadata": {},
     "output_type": "execute_result"
    }
   ],
   "source": [
    "## Compare to torch\n",
    "torch_predictions = torch.tensor(predictions.data.storage, requires_grad=True)\n",
    "torch_targets = torch.tensor(targets.data.storage)\n",
    "\n",
    "torch_predictions_ = (torch_predictions * torch_targets) + (torch_predictions - 1.0) * (torch_targets - 1.0)\n",
    "torch_predictions_.sum().backward()\n",
    "\n",
    "torch_predictions.grad"
   ]
  },
  {
   "cell_type": "markdown",
   "metadata": {},
   "source": [
    "### Compare to torch implementation"
   ]
  },
  {
   "cell_type": "code",
   "execution_count": null,
   "metadata": {},
   "outputs": [],
   "source": [
    "import torch"
   ]
  },
  {
   "cell_type": "code",
   "execution_count": null,
   "metadata": {},
   "outputs": [],
   "source": [
    "torch_predictions = torch.tensor(predictions.data.storage, requires_grad=True)\n",
    "torch_targets = torch.tensor(targets.data.storage)\n",
    "\n",
    "torch_predictions_ = (torch_predictions * torch_targets) + (torch_predictions - 1.0) * (torch_targets - 1.0)\n",
    "torch_predictions_.sum().backward()"
   ]
  },
  {
   "cell_type": "code",
   "execution_count": null,
   "metadata": {},
   "outputs": [],
   "source": [
    "torch_predictions.grad"
   ]
  },
  {
   "cell_type": "code",
   "execution_count": null,
   "metadata": {},
   "outputs": [],
   "source": [
    "torch_out = torch.tensor(out.data.storage, requires_grad=True)\n",
    "torch_out_flatten = torch_out.view(10)\n",
    "torch_predictions = torch_out_flatten.sigmoid()\n",
    "torch_targets = torch.tensor(targets.data.storage)\n",
    "\n",
    "torch_predictions_ = (torch_predictions * torch_targets) + (torch_predictions - 1.0) * (torch_targets - 1.0)\n",
    "torch_predictions_.sum().backward()"
   ]
  },
  {
   "cell_type": "code",
   "execution_count": null,
   "metadata": {},
   "outputs": [],
   "source": [
    "torch_out.grad"
   ]
  },
  {
   "cell_type": "code",
   "execution_count": null,
   "metadata": {},
   "outputs": [],
   "source": [
    "torch_weights = torch.tensor(weights.data.storage, requires_grad=True)\n",
    "torch_bias = torch.tensor(bias.data.storage, requires_grad=True)\n",
    "\n",
    "torch_weights_ = torch_weights.view((input_dim, output_dim))\n",
    "torch_bias_ = torch_bias.view((output_dim, ))\n",
    "\n",
    "torch_inputs = torch.tensor(inputs.data.storage).view((n_samples, input_dim))\n",
    "torch_targets = torch.tensor(targets.data.storage).view((n_samples, ))\n",
    "\n",
    "# Forward\n",
    "torch_out = torch_inputs @ torch_weights_ + torch_bias_\n",
    "torch_predictions = torch_out.sigmoid().view((n_samples, ))\n",
    "\n",
    "# Backward\n",
    "torch_predictions_ = (torch_predictions * torch_targets) + (torch_predictions - 1.0) * (torch_targets - 1.0)\n",
    "torch_predictions_.sum().backward()"
   ]
  },
  {
   "cell_type": "code",
   "execution_count": null,
   "metadata": {},
   "outputs": [],
   "source": [
    "torch_weights.grad"
   ]
  },
  {
   "cell_type": "code",
   "execution_count": null,
   "metadata": {},
   "outputs": [],
   "source": [
    "torch_bias.grad"
   ]
  },
  {
   "cell_type": "code",
   "execution_count": null,
   "metadata": {},
   "outputs": [],
   "source": []
  }
 ],
 "metadata": {
  "kernelspec": {
   "display_name": "Python 3.9.8 ('minitorch')",
   "language": "python",
   "name": "python3"
  },
  "language_info": {
   "codemirror_mode": {
    "name": "ipython",
    "version": 3
   },
   "file_extension": ".py",
   "mimetype": "text/x-python",
   "name": "python",
   "nbconvert_exporter": "python",
   "pygments_lexer": "ipython3",
   "version": "3.9.8"
  },
  "orig_nbformat": 4,
  "vscode": {
   "interpreter": {
    "hash": "2b3eb730fa1a7143dca486765832757be3254ffce0a0c66fb50fd2d4e1bf0a07"
   }
  }
 },
 "nbformat": 4,
 "nbformat_minor": 2
}

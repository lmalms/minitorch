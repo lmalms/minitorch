{
 "cells": [
  {
   "cell_type": "code",
   "execution_count": null,
   "id": "6269f70b",
   "metadata": {},
   "outputs": [],
   "source": [
    "import os\n",
    "os.chdir(\"../src\")"
   ]
  },
  {
   "cell_type": "markdown",
   "id": "e8e15982",
   "metadata": {},
   "source": [
    "### Experiment with training"
   ]
  },
  {
   "cell_type": "code",
   "execution_count": null,
   "id": "aff8faee",
   "metadata": {},
   "outputs": [],
   "source": [
    "from typing import List, Iterable, Union\n",
    "\n",
    "import random\n",
    "import matplotlib.pyplot as plt\n",
    "\n",
    "from minitorch.autodiff import Scalar\n",
    "from minitorch.optim import SGDOptimizer\n",
    "\n",
    "\n",
    "random.seed(0)"
   ]
  },
  {
   "cell_type": "code",
   "execution_count": null,
   "id": "60c243ac",
   "metadata": {},
   "outputs": [],
   "source": [
    "# Generate some data\n",
    "n_samples = 100\n",
    "\n",
    "xs = list(range(n_samples))\n",
    "errors = [random.gauss(0, 10) for _ in range(n_samples)]\n",
    "m_true = Scalar(1.5)\n",
    "c_true = Scalar(5)\n",
    "y_true = [c_true + m_true * x + error for (x, error) in zip(xs, errors)]\n",
    "\n",
    "len(xs), len(y_true)"
   ]
  },
  {
   "cell_type": "code",
   "execution_count": null,
   "id": "3be58689",
   "metadata": {},
   "outputs": [],
   "source": [
    "plt.scatter(xs, [y.data for y in y_true])\n",
    "plt.xlabel(\"x\")\n",
    "plt.ylabel(\"y\");"
   ]
  },
  {
   "cell_type": "code",
   "execution_count": null,
   "id": "a9f4151c",
   "metadata": {},
   "outputs": [],
   "source": [
    "# Utils for training    \n",
    "def mean_squared_error(y_hat: List[Scalar], y_true: List[Scalar]) -> Scalar:\n",
    "    sum_of_squares = sum((y_t - y_h).square() for y_t, y_h in zip(y_true, y_hat))\n",
    "    return sum_of_squares / len(y_hat)\n",
    "\n",
    "def forward(xs: List[Union[float, Scalar]], m: Scalar, c: Scalar) -> List[Scalar]:\n",
    "    return [(m*x + c) for x in xs]\n",
    "\n",
    "def update(lr: float, parameters: Iterable[Scalar]) -> Iterable[Scalar]:\n",
    "    for parameter in parameters:\n",
    "        parameter.data = parameter.data - lr * parameter.derivative\n",
    "    return parameters\n",
    "\n",
    "def zero_grad(parameters: Iterable[Scalar]) -> Iterable[Scalar]:\n",
    "    for parameter in parameters:\n",
    "        parameter.zero_grad_()\n",
    "    return parameters"
   ]
  },
  {
   "cell_type": "code",
   "execution_count": null,
   "id": "3290feba",
   "metadata": {},
   "outputs": [],
   "source": [
    "# Scale data\n",
    "xs_mean = sum(xs) / len(xs)\n",
    "xs_std = (sum((x - xs_mean)**2 for x in xs) / (len(xs) - 1)) ** 1/2\n",
    "xs_scaled = [(x - xs_mean) / xs_std for x in xs]\n",
    "\n",
    "y_true_mean = sum(y_true) / len(y_true)\n",
    "y_true_var = (sum((y - y_true_mean).square() for y in y_true) / (len(y_true) - 1))\n",
    "y_true_std = y_true_var.data ** 1/2\n",
    "y_true_scaled = [(y - y_true_mean) / y_true_std for y in y_true]"
   ]
  },
  {
   "cell_type": "code",
   "execution_count": null,
   "id": "8a7cb0da",
   "metadata": {},
   "outputs": [],
   "source": [
    "plt.scatter(xs_scaled, [y.data for y in y_true_scaled])\n",
    "plt.xlabel(\"x\")\n",
    "plt.ylabel(\"y\");"
   ]
  },
  {
   "cell_type": "code",
   "execution_count": null,
   "id": "44b74bf5",
   "metadata": {},
   "outputs": [],
   "source": [
    "# Initialise parameters to estimate\n",
    "m_hat = Scalar(random.gauss(0, 1))\n",
    "c_hat = Scalar(0)\n",
    "\n",
    "m_hat.requires_grad_(True)\n",
    "c_hat.requires_grad_(False)\n",
    "\n",
    "# Training loop\n",
    "n_epochs = 100\n",
    "learing_rate = 5.0\n",
    "\n",
    "m_hats, c_hats, losses = [], [], []\n",
    "for n_epoch in range(n_epochs):\n",
    "    \n",
    "    y_hat = forward(xs_scaled, m_hat, c_hat)\n",
    "    loss = mean_squared_error(y_hat, y_true_scaled)\n",
    "    loss.backward()\n",
    "    update(lr=learing_rate, parameters=[m_hat])\n",
    "    zero_grad(parameters=[m_hat])\n",
    "    \n",
    "    # Save values from epoch\n",
    "    losses.append(loss.data)\n",
    "    m_hats.append(m_hat.data)\n",
    "    c_hats.append(c_hat.data)"
   ]
  },
  {
   "cell_type": "code",
   "execution_count": null,
   "id": "22700a81",
   "metadata": {},
   "outputs": [],
   "source": [
    "fig, ax = plt.subplots(1, 2, figsize=(10, 3), dpi=150)\n",
    "\n",
    "# Loss vs. epoch\n",
    "ax[0].plot(list(range(n_epochs)), losses)\n",
    "ax[0].set_xlabel(\"Epoch\")\n",
    "ax[0].set_ylabel(\"Loss\")\n",
    "\n",
    "# True vs. predicted w.r.t. epoch\n",
    "for epoch in list(range(n_epochs))[::15]:\n",
    "    ax[1].plot(\n",
    "        xs_scaled, \n",
    "        [(m_hats[epoch] * x + c_hat).data for x in xs_scaled],\n",
    "        label=f\"y_hat, epoch {epoch}\"\n",
    "    )\n",
    "ax[1].plot(xs_scaled, [y.data for y in y_hat])\n",
    "ax[1].scatter(xs_scaled, [y.data for y in y_true_scaled])\n",
    "ax[1].legend(fontsize=\"x-small\")\n",
    "\n",
    "fig.tight_layout()"
   ]
  },
  {
   "cell_type": "code",
   "execution_count": null,
   "id": "2b1033e2",
   "metadata": {},
   "outputs": [],
   "source": []
  }
 ],
 "metadata": {
  "kernelspec": {
   "display_name": "minitorch",
   "language": "python",
   "name": "minitorch"
  },
  "language_info": {
   "codemirror_mode": {
    "name": "ipython",
    "version": 3
   },
   "file_extension": ".py",
   "mimetype": "text/x-python",
   "name": "python",
   "nbconvert_exporter": "python",
   "pygments_lexer": "ipython3",
   "version": "3.9.8"
  }
 },
 "nbformat": 4,
 "nbformat_minor": 5
}

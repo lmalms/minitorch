{
 "cells": [
  {
   "cell_type": "code",
   "execution_count": 1,
   "id": "c15865e7",
   "metadata": {},
   "outputs": [],
   "source": [
    "import numpy as np\n",
    "\n",
    "from minitorch.autodiff import Tensor, TensorData, topological_sort, tensor\n",
    "from minitorch.functional import product\n",
    "import minitorch.autodiff.tensor_functions as tf\n",
    "from minitorch.autodiff.tensor_functions import grad_central_difference, grad_check\n",
    "\n",
    "from minitorch.testing import MathTestOperators, MathTestVariable"
   ]
  },
  {
   "cell_type": "markdown",
   "id": "219ece4c",
   "metadata": {},
   "source": [
    "### Tensors"
   ]
  },
  {
   "cell_type": "code",
   "execution_count": 2,
   "id": "53cb2934",
   "metadata": {},
   "outputs": [],
   "source": [
    "# Creation\n",
    "shape = (1, 2, 1)\n",
    "\n",
    "data1 = np.ones(shape).flatten() * 3\n",
    "data2 = np.ones(shape).flatten() * 3\n",
    "td1 = TensorData(data1, shape=shape)\n",
    "td2 = TensorData(data2, shape=shape)\n",
    "t1, t2 = Tensor(data=td1, name=\"Tensor1\"), Tensor(data=td2, name=\"Tensor2\")\n",
    "\n",
    "t1.requires_grad = True\n",
    "t2.requires_grad = True"
   ]
  },
  {
   "cell_type": "code",
   "execution_count": 3,
   "id": "f03d78a8",
   "metadata": {},
   "outputs": [],
   "source": [
    "order = (1, 2, 0)\n",
    "t1_per = t1.permute(*order)\n",
    "t2_per = t2.permute(*order)\n",
    "\n",
    "t3 = t1_per + t2_per\n",
    "t3.sum().backward()"
   ]
  },
  {
   "cell_type": "code",
   "execution_count": 4,
   "id": "e4fbf72e",
   "metadata": {},
   "outputs": [
    {
     "data": {
      "text/plain": [
       "\n",
       "[\n",
       "\t[\n",
       "\t\t[1.00]\n",
       "\t\t[1.00]\n",
       "\t]\n",
       "]"
      ]
     },
     "execution_count": 4,
     "metadata": {},
     "output_type": "execute_result"
    }
   ],
   "source": [
    "t1.grad"
   ]
  },
  {
   "cell_type": "code",
   "execution_count": null,
   "id": "5cef094f",
   "metadata": {},
   "outputs": [],
   "source": []
  }
 ],
 "metadata": {
  "kernelspec": {
   "display_name": "minitorch",
   "language": "python",
   "name": "minitorch"
  },
  "language_info": {
   "codemirror_mode": {
    "name": "ipython",
    "version": 3
   },
   "file_extension": ".py",
   "mimetype": "text/x-python",
   "name": "python",
   "nbconvert_exporter": "python",
   "pygments_lexer": "ipython3",
   "version": "3.9.8"
  }
 },
 "nbformat": 4,
 "nbformat_minor": 5
}

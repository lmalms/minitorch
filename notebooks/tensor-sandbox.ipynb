{
 "cells": [
  {
   "cell_type": "code",
   "execution_count": 1,
   "id": "c15865e7",
   "metadata": {},
   "outputs": [],
   "source": [
    "import numpy as np\n",
    "\n",
    "from minitorch.autodiff import Tensor, TensorData, topological_sort, tensor\n",
    "from minitorch.functional import product\n",
    "import minitorch.autodiff.tensor_functions as tf\n",
    "from minitorch.autodiff.tensor_functions import grad_central_difference, grad_check\n",
    "from minitorch.module import TensorNetwork\n",
    "\n",
    "from minitorch.testing import MathTestOperators, MathTestVariable"
   ]
  },
  {
   "cell_type": "markdown",
   "id": "219ece4c",
   "metadata": {},
   "source": [
    "### Tensors"
   ]
  },
  {
   "cell_type": "code",
   "execution_count": 4,
   "id": "815e9165",
   "metadata": {},
   "outputs": [],
   "source": [
    "input_dim, hidden_dim, output_dim = 2, 3, 1\n",
    "network = TensorNetwork(input_dim, hidden_dim, output_dim)\n",
    "\n",
    "n_samples = 5\n",
    "inputs = tf.rand((n_samples, input_dim))\n",
    "out_ = network.forward(inputs)"
   ]
  },
  {
   "cell_type": "code",
   "execution_count": 6,
   "id": "f082627d",
   "metadata": {},
   "outputs": [],
   "source": [
    "y_true = tf.tensor([\n",
    "    [1],\n",
    "    [1],\n",
    "    [0],\n",
    "    [1],\n",
    "    [0]\n",
    "])"
   ]
  },
  {
   "cell_type": "code",
   "execution_count": 7,
   "id": "82c35028",
   "metadata": {},
   "outputs": [],
   "source": [
    "y_hat = tf.tensor([\n",
    "    [0.5],\n",
    "    [0.3],\n",
    "    [0.7],\n",
    "    [0.1],\n",
    "    [0.2]\n",
    "])"
   ]
  },
  {
   "cell_type": "code",
   "execution_count": 20,
   "id": "b55103e3",
   "metadata": {},
   "outputs": [
    {
     "data": {
      "text/plain": [
       "\n",
       "[\n",
       "\t[-0.69]\n",
       "\t[-1.20]\n",
       "\t[-1.20]\n",
       "\t[-2.30]\n",
       "\t[-0.22]\n",
       "]"
      ]
     },
     "execution_count": 20,
     "metadata": {},
     "output_type": "execute_result"
    }
   ],
   "source": [
    "((y_true == 1) * y_hat.log() + (y_true == 0) * (-y_hat + 1).log())"
   ]
  },
  {
   "cell_type": "code",
   "execution_count": 24,
   "id": "fb0d5bf3",
   "metadata": {},
   "outputs": [
    {
     "data": {
      "text/plain": [
       "\n",
       "[\n",
       "\t[1.00]\n",
       "\t[1.00]\n",
       "\t[1.00]\n",
       "\t[1.00]\n",
       "\t[1.00]\n",
       "]"
      ]
     },
     "execution_count": 24,
     "metadata": {},
     "output_type": "execute_result"
    }
   ],
   "source": []
  },
  {
   "cell_type": "code",
   "execution_count": 15,
   "id": "5316dac6",
   "metadata": {},
   "outputs": [
    {
     "data": {
      "text/plain": [
       "-0.2231435513142097"
      ]
     },
     "execution_count": 15,
     "metadata": {},
     "output_type": "execute_result"
    }
   ],
   "source": [
    "np.log(0.8)"
   ]
  },
  {
   "cell_type": "code",
   "execution_count": null,
   "id": "5f957bee",
   "metadata": {},
   "outputs": [],
   "source": []
  }
 ],
 "metadata": {
  "kernelspec": {
   "display_name": "minitorch",
   "language": "python",
   "name": "minitorch"
  },
  "language_info": {
   "codemirror_mode": {
    "name": "ipython",
    "version": 3
   },
   "file_extension": ".py",
   "mimetype": "text/x-python",
   "name": "python",
   "nbconvert_exporter": "python",
   "pygments_lexer": "ipython3",
   "version": "3.9.8"
  }
 },
 "nbformat": 4,
 "nbformat_minor": 5
}

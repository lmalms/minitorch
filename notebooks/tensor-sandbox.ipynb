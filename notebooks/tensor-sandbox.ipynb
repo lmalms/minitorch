{
 "cells": [
  {
   "cell_type": "code",
   "execution_count": 2,
   "id": "c15865e7",
   "metadata": {},
   "outputs": [],
   "source": [
    "import numpy as np\n",
    "\n",
    "from minitorch.autodiff import Tensor, TensorData, topological_sort, tensor\n",
    "from minitorch.functional import product\n",
    "import minitorch.autodiff.tensor_functions as tf\n",
    "from minitorch.autodiff.tensor_functions import grad_central_difference, grad_check\n",
    "from minitorch.module import TensorNetwork\n",
    "\n",
    "from minitorch.testing import MathTestOperators, MathTestVariable"
   ]
  },
  {
   "cell_type": "markdown",
   "id": "219ece4c",
   "metadata": {},
   "source": [
    "### Tensors"
   ]
  },
  {
   "cell_type": "code",
   "execution_count": 3,
   "id": "815e9165",
   "metadata": {},
   "outputs": [],
   "source": [
    "input_dim, hidden_dim, output_dim = 2, 3, 1\n",
    "network = TensorNetwork(input_dim, hidden_dim, output_dim)\n",
    "\n",
    "n_samples = 5\n",
    "inputs = tf.rand((n_samples, input_dim))\n",
    "out_ = network.forward(inputs)"
   ]
  },
  {
   "cell_type": "code",
   "execution_count": 25,
   "id": "5f957bee",
   "metadata": {},
   "outputs": [],
   "source": [
    "shape = (5, 2)\n",
    "t1 = tf.ones(shape)\n",
    "t2 = tf.ones(shape) * 2\n",
    "\n",
    "t1.requires_grad = True\n",
    "t2.requires_grad = True"
   ]
  },
  {
   "cell_type": "code",
   "execution_count": 26,
   "id": "e76117ea",
   "metadata": {},
   "outputs": [],
   "source": [
    "t3 = t1 * t2"
   ]
  },
  {
   "cell_type": "code",
   "execution_count": 27,
   "id": "5054b57f",
   "metadata": {},
   "outputs": [],
   "source": [
    "t1.derivative"
   ]
  },
  {
   "cell_type": "code",
   "execution_count": 28,
   "id": "e3f85873",
   "metadata": {},
   "outputs": [],
   "source": [
    "t3.sum().backward()"
   ]
  },
  {
   "cell_type": "code",
   "execution_count": 29,
   "id": "c1ae3782",
   "metadata": {},
   "outputs": [
    {
     "data": {
      "text/plain": [
       "\n",
       "[\n",
       "\t[2.00000 2.00000]\n",
       "\t[2.00000 2.00000]\n",
       "\t[2.00000 2.00000]\n",
       "\t[2.00000 2.00000]\n",
       "\t[2.00000 2.00000]\n",
       "]"
      ]
     },
     "execution_count": 29,
     "metadata": {},
     "output_type": "execute_result"
    }
   ],
   "source": [
    "t1.derivative"
   ]
  },
  {
   "cell_type": "code",
   "execution_count": null,
   "id": "e890fa4d",
   "metadata": {},
   "outputs": [],
   "source": []
  },
  {
   "cell_type": "code",
   "execution_count": null,
   "id": "3e430e0d",
   "metadata": {},
   "outputs": [],
   "source": []
  }
 ],
 "metadata": {
  "kernelspec": {
   "display_name": "minitorch",
   "language": "python",
   "name": "minitorch"
  },
  "language_info": {
   "codemirror_mode": {
    "name": "ipython",
    "version": 3
   },
   "file_extension": ".py",
   "mimetype": "text/x-python",
   "name": "python",
   "nbconvert_exporter": "python",
   "pygments_lexer": "ipython3",
   "version": "3.9.8"
  }
 },
 "nbformat": 4,
 "nbformat_minor": 5
}

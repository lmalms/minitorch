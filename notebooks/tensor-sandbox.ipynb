{
 "cells": [
  {
   "cell_type": "code",
   "execution_count": 1,
   "id": "c15865e7",
   "metadata": {},
   "outputs": [],
   "source": [
    "import numpy as np\n",
    "\n",
    "from minitorch.autodiff import Tensor, TensorData, topological_sort, tensor\n",
    "from minitorch.functional import product\n",
    "import minitorch.autodiff.tensor_functions as tf\n",
    "from minitorch.autodiff.tensor_functions import grad_central_difference, grad_check\n",
    "\n",
    "from minitorch.testing import MathTestOperators, MathTestVariable"
   ]
  },
  {
   "cell_type": "markdown",
   "id": "219ece4c",
   "metadata": {},
   "source": [
    "### Tensors"
   ]
  },
  {
   "cell_type": "code",
   "execution_count": 2,
   "id": "508111f6",
   "metadata": {},
   "outputs": [],
   "source": [
    "# Create tensor\n",
    "input_dim, output_dim = 2, 3\n",
    "\n",
    "weights = tf.rand(shape=(input_dim, output_dim))\n",
    "bias = tf.rand(shape=(output_dim,))"
   ]
  },
  {
   "cell_type": "code",
   "execution_count": 3,
   "id": "f6e2f120",
   "metadata": {},
   "outputs": [],
   "source": [
    "def forward(inputs):\n",
    "    _inputs = inputs.view(*inputs.shape, 1)\n",
    "    _weights = weights.view(1, *weights.shape)\n",
    "\n",
    "    # Collapse dimension\n",
    "    _out = (_inputs * _weights).sum(dim=1)\n",
    "    _out = _out.view(inputs.shape[0], output_dim)\n",
    "    return _out + bias"
   ]
  },
  {
   "cell_type": "code",
   "execution_count": 4,
   "id": "5cef094f",
   "metadata": {},
   "outputs": [
    {
     "data": {
      "text/plain": [
       "\n",
       "[\n",
       "\t[1.36 0.92 1.09]\n",
       "\t[1.42 0.99 1.11]\n",
       "\t[1.31 0.87 1.07]\n",
       "\t[1.38 0.95 1.09]\n",
       "\t[1.29 0.83 1.09]\n",
       "]"
      ]
     },
     "execution_count": 4,
     "metadata": {},
     "output_type": "execute_result"
    }
   ],
   "source": [
    "inputs = tf.rand(shape=(5, 2))\n",
    "outputs = forward(inputs)\n",
    "outputs"
   ]
  },
  {
   "cell_type": "code",
   "execution_count": 5,
   "id": "7eec3b71",
   "metadata": {},
   "outputs": [],
   "source": [
    "# Check same as numpy\n",
    "inputs_np = inputs.data.storage.reshape(inputs.shape)\n",
    "weights_np = weights.data.storage.reshape(weights.shape)\n",
    "bias_np = bias.data.storage.reshape(bias.shape)\n",
    "outputs_np = np.dot(inputs_np, weights_np) + bias"
   ]
  },
  {
   "cell_type": "code",
   "execution_count": 11,
   "id": "63c9e2bd",
   "metadata": {},
   "outputs": [
    {
     "data": {
      "text/plain": [
       "\n",
       "[\n",
       "\t[0.35 0.21]\n",
       "\t[0.38 0.26]\n",
       "\t[0.30 0.21]\n",
       "\t[0.42 0.16]\n",
       "\t[0.12 0.38]\n",
       "]"
      ]
     },
     "execution_count": 11,
     "metadata": {},
     "output_type": "execute_result"
    }
   ],
   "source": [
    "# Output shape should be (5, 3)\n",
    "inputs"
   ]
  },
  {
   "cell_type": "code",
   "execution_count": 10,
   "id": "a8fda040",
   "metadata": {},
   "outputs": [
    {
     "data": {
      "text/plain": [
       "array([[0.35275794, 0.21469372],\n",
       "       [0.37978948, 0.26297949],\n",
       "       [0.29836192, 0.21136386],\n",
       "       [0.41890818, 0.16407718],\n",
       "       [0.11891459, 0.38141199]])"
      ]
     },
     "execution_count": 10,
     "metadata": {},
     "output_type": "execute_result"
    }
   ],
   "source": [
    "inputs_np"
   ]
  },
  {
   "cell_type": "code",
   "execution_count": null,
   "id": "7add1f30",
   "metadata": {},
   "outputs": [],
   "source": []
  }
 ],
 "metadata": {
  "kernelspec": {
   "display_name": "minitorch",
   "language": "python",
   "name": "minitorch"
  },
  "language_info": {
   "codemirror_mode": {
    "name": "ipython",
    "version": 3
   },
   "file_extension": ".py",
   "mimetype": "text/x-python",
   "name": "python",
   "nbconvert_exporter": "python",
   "pygments_lexer": "ipython3",
   "version": "3.9.8"
  }
 },
 "nbformat": 4,
 "nbformat_minor": 5
}

{
 "cells": [
  {
   "cell_type": "code",
   "execution_count": 1,
   "id": "a358c06e",
   "metadata": {},
   "outputs": [],
   "source": [
    "from dataclasses import asdict\n",
    "import math\n",
    "import random\n",
    "import itertools\n",
    "\n",
    "import numpy as np\n",
    "import matplotlib.pyplot as plt\n",
    "from matplotlib.patches import Rectangle\n",
    "\n",
    "from minitorch.module import LinearScalarLayer, LinearTensorLayer, ScalarNetwork, TensorNetwork\n",
    "from minitorch.autodiff import Scalar\n",
    "import minitorch.autodiff.tensor_functions as tf\n",
    "from minitorch.optim import SGDOptimizer\n",
    "from minitorch.datasets import Datasets, DatasetTypes\n",
    "from minitorch.operators import sigmoid\n",
    "import minitorch.scalar_metrics as sm\n",
    "import minitorch.scalar_losses as sl\n",
    "import minitorch.tensor_losses as tl\n",
    "import minitorch.tensor_metrics as tm"
   ]
  },
  {
   "cell_type": "code",
   "execution_count": 2,
   "id": "97e29f49",
   "metadata": {},
   "outputs": [
    {
     "data": {
      "image/png": "[encoded data removed]",
      "text/plain": [
       "<Figure size 660x440 with 1 Axes>"
      ]
     },
     "metadata": {
      "needs_background": "light"
     },
     "output_type": "display_data"
    }
   ],
   "source": [
    "# Create a dataset\n",
    "N_SAMPLES = 50\n",
    "dataset_type = DatasetTypes.split\n",
    "\n",
    "datasets = Datasets.generate_datasets(n_samples=N_SAMPLES)\n",
    "dataset = asdict(datasets)[dataset_type]\n",
    "\n",
    "pos_class = [x for (x, y) in zip(dataset.xs, dataset.ys) if y == 1]\n",
    "neg_class = [x for (x, y) in zip(dataset.xs, dataset.ys) if y == 0]\n",
    "\n",
    "x1_pos, x2_pos = zip(*pos_class)\n",
    "x1_neg, x2_neg = zip(*neg_class)\n",
    "\n",
    "fig, ax = plt.subplots(1, 1, dpi=110)\n",
    "ax.scatter(list(x1_pos), list(x2_pos), marker=\"x\", c=\"tab:blue\", label=\"class = 1\")\n",
    "ax.scatter(list(x1_neg), list(x2_neg), marker=\"o\", c=\"tab:red\", label=\"class = 0\")\n",
    "ax.legend(loc=1)\n",
    "\n",
    "left = Rectangle((0.0, 0.0), 0.2, 1.0, color=\"tab:blue\", alpha=0.2, lw=0.0)\n",
    "center = Rectangle((0.2, 0.0), 0.6, 1.0, color=\"tab:red\", alpha=0.2, lw=0.0)\n",
    "right = Rectangle((0.8, 0.0), 0.2, 1.0, color=\"tab:blue\", alpha=0.2, lw=0.0)\n",
    "\n",
    "ax.add_patch(left)\n",
    "ax.add_patch(center)\n",
    "ax.add_patch(right)\n",
    "\n",
    "ax.set_xlabel(\"x1\")\n",
    "ax.set_ylabel(\"x2\")\n",
    "\n",
    "fig.tight_layout();"
   ]
  },
  {
   "cell_type": "markdown",
   "id": "8ad78481",
   "metadata": {},
   "source": [
    "### Scalars"
   ]
  },
  {
   "cell_type": "code",
   "execution_count": 4,
   "id": "6e5f1536",
   "metadata": {},
   "outputs": [],
   "source": [
    "# Create a network\n",
    "network = ScalarNetwork(input_dim=2, hidden_dim=10, output_dim=1)\n",
    "\n",
    "# Define an optimizer\n",
    "optimizer = SGDOptimizer(parameters=network.parameters(), lr=0.3)\n",
    "\n",
    "# Data\n",
    "X = [list(x) for x in dataset.xs]\n",
    "y_true = dataset.ys"
   ]
  },
  {
   "cell_type": "code",
   "execution_count": 5,
   "id": "974f07de",
   "metadata": {},
   "outputs": [
    {
     "name": "stdout",
     "output_type": "stream",
     "text": [
      "epoch 0: loss = 1.2366267235260124\n",
      "epoch 10: loss = 0.712147780143426\n",
      "epoch 20: loss = 0.6932127320389165\n"
     ]
    },
    {
     "ename": "KeyboardInterrupt",
     "evalue": "",
     "output_type": "error",
     "traceback": [
      "\u001b[0;31m---------------------------------------------------------------------------\u001b[0m",
      "\u001b[0;31mKeyboardInterrupt\u001b[0m                         Traceback (most recent call last)",
      "\u001b[1;32m/Users/lukasmalms/GitHub/minitorch/notebooks/training - classification - split.ipynb Cell 6\u001b[0m in \u001b[0;36m<cell line: 5>\u001b[0;34m()\u001b[0m\n\u001b[1;32m     <a href='vscode-notebook-cell:/Users/lukasmalms/GitHub/minitorch/notebooks/training%20-%20classification%20-%20split.ipynb#W6sZmlsZQ%3D%3D?line=14'>15</a>\u001b[0m y_hat \u001b[39m=\u001b[39m \u001b[39mlist\u001b[39m(itertools\u001b[39m.\u001b[39mchain\u001b[39m.\u001b[39mfrom_iterable(y_hat))\n\u001b[1;32m     <a href='vscode-notebook-cell:/Users/lukasmalms/GitHub/minitorch/notebooks/training%20-%20classification%20-%20split.ipynb#W6sZmlsZQ%3D%3D?line=16'>17</a>\u001b[0m \u001b[39m# Compute a loss\u001b[39;00m\n\u001b[0;32m---> <a href='vscode-notebook-cell:/Users/lukasmalms/GitHub/minitorch/notebooks/training%20-%20classification%20-%20split.ipynb#W6sZmlsZQ%3D%3D?line=17'>18</a>\u001b[0m loss_per_epoch \u001b[39m=\u001b[39m sl\u001b[39m.\u001b[39;49mbinary_cross_entropy(y_true, y_hat)\n\u001b[1;32m     <a href='vscode-notebook-cell:/Users/lukasmalms/GitHub/minitorch/notebooks/training%20-%20classification%20-%20split.ipynb#W6sZmlsZQ%3D%3D?line=18'>19</a>\u001b[0m loss_per_epoch\u001b[39m.\u001b[39mbackward()\n\u001b[1;32m     <a href='vscode-notebook-cell:/Users/lukasmalms/GitHub/minitorch/notebooks/training%20-%20classification%20-%20split.ipynb#W6sZmlsZQ%3D%3D?line=20'>21</a>\u001b[0m optimizer\u001b[39m.\u001b[39mstep()\n",
      "File \u001b[0;32m~/GitHub/minitorch/src/minitorch/scalar_losses.py:33\u001b[0m, in \u001b[0;36mbinary_cross_entropy\u001b[0;34m(y_true, y_hat)\u001b[0m\n\u001b[1;32m     28\u001b[0m _check_for_equal_dim(y_true, y_hat)\n\u001b[1;32m     29\u001b[0m log_likelihoods \u001b[39m=\u001b[39m [\n\u001b[1;32m     30\u001b[0m     y_h\u001b[39m.\u001b[39mlog() \u001b[39mif\u001b[39;00m y_t \u001b[39m==\u001b[39m \u001b[39m1.0\u001b[39m \u001b[39melse\u001b[39;00m (\u001b[39m-\u001b[39my_h \u001b[39m+\u001b[39m \u001b[39m1\u001b[39m)\u001b[39m.\u001b[39mlog()\n\u001b[1;32m     31\u001b[0m     \u001b[39mfor\u001b[39;00m (y_t, y_h) \u001b[39min\u001b[39;00m \u001b[39mzip\u001b[39m(y_true, y_hat)\n\u001b[1;32m     32\u001b[0m ]\n\u001b[0;32m---> 33\u001b[0m cross_entropy \u001b[39m=\u001b[39m \u001b[39m-\u001b[39msummation(log_likelihoods) \u001b[39m/\u001b[39m \u001b[39mlen\u001b[39m(y_true)\n\u001b[1;32m     34\u001b[0m \u001b[39mreturn\u001b[39;00m cross_entropy\n",
      "File \u001b[0;32m~/GitHub/minitorch/src/minitorch/functional.py:63\u001b[0m, in \u001b[0;36msummation\u001b[0;34m(ls)\u001b[0m\n\u001b[1;32m     61\u001b[0m \u001b[39mdef\u001b[39;00m \u001b[39msummation\u001b[39m(ls: List[VariableLike]) \u001b[39m-\u001b[39m\u001b[39m>\u001b[39m VariableLike:\n\u001b[1;32m     62\u001b[0m     \u001b[39m\"\"\"Sums all values in a list.\"\"\"\u001b[39;00m\n\u001b[0;32m---> 63\u001b[0m     \u001b[39mreturn\u001b[39;00m reduce(add, x0\u001b[39m=\u001b[39;49m\u001b[39m0.0\u001b[39;49m)(ls)\n",
      "File \u001b[0;32m~/GitHub/minitorch/src/minitorch/functional.py:24\u001b[0m, in \u001b[0;36mreduce.<locals>.reduction\u001b[0;34m(ls)\u001b[0m\n\u001b[1;32m     22\u001b[0m x \u001b[39m=\u001b[39m x0\n\u001b[1;32m     23\u001b[0m \u001b[39mwhile\u001b[39;00m ls_copy:\n\u001b[0;32m---> 24\u001b[0m     x \u001b[39m=\u001b[39m fn(x, ls_copy[\u001b[39m0\u001b[39;49m])\n\u001b[1;32m     25\u001b[0m     ls_copy\u001b[39m.\u001b[39mpop(\u001b[39m0\u001b[39m)\n\u001b[1;32m     26\u001b[0m \u001b[39mreturn\u001b[39;00m x\n",
      "File \u001b[0;32m~/GitHub/minitorch/src/minitorch/operators.py:23\u001b[0m, in \u001b[0;36madd\u001b[0;34m(x, y)\u001b[0m\n\u001b[1;32m     21\u001b[0m \u001b[39mdef\u001b[39;00m \u001b[39madd\u001b[39m(x: \u001b[39mfloat\u001b[39m, y: \u001b[39mfloat\u001b[39m) \u001b[39m-\u001b[39m\u001b[39m>\u001b[39m \u001b[39mfloat\u001b[39m:\n\u001b[1;32m     22\u001b[0m     \u001b[39m\"\"\"f(x, y) = x + y\"\"\"\u001b[39;00m\n\u001b[0;32m---> 23\u001b[0m     \u001b[39mreturn\u001b[39;00m x \u001b[39m+\u001b[39;49m y\n",
      "File \u001b[0;32m~/GitHub/minitorch/src/minitorch/autodiff/scalar.py:60\u001b[0m, in \u001b[0;36mScalar.__add__\u001b[0;34m(self, other)\u001b[0m\n\u001b[1;32m     59\u001b[0m \u001b[39mdef\u001b[39;00m \u001b[39m__add__\u001b[39m(\u001b[39mself\u001b[39m, other: Union[\u001b[39mint\u001b[39m, \u001b[39mfloat\u001b[39m, Scalar]) \u001b[39m-\u001b[39m\u001b[39m>\u001b[39m Scalar:\n\u001b[0;32m---> 60\u001b[0m     \u001b[39mreturn\u001b[39;00m Add\u001b[39m.\u001b[39;49mapply(\u001b[39mself\u001b[39;49m, other)\n",
      "File \u001b[0;32m~/GitHub/minitorch/src/minitorch/autodiff/variable.py:303\u001b[0m, in \u001b[0;36mBaseFunction.apply\u001b[0;34m(cls, *variables)\u001b[0m\n\u001b[1;32m    299\u001b[0m \u001b[39m# Create new variable from result with new history.\u001b[39;00m\n\u001b[1;32m    300\u001b[0m back \u001b[39m=\u001b[39m (\n\u001b[1;32m    301\u001b[0m     History(last_fn\u001b[39m=\u001b[39m\u001b[39mcls\u001b[39m, ctx\u001b[39m=\u001b[39mctx, inputs\u001b[39m=\u001b[39mvariables) \u001b[39mif\u001b[39;00m requires_grad \u001b[39melse\u001b[39;00m \u001b[39mNone\u001b[39;00m\n\u001b[1;32m    302\u001b[0m )\n\u001b[0;32m--> 303\u001b[0m \u001b[39mreturn\u001b[39;00m \u001b[39mcls\u001b[39;49m\u001b[39m.\u001b[39;49mvariable(c, back)\n",
      "File \u001b[0;32m~/GitHub/minitorch/src/minitorch/autodiff/scalar.py:131\u001b[0m, in \u001b[0;36mScalarFunction.variable\u001b[0;34m(cls, value, history)\u001b[0m\n\u001b[1;32m    129\u001b[0m \u001b[39m@classmethod\u001b[39m\n\u001b[1;32m    130\u001b[0m \u001b[39mdef\u001b[39;00m \u001b[39mvariable\u001b[39m(\u001b[39mcls\u001b[39m, value: Union[\u001b[39mint\u001b[39m, \u001b[39mfloat\u001b[39m], history: History \u001b[39m=\u001b[39m History()) \u001b[39m-\u001b[39m\u001b[39m>\u001b[39m Scalar:\n\u001b[0;32m--> 131\u001b[0m     \u001b[39mreturn\u001b[39;00m Scalar(value, history)\n",
      "File \u001b[0;32m~/GitHub/minitorch/src/minitorch/autodiff/scalar.py:27\u001b[0m, in \u001b[0;36mScalar.__init__\u001b[0;34m(self, value, history, name)\u001b[0m\n\u001b[1;32m     23\u001b[0m \u001b[39mdef\u001b[39;00m \u001b[39m__init__\u001b[39m(\n\u001b[1;32m     24\u001b[0m     \u001b[39mself\u001b[39m, value: \u001b[39mfloat\u001b[39m, history: History \u001b[39m=\u001b[39m History(), name: Optional[\u001b[39mstr\u001b[39m] \u001b[39m=\u001b[39m \u001b[39mNone\u001b[39;00m\n\u001b[1;32m     25\u001b[0m ):\n\u001b[1;32m     26\u001b[0m     \u001b[39msuper\u001b[39m()\u001b[39m.\u001b[39m\u001b[39m__init__\u001b[39m(history\u001b[39m=\u001b[39mhistory, name\u001b[39m=\u001b[39mname)\n\u001b[0;32m---> 27\u001b[0m     \u001b[39mself\u001b[39m\u001b[39m.\u001b[39mdata \u001b[39m=\u001b[39m value\n",
      "File \u001b[0;32m~/GitHub/minitorch/src/minitorch/autodiff/scalar.py:45\u001b[0m, in \u001b[0;36mScalar.data\u001b[0;34m(self, value)\u001b[0m\n\u001b[1;32m     41\u001b[0m \u001b[39mif\u001b[39;00m \u001b[39mnot\u001b[39;00m \u001b[39misinstance\u001b[39m(value, (\u001b[39mfloat\u001b[39m, \u001b[39mint\u001b[39m)):\n\u001b[1;32m     42\u001b[0m     \u001b[39mraise\u001b[39;00m \u001b[39mTypeError\u001b[39;00m(\n\u001b[1;32m     43\u001b[0m         \u001b[39mf\u001b[39m\u001b[39m\"\u001b[39m\u001b[39mScalar values have to be of type int or float - got \u001b[39m\u001b[39m{\u001b[39;00m\u001b[39mtype\u001b[39m(value)\u001b[39m}\u001b[39;00m\u001b[39m.\u001b[39m\u001b[39m\"\u001b[39m\n\u001b[1;32m     44\u001b[0m     )\n\u001b[0;32m---> 45\u001b[0m \u001b[39mself\u001b[39m\u001b[39m.\u001b[39m_data \u001b[39m=\u001b[39m \u001b[39mfloat\u001b[39m(value)\n",
      "\u001b[0;31mKeyboardInterrupt\u001b[0m: "
     ]
    }
   ],
   "source": [
    "# Training loop\n",
    "n_epochs = 150\n",
    "losses = []\n",
    "\n",
    "for epoch in range(n_epochs): \n",
    "    \n",
    "    # Zero all grads\n",
    "    optimizer.zero_grad()\n",
    "    \n",
    "    # Forward\n",
    "    y_hat = network.forward(X)\n",
    "\n",
    "    # Convert to binary class probabilties\n",
    "    y_hat = [[scalar.sigmoid() for scalar in row] for row in y_hat]\n",
    "    y_hat = list(itertools.chain.from_iterable(y_hat))\n",
    "    \n",
    "    # Compute a loss\n",
    "    loss_per_epoch = sl.binary_cross_entropy(y_true, y_hat)\n",
    "    loss_per_epoch.backward()\n",
    "    \n",
    "    optimizer.step()\n",
    "    \n",
    "    # Record\n",
    "    losses.append(loss_per_epoch.data)\n",
    "    if epoch % 10 == 0:\n",
    "        print(f\"epoch {epoch}: loss = {loss_per_epoch.data}\")"
   ]
  },
  {
   "cell_type": "code",
   "execution_count": 6,
   "id": "36d29f4b",
   "metadata": {},
   "outputs": [
    {
     "data": {
      "text/plain": [
       "{'accuracy': Scalar(0.600, name=Scalar369817),\n",
       " 'precision': Scalar(0.000, name=Scalar370068),\n",
       " 'recall': Scalar(0.000, name=Scalar370319)}"
      ]
     },
     "execution_count": 6,
     "metadata": {},
     "output_type": "execute_result"
    }
   ],
   "source": [
    "# Metrics\n",
    "y_true = [Scalar(y_t) for y_t in y_true]\n",
    "y_hat = [[scalar.sigmoid() for scalar in row] for row in network.forward(X)]\n",
    "y_hat = list(itertools.chain.from_iterable(y_hat))\n",
    "\n",
    "# Convert to classes using 0.5 threshold\n",
    "y_hat_classes = [Scalar(1.0) if proba.data >= 0.5 else Scalar(0.0) for proba in y_hat]\n",
    "\n",
    "{\n",
    "    f.__name__: f(y_true=y_true, y_hat=y_hat_classes)\n",
    "    for f in [sm.accuracy, sm.precision, sm.recall]\n",
    "}"
   ]
  },
  {
   "cell_type": "code",
   "execution_count": 7,
   "id": "bb16fc49",
   "metadata": {},
   "outputs": [
    {
     "data": {
      "image/png": "[encoded data removed]",
      "text/plain": [
       "<Figure size 660x440 with 1 Axes>"
      ]
     },
     "metadata": {
      "needs_background": "light"
     },
     "output_type": "display_data"
    }
   ],
   "source": [
    "# ROC Curve\n",
    "tpr, fpr, thresholds = sm.roc_curve(y_true, y_hat, bucket_size=0.01)\n",
    "tpr, fpr = [s.data for s in tpr], [s.data for s in fpr]\n",
    "\n",
    "fig, ax = plt.subplots(1, 1, dpi=110)\n",
    "ax.plot(fpr, tpr, \"-o\", c=\"tab:blue\")\n",
    "ax.plot([0, 1], [0, 1], ls=\"--\", c=\"tab:grey\")\n",
    "ax.set_xlabel(\"fpr\")\n",
    "ax.set_ylabel(\"tpr\")\n",
    "ax.set_title(\"ROC Curve\");"
   ]
  },
  {
   "cell_type": "code",
   "execution_count": null,
   "id": "01e21f1d",
   "metadata": {},
   "outputs": [],
   "source": [
    "# Visualising predictions\n",
    "\n",
    "# Plot original data\n",
    "fig, ax = plt.subplots(1, 1, dpi=110)\n",
    "ax.scatter(list(x1_pos), list(x2_pos), marker=\"x\", c=\"tab:blue\")\n",
    "ax.scatter(list(x1_neg), list(x2_neg), marker=\"o\", c=\"tab:red\")\n",
    "\n",
    "# Visualise decision boundaries\n",
    "\n",
    "x1_positions = list(np.linspace(0, 1, 101))\n",
    "x2_positions = list(np.linspace(0, 1, 101))\n",
    "\n",
    "for x1_lower, x1_upper in zip(x1_positions, x1_positions[1:]):\n",
    "    \n",
    "    # Create corresponding x2 values\n",
    "    X_lower = [list((x1_lower, x2)) for x2 in x2_positions]\n",
    "    X_upper = [list((x1_upper, x2)) for x2 in x2_positions]\n",
    "    \n",
    "    # Get predictions\n",
    "    y_lower = network.forward(X_lower)\n",
    "    y_mean_lower = sigmoid(sum(scalar[0].data for scalar in y_lower) / len(y_lower))\n",
    "\n",
    "    y_upper = network.forward(X_upper)\n",
    "    y_mean_upper = sigmoid(sum(scalar[0].data for scalar in y_upper) / len(y_upper))\n",
    "\n",
    "    # Plot and fill    \n",
    "    ax.fill_betweenx(\n",
    "        x2_positions,\n",
    "        [x1_upper for _ in x2_positions],\n",
    "        x1_lower,\n",
    "        alpha=(y_mean_lower - 0.5) if y_mean_lower >= 0.5 else (0.5 - y_mean_lower),\n",
    "        color=\"tab:blue\" if y_mean_lower >= 0.5 else \"tab:red\",\n",
    "        lw=0.01\n",
    "    )\n",
    "\n",
    "ax.set_xlabel(\"x1\")\n",
    "ax.set_ylabel(\"x2\")\n",
    "\n",
    "fig.tight_layout();"
   ]
  },
  {
   "cell_type": "markdown",
   "id": "a16d5e94",
   "metadata": {},
   "source": [
    "### Tensors"
   ]
  },
  {
   "cell_type": "code",
   "execution_count": 4,
   "id": "fe477f44",
   "metadata": {},
   "outputs": [],
   "source": [
    "# Create a network\n",
    "network = TensorNetwork(input_dim=2, hidden_dim=5, output_dim=1)\n",
    "\n",
    "# Define an optimizer\n",
    "optimizer = SGDOptimizer(parameters=network.parameters(), lr=0.5)\n",
    "\n",
    "# Data\n",
    "X = tf.tensor([list(x) for x in dataset.xs])\n",
    "y_true = tf.tensor(dataset.ys).view(N_SAMPLES, 1)"
   ]
  },
  {
   "cell_type": "code",
   "execution_count": 5,
   "id": "e7e5f043",
   "metadata": {},
   "outputs": [
    {
     "name": "stdout",
     "output_type": "stream",
     "text": [
      "epoch 0: loss = 0.7641482879562553\n",
      "epoch 10: loss = 0.6755233453422435\n",
      "epoch 20: loss = 0.6698902787970303\n",
      "epoch 30: loss = 0.6645063178820837\n",
      "epoch 40: loss = 0.6570031622645937\n",
      "epoch 50: loss = 0.6482651322860408\n",
      "epoch 60: loss = 0.6357948491856494\n",
      "epoch 70: loss = 0.615585439004185\n",
      "epoch 80: loss = 0.5841710593847803\n",
      "epoch 90: loss = 0.5405663865863489\n",
      "epoch 100: loss = 0.4771723493459314\n",
      "epoch 110: loss = 0.3981270096926279\n",
      "epoch 120: loss = 0.3810910557884341\n",
      "epoch 130: loss = 0.4369529353384462\n",
      "epoch 140: loss = 0.45552070465381234\n",
      "epoch 150: loss = 0.359717670658061\n",
      "epoch 160: loss = 0.3340300297180273\n",
      "epoch 170: loss = 0.4816109734392157\n",
      "epoch 180: loss = 0.4198394878158003\n",
      "epoch 190: loss = 0.4092581622129917\n",
      "epoch 199: loss = 0.4345943590087139\n"
     ]
    }
   ],
   "source": [
    "# Training loop\n",
    "n_epochs = 200\n",
    "losses = []\n",
    "\n",
    "for epoch in range(n_epochs): \n",
    "    \n",
    "    # Zero all grads\n",
    "    optimizer.zero_grad()\n",
    "    \n",
    "    # Forward\n",
    "    y_hat = network.forward(X).sigmoid()\n",
    "\n",
    "    # Compute a loss\n",
    "    loss_per_epoch = tl.binary_cross_entropy(y_true, y_hat)\n",
    "    loss_per_epoch.backward()\n",
    "    \n",
    "    optimizer.step()\n",
    "    \n",
    "    # Record\n",
    "    losses.append(loss_per_epoch.item())\n",
    "    if (epoch % 10 == 0) or (epoch == (n_epochs - 1)):\n",
    "        print(f\"epoch {epoch + 1}: loss = {loss_per_epoch.item()}\")"
   ]
  },
  {
   "cell_type": "code",
   "execution_count": 6,
   "id": "b0808da1",
   "metadata": {},
   "outputs": [
    {
     "data": {
      "text/plain": [
       "{'accuracy': \n",
       " [0.82000],\n",
       " 'precision': \n",
       " [0.73913],\n",
       " 'recall': \n",
       " [0.85000]}"
      ]
     },
     "execution_count": 6,
     "metadata": {},
     "output_type": "execute_result"
    }
   ],
   "source": [
    "# Metrics\n",
    "y_true = y_true.view(y_true.size)\n",
    "y_hat = network.forward(X).sigmoid()\n",
    "y_hat_classes = (y_hat >= 0.5).view(y_hat.size)\n",
    "\n",
    "{\n",
    "    f.__name__: f(y_true=y_true, y_hat=y_hat_classes)\n",
    "    for f in [tm.accuracy, tm.precision, tm.recall]\n",
    "}"
   ]
  },
  {
   "cell_type": "code",
   "execution_count": null,
   "id": "3a70fc81",
   "metadata": {},
   "outputs": [],
   "source": []
  }
 ],
 "metadata": {
  "kernelspec": {
   "display_name": "minitorch",
   "language": "python",
   "name": "minitorch"
  },
  "language_info": {
   "codemirror_mode": {
    "name": "ipython",
    "version": 3
   },
   "file_extension": ".py",
   "mimetype": "text/x-python",
   "name": "python",
   "nbconvert_exporter": "python",
   "pygments_lexer": "ipython3",
   "version": "3.9.8"
  }
 },
 "nbformat": 4,
 "nbformat_minor": 5
}

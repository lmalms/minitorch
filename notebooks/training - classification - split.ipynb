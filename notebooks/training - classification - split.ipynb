{
 "cells": [
  {
   "cell_type": "code",
   "execution_count": 1,
   "id": "f4339ce8",
   "metadata": {},
   "outputs": [],
   "source": [
    "%reload_ext autoreload\n",
    "%autoreload 2"
   ]
  },
  {
   "cell_type": "code",
   "execution_count": 2,
   "id": "a358c06e",
   "metadata": {},
   "outputs": [],
   "source": [
    "from dataclasses import asdict\n",
    "\n",
    "import math\n",
    "import random\n",
    "import itertools\n",
    "import numpy as np\n",
    "import matplotlib.pyplot as plt\n",
    "from matplotlib.patches import Rectangle\n",
    "\n",
    "from minitorch.module import Network, Linear\n",
    "from minitorch.optim import SGDOptimizer\n",
    "from minitorch.datasets import Datasets, DatasetTypes\n",
    "from minitorch.operators import sigmoid"
   ]
  },
  {
   "cell_type": "code",
   "execution_count": 3,
   "id": "97e29f49",
   "metadata": {},
   "outputs": [
    {
     "data": {
      "image/png": "[encoded data removed]",
      "text/plain": [
       "<Figure size 660x440 with 1 Axes>"
      ]
     },
     "metadata": {
      "needs_background": "light"
     },
     "output_type": "display_data"
    }
   ],
   "source": [
    "# Create a dataset\n",
    "dataset_type = DatasetTypes.split\n",
    "\n",
    "datasets = Datasets.generate_datasets(n_samples=50)\n",
    "dataset = asdict(datasets)[dataset_type]\n",
    "\n",
    "pos_class = [x for (x, y) in zip(dataset.xs, dataset.ys) if y == 1]\n",
    "neg_class = [x for (x, y) in zip(dataset.xs, dataset.ys) if y == 0]\n",
    "\n",
    "x1_pos, x2_pos = zip(*pos_class)\n",
    "x1_neg, x2_neg = zip(*neg_class)\n",
    "\n",
    "fig, ax = plt.subplots(1, 1, dpi=110)\n",
    "ax.scatter(list(x1_pos), list(x2_pos), marker=\"x\", c=\"tab:blue\", label=\"class = 1\")\n",
    "ax.scatter(list(x1_neg), list(x2_neg), marker=\"o\", c=\"tab:red\", label=\"class = 0\")\n",
    "ax.legend(loc=1)\n",
    "\n",
    "left = Rectangle((0.0, 0.0), 0.2, 1.0, color=\"tab:blue\", alpha=0.2, lw=0.0)\n",
    "center = Rectangle((0.2, 0.0), 0.6, 1.0, color=\"tab:red\", alpha=0.2, lw=0.0)\n",
    "right = Rectangle((0.8, 0.0), 0.2, 1.0, color=\"tab:blue\", alpha=0.2, lw=0.0)\n",
    "\n",
    "ax.add_patch(left)\n",
    "ax.add_patch(center)\n",
    "ax.add_patch(right)\n",
    "\n",
    "ax.set_xlabel(\"x1\")\n",
    "ax.set_ylabel(\"x2\")\n",
    "\n",
    "fig.tight_layout();"
   ]
  },
  {
   "cell_type": "code",
   "execution_count": 4,
   "id": "6e5f1536",
   "metadata": {},
   "outputs": [],
   "source": [
    "# Create a network\n",
    "network = Network(input_dim=2, hidden_dim=10, output_dim=1)"
   ]
  },
  {
   "cell_type": "code",
   "execution_count": 5,
   "id": "a4f48f8d",
   "metadata": {},
   "outputs": [],
   "source": [
    "# Define an optimizer\n",
    "optimizer = SGDOptimizer(parameters=network.parameters(), lr=0.3)"
   ]
  },
  {
   "cell_type": "code",
   "execution_count": 6,
   "id": "d5a59965",
   "metadata": {},
   "outputs": [],
   "source": [
    "# Data\n",
    "X = [list(x) for x in dataset.xs]\n",
    "y_true = dataset.ys"
   ]
  },
  {
   "cell_type": "code",
   "execution_count": 7,
   "id": "974f07de",
   "metadata": {},
   "outputs": [
    {
     "name": "stdout",
     "output_type": "stream",
     "text": [
      "epoch 0: loss = 1.2366267235260124\n",
      "epoch 10: loss = 0.712147780143426\n",
      "epoch 20: loss = 0.6932127320389165\n",
      "epoch 30: loss = 0.6741288542326557\n",
      "epoch 40: loss = 0.6461539253215217\n",
      "epoch 50: loss = 0.6127089912891682\n",
      "epoch 60: loss = 0.5813710179205389\n",
      "epoch 70: loss = 0.5537839092275688\n",
      "epoch 80: loss = 0.520653574515193\n",
      "epoch 90: loss = 0.4871892150621802\n"
     ]
    }
   ],
   "source": [
    "# Training loop\n",
    "n_epochs = 100\n",
    "losses = []\n",
    "\n",
    "for epoch in range(n_epochs): \n",
    "    \n",
    "    # Zero all grads\n",
    "    optimizer.zero_grad()\n",
    "    \n",
    "    # Forward\n",
    "    y_hat = network.forward(X)\n",
    "\n",
    "    # Convert to binary class probabilties\n",
    "    y_hat = [[scalar.sigmoid() for scalar in row] for row in y_hat]\n",
    "\n",
    "    # Compute a loss\n",
    "    loss_per_epoch = 0\n",
    "    for i in range(len(y_true)):\n",
    "        loss_per_epoch += (y_hat[i][0].log() if y_true[i] == 1.0 else (- y_hat[i][0] + 1).log())\n",
    "    loss_per_epoch = (- loss_per_epoch / len(y_true))\n",
    "    loss_per_epoch.backward()\n",
    "    \n",
    "    optimizer.step()\n",
    "    \n",
    "    # Record\n",
    "    losses.append(loss_per_epoch.data)\n",
    "    if epoch % 10 == 0:\n",
    "        print(f\"epoch {epoch}: loss = {loss_per_epoch.data}\")"
   ]
  },
  {
   "cell_type": "code",
   "execution_count": 8,
   "id": "36d29f4b",
   "metadata": {},
   "outputs": [],
   "source": [
    "y_hat = network.forward(X)\n",
    "y_hat = [[scalar.sigmoid() for scalar in row] for row in y_hat]\n",
    "y_hat_classes = [[1 if proba.data >= 0.5 else 0 for proba in row] for row in y_hat]\n",
    "y_hat_classes = list(itertools.chain.from_iterable(y_hat_classes))"
   ]
  },
  {
   "cell_type": "code",
   "execution_count": 9,
   "id": "bb16fc49",
   "metadata": {},
   "outputs": [
    {
     "data": {
      "text/plain": [
       "0.9"
      ]
     },
     "execution_count": 9,
     "metadata": {},
     "output_type": "execute_result"
    }
   ],
   "source": [
    "# Accuraccy\n",
    "sum(\n",
    "    [\n",
    "        1 if y_hat_c == y_true_c \n",
    "        else 0 for (y_hat_c, y_true_c) in zip(y_hat_classes, y_true)\n",
    "    ]\n",
    ") / len(y_true)"
   ]
  },
  {
   "cell_type": "code",
   "execution_count": 18,
   "id": "4116ee94",
   "metadata": {},
   "outputs": [
    {
     "data": {
      "text/plain": [
       "0.375"
      ]
     },
     "execution_count": 18,
     "metadata": {},
     "output_type": "execute_result"
    }
   ],
   "source": [
    "sum(y_true) / len(y_true)"
   ]
  },
  {
   "cell_type": "code",
   "execution_count": null,
   "id": "01e21f1d",
   "metadata": {},
   "outputs": [],
   "source": [
    "# Visualising predictions\n",
    "fig, ax = plt.subplots(1, 1, dpi=110)\n",
    "ax.scatter(list(x1_pos), list(x2_pos), marker=\"x\", c=\"tab:blue\")\n",
    "ax.scatter(list(x1_neg), list(x2_neg), marker=\"o\", c=\"tab:red\")\n",
    "\n",
    "# Visualise decision boundaries\n",
    "\n",
    "bias_positions = list(np.linspace(0, 2, 51))\n",
    "x_range = list(np.linspace(0, 1, 51))\n",
    "\n",
    "for bias_lower, bias_upper in zip(bias_positions, bias_positions[1:]):\n",
    "    \n",
    "    # Create corresponding x2 values for lower\n",
    "    X_lower = [list((x1, bias_lower - x1)) for x1 in x_range]\n",
    "    \n",
    "    # Clamp values to between 0.0 and 1.0\n",
    "    X_lower = [[x1, max(min(x2, 1.0), 0.0)] for (x1, x2) in X_lower]\n",
    "    y_lower = linear.forward(X_lower)\n",
    "    y_mean_lower = sigmoid(sum(scalar[0].data for scalar in y_lower) / len(y_lower))\n",
    "\n",
    "    # Create corresponding x2 values for upper\n",
    "    X_upper = [list((x1, bias_upper - x1)) for x1 in x_range]\n",
    "    \n",
    "    # Clamp upper and lower bounds\n",
    "    X_upper = [[x1, max(min(x2, 1.0), 0.0)] for (x1, x2) in X_upper]\n",
    "    y_upper = linear.forward(X_upper)\n",
    "    y_mean_upper = sigmoid(sum(scalar[0].data for scalar in y_upper) / len(y_upper))\n",
    "\n",
    "    # Plot and fill    \n",
    "    ax.fill_between(\n",
    "        x_range,\n",
    "        [x2 for (_, x2) in X_lower],\n",
    "        [x2 for (_, x2) in X_upper],\n",
    "        alpha=(y_mean_lower - 0.5) if y_mean_lower >= 0.5 else (0.5 - y_mean_lower),\n",
    "        color=\"tab:blue\" if y_mean_lower >= 0.5 else \"tab:red\",\n",
    "        lw=0.01\n",
    "    )\n",
    "    \n",
    "\n",
    "ax.set_xlabel(\"x1\")\n",
    "ax.set_ylabel(\"x2\")\n",
    "\n",
    "fig.tight_layout();"
   ]
  }
 ],
 "metadata": {
  "kernelspec": {
   "display_name": "minitorch",
   "language": "python",
   "name": "minitorch"
  },
  "language_info": {
   "codemirror_mode": {
    "name": "ipython",
    "version": 3
   },
   "file_extension": ".py",
   "mimetype": "text/x-python",
   "name": "python",
   "nbconvert_exporter": "python",
   "pygments_lexer": "ipython3",
   "version": "3.9.8"
  }
 },
 "nbformat": 4,
 "nbformat_minor": 5
}

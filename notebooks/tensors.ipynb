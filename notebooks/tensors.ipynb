{
 "cells": [
  {
   "cell_type": "code",
   "execution_count": null,
   "id": "c15865e7",
   "metadata": {},
   "outputs": [],
   "source": [
    "import numpy as np\n",
    "\n",
    "from minitorch.autodiff import Tensor, TensorData\n",
    "from minitorch.functional import product"
   ]
  },
  {
   "cell_type": "markdown",
   "id": "219ece4c",
   "metadata": {},
   "source": [
    "### Tensors"
   ]
  },
  {
   "cell_type": "code",
   "execution_count": null,
   "id": "53cb2934",
   "metadata": {},
   "outputs": [],
   "source": [
    "# Creation\n",
    "shape = (5, )\n",
    "data = np.ones(shape).flatten()\n",
    "td = TensorData(data, shape=shape)\n",
    "t = Tensor(data=td)\n"
   ]
  },
  {
   "cell_type": "code",
   "execution_count": null,
   "id": "53a5cb89",
   "metadata": {},
   "outputs": [],
   "source": [
    "scalar = 3.0\n",
    "result = scalar > t\n",
    "result"
   ]
  },
  {
   "cell_type": "code",
   "execution_count": null,
   "id": "60678c00",
   "metadata": {},
   "outputs": [],
   "source": [
    "_ = t.sum()"
   ]
  },
  {
   "cell_type": "code",
   "execution_count": null,
   "id": "2b25fd5e",
   "metadata": {},
   "outputs": [],
   "source": [
    "_"
   ]
  },
  {
   "cell_type": "code",
   "execution_count": null,
   "id": "559c5007",
   "metadata": {},
   "outputs": [],
   "source": []
  }
 ],
 "metadata": {
  "kernelspec": {
   "display_name": "minitorch",
   "language": "python",
   "name": "minitorch"
  },
  "language_info": {
   "codemirror_mode": {
    "name": "ipython",
    "version": 3
   },
   "file_extension": ".py",
   "mimetype": "text/x-python",
   "name": "python",
   "nbconvert_exporter": "python",
   "pygments_lexer": "ipython3",
   "version": "3.9.8"
  }
 },
 "nbformat": 4,
 "nbformat_minor": 5
}

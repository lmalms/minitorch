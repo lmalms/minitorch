{
 "cells": [
  {
   "cell_type": "code",
   "execution_count": null,
   "id": "736ce0da",
   "metadata": {},
   "outputs": [],
   "source": [
    "%reload_ext autoreload\n",
    "%autoreload 2"
   ]
  },
  {
   "cell_type": "code",
   "execution_count": null,
   "id": "c15865e7",
   "metadata": {},
   "outputs": [],
   "source": [
    "import numpy as np\n",
    "\n",
    "from minitorch.autodiff import Tensor, TensorData\n",
    "from minitorch.functional import product"
   ]
  },
  {
   "cell_type": "markdown",
   "id": "219ece4c",
   "metadata": {},
   "source": [
    "### TensorData"
   ]
  },
  {
   "cell_type": "code",
   "execution_count": null,
   "id": "53cb2934",
   "metadata": {},
   "outputs": [],
   "source": [
    "# Creation\n",
    "shape = (3, 10)\n",
    "data = np.ones(shape).flatten()\n",
    "td = TensorData(data, shape=shape)\n",
    "\n",
    "print(f\"\"\"\n",
    "storage = {td.storage}\n",
    "shape = {td.shape}\n",
    "strides = {td.strides}\n",
    "\"\"\")"
   ]
  },
  {
   "cell_type": "code",
   "execution_count": null,
   "id": "2355e72e",
   "metadata": {},
   "outputs": [],
   "source": []
  }
 ],
 "metadata": {
  "kernelspec": {
   "display_name": "minitorch",
   "language": "python",
   "name": "minitorch"
  },
  "language_info": {
   "codemirror_mode": {
    "name": "ipython",
    "version": 3
   },
   "file_extension": ".py",
   "mimetype": "text/x-python",
   "name": "python",
   "nbconvert_exporter": "python",
   "pygments_lexer": "ipython3",
   "version": "3.9.8"
  }
 },
 "nbformat": 4,
 "nbformat_minor": 5
}

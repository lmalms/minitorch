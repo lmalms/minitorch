{
 "cells": [
  {
   "cell_type": "code",
   "execution_count": 1,
   "id": "c15865e7",
   "metadata": {},
   "outputs": [],
   "source": [
    "import numpy as np\n",
    "\n",
    "from minitorch.autodiff import Tensor, TensorData\n",
    "from minitorch.functional import product"
   ]
  },
  {
   "cell_type": "markdown",
   "id": "219ece4c",
   "metadata": {},
   "source": [
    "### Tensors"
   ]
  },
  {
   "cell_type": "code",
   "execution_count": 2,
   "id": "53cb2934",
   "metadata": {},
   "outputs": [],
   "source": [
    "# Creation\n",
    "shape = (5, )\n",
    "data = np.ones(shape).flatten()\n",
    "td = TensorData(data, shape=shape)\n",
    "t = Tensor(data=td)\n"
   ]
  },
  {
   "cell_type": "code",
   "execution_count": 3,
   "id": "53a5cb89",
   "metadata": {},
   "outputs": [
    {
     "data": {
      "text/plain": [
       "\n",
       "[1.00 1.00 1.00 1.00 1.00]"
      ]
     },
     "execution_count": 3,
     "metadata": {},
     "output_type": "execute_result"
    }
   ],
   "source": [
    "scalar = 3.0\n",
    "result = Inv.apply(t)\n",
    "result"
   ]
  },
  {
   "cell_type": "code",
   "execution_count": 4,
   "id": "1d97c6ee",
   "metadata": {},
   "outputs": [
    {
     "name": "stdout",
     "output_type": "stream",
     "text": [
      "other = \n",
      "[3.00]\n",
      "inv = \n",
      "[1.00 1.00 1.00 1.00 1.00]\n"
     ]
    },
    {
     "data": {
      "text/plain": [
       "\n",
       "[3.00 3.00 3.00 3.00 3.00]"
      ]
     },
     "execution_count": 4,
     "metadata": {},
     "output_type": "execute_result"
    }
   ],
   "source": [
    "3 / t"
   ]
  },
  {
   "cell_type": "code",
   "execution_count": 5,
   "id": "ba3194b9",
   "metadata": {},
   "outputs": [
    {
     "name": "stdout",
     "output_type": "stream",
     "text": [
      "in true div.\n"
     ]
    },
    {
     "data": {
      "text/plain": [
       "\n",
       "[0.33 0.33 0.33 0.33 0.33]"
      ]
     },
     "execution_count": 5,
     "metadata": {},
     "output_type": "execute_result"
    }
   ],
   "source": [
    "t / 3"
   ]
  },
  {
   "cell_type": "code",
   "execution_count": null,
   "id": "ef39502a",
   "metadata": {},
   "outputs": [],
   "source": [
    "tuple(np.array([[1, 2, 3]]))"
   ]
  },
  {
   "cell_type": "code",
   "execution_count": null,
   "id": "60678c00",
   "metadata": {},
   "outputs": [],
   "source": []
  }
 ],
 "metadata": {
  "kernelspec": {
   "display_name": "minitorch",
   "language": "python",
   "name": "minitorch"
  },
  "language_info": {
   "codemirror_mode": {
    "name": "ipython",
    "version": 3
   },
   "file_extension": ".py",
   "mimetype": "text/x-python",
   "name": "python",
   "nbconvert_exporter": "python",
   "pygments_lexer": "ipython3",
   "version": "3.9.8"
  }
 },
 "nbformat": 4,
 "nbformat_minor": 5
}

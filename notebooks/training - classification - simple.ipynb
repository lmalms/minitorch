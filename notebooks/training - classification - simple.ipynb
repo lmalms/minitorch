{
 "cells": [
  {
   "cell_type": "code",
   "execution_count": 1,
   "id": "a358c06e",
   "metadata": {},
   "outputs": [],
   "source": [
    "from dataclasses import asdict\n",
    "import math\n",
    "import random\n",
    "import itertools\n",
    "\n",
    "import numpy as np\n",
    "import matplotlib.pyplot as plt\n",
    "from matplotlib.patches import Rectangle\n",
    "\n",
    "from minitorch.module import LinearScalarLayer, LinearTensorLayer, ScalarNetwork, TensorNetwork\n",
    "from minitorch.autodiff import Scalar\n",
    "import minitorch.autodiff.tensor_functions as tf\n",
    "from minitorch.optim import SGDOptimizer\n",
    "from minitorch.datasets import Datasets, DatasetTypes\n",
    "from minitorch.operators import sigmoid\n",
    "import minitorch.scalar_metrics as sm\n",
    "import minitorch.scalar_losses as sl\n",
    "import minitorch.tensor_losses as tl\n",
    "import minitorch.tensor_metrics as tm"
   ]
  },
  {
   "cell_type": "code",
   "execution_count": 2,
   "id": "97e29f49",
   "metadata": {},
   "outputs": [
    {
     "data": {
      "image/png": "[encoded data removed]",
      "text/plain": [
       "<Figure size 660x440 with 1 Axes>"
      ]
     },
     "metadata": {
      "needs_background": "light"
     },
     "output_type": "display_data"
    }
   ],
   "source": [
    "# Create a dataset\n",
    "N_SAMPLES = 20\n",
    "dataset_type = DatasetTypes.simple\n",
    "\n",
    "datasets = Datasets.generate_datasets(n_samples=N_SAMPLES)\n",
    "dataset = asdict(datasets)[dataset_type]\n",
    "\n",
    "pos_class = [x for (x, y) in zip(dataset.xs, dataset.ys) if y == 1]\n",
    "neg_class = [x for (x, y) in zip(dataset.xs, dataset.ys) if y == 0]\n",
    "\n",
    "x1_pos, x2_pos = zip(*pos_class)\n",
    "x1_neg, x2_neg = zip(*neg_class)\n",
    "\n",
    "fig, ax = plt.subplots(1, 1, dpi=110)\n",
    "ax.scatter(list(x1_pos), list(x2_pos), marker=\"x\", c=\"tab:blue\")\n",
    "ax.scatter(list(x1_neg), list(x2_neg), marker=\"o\", c=\"tab:red\")\n",
    "\n",
    "left = Rectangle((0, 0), 0.5, 1.0, color=\"tab:blue\", alpha=0.2, lw=0.0)\n",
    "right = Rectangle((0.5, 0), 0.5, 1.0, color=\"tab:red\", alpha=0.2, lw=0.0)\n",
    "ax.add_patch(left)\n",
    "ax.add_patch(right)\n",
    "\n",
    "ax.set_xlabel(\"x1\")\n",
    "ax.set_ylabel(\"x2\")\n",
    "\n",
    "fig.tight_layout()"
   ]
  },
  {
   "cell_type": "markdown",
   "id": "87624ee7",
   "metadata": {},
   "source": [
    "### Scalars"
   ]
  },
  {
   "cell_type": "code",
   "execution_count": null,
   "id": "6e5f1536",
   "metadata": {},
   "outputs": [],
   "source": [
    "# Create a linear network\n",
    "linear = LinearScalarLayer(input_dim=2, output_dim=1)\n",
    "\n",
    "# Define an optimizer\n",
    "optimizer = SGDOptimizer(parameters=linear.parameters(), lr=0.75)\n",
    "\n",
    "# Data\n",
    "X = [list(x) for x in dataset.xs]\n",
    "y_true = dataset.ys"
   ]
  },
  {
   "cell_type": "code",
   "execution_count": null,
   "id": "974f07de",
   "metadata": {},
   "outputs": [],
   "source": [
    "# Training loop\n",
    "n_epochs = 200\n",
    "losses = []\n",
    "\n",
    "for epoch in range(n_epochs): \n",
    "    \n",
    "    # Zero all grads\n",
    "    optimizer.zero_grad()\n",
    "    \n",
    "    # Forward\n",
    "    y_hat = linear.forward(X)\n",
    "\n",
    "    # Convert to binary class probabilties\n",
    "    y_hat = [[scalar.sigmoid() for scalar in row] for row in y_hat]\n",
    "    y_hat = list(itertools.chain.from_iterable(y_hat))\n",
    "\n",
    "    # Compute a loss\n",
    "    loss_per_epoch = sl.binary_cross_entropy(y_true, y_hat)\n",
    "    loss_per_epoch.backward()\n",
    "    \n",
    "    optimizer.step()\n",
    "    \n",
    "    # Record\n",
    "    losses.append(loss_per_epoch.data)\n",
    "    if epoch % 10 == 0:\n",
    "        print(f\"epoch {epoch}: loss = {loss_per_epoch.data}\")"
   ]
  },
  {
   "cell_type": "code",
   "execution_count": null,
   "id": "36d29f4b",
   "metadata": {},
   "outputs": [],
   "source": [
    "# Metrics\n",
    "y_true = [Scalar(y_t) for y_t in y_true]\n",
    "y_hat = [[scalar.sigmoid() for scalar in row] for row in linear.forward(X)]\n",
    "y_hat = list(itertools.chain.from_iterable(y_hat))\n",
    "\n",
    "# Convert to classes using 0.5 threshold\n",
    "y_hat_classes = [Scalar(1.0) if proba.data >= 0.5 else Scalar(0.0) for proba in y_hat]\n",
    "\n",
    "{\n",
    "    f.__name__: f(y_true=y_true, y_hat=y_hat_classes)\n",
    "    for f in [sm.accuracy, sm.precision, sm.recall]\n",
    "}"
   ]
  },
  {
   "cell_type": "code",
   "execution_count": null,
   "id": "37dd3ab7",
   "metadata": {},
   "outputs": [],
   "source": [
    "# ROC Curve\n",
    "tpr, fpr, thresholds = sm.roc_curve(y_true, y_hat, bucket_size=0.01)\n",
    "tpr, fpr = [s.data for s in tpr], [s.data for s in fpr]\n",
    "\n",
    "fig, ax = plt.subplots(1, 1, dpi=110)\n",
    "ax.plot(fpr, tpr, \"-o\", c=\"tab:blue\")\n",
    "ax.plot([0, 1], [0, 1], ls=\"--\", c=\"tab:grey\")\n",
    "ax.set_xlabel(\"fpr\")\n",
    "ax.set_ylabel(\"tpr\")\n",
    "ax.set_title(\"ROC Curve\");"
   ]
  },
  {
   "cell_type": "code",
   "execution_count": null,
   "id": "01e21f1d",
   "metadata": {},
   "outputs": [],
   "source": [
    "# Visualising predictions\n",
    "fig, ax = plt.subplots(1, 1, dpi=110)\n",
    "ax.scatter(list(x1_pos), list(x2_pos), marker=\"x\", c=\"tab:blue\")\n",
    "ax.scatter(list(x1_neg), list(x2_neg), marker=\"o\", c=\"tab:red\")\n",
    "\n",
    "# Visualise classification function\n",
    "\n",
    "x1_positions = list(np.linspace(0, 1, 101))\n",
    "\n",
    "for x1_lower, x1_upper in zip(x1_positions, x1_positions[1:]):\n",
    "    \n",
    "    # Create corresponding x2 values for lower\n",
    "    X_lower = [list((x1_lower, i/10)) for i in range(11)]\n",
    "    y_lower = linear.forward(X_lower)\n",
    "    y_mean_lower = sigmoid(sum(scalar[0].data for scalar in y_lower) / len(y_lower))\n",
    "\n",
    "    # Create corresponding x2 values for upper\n",
    "    X_upper = [list((x1_upper, i/10)) for i in range(11)]\n",
    "    y_upper = linear.forward(X_upper)\n",
    "    y_mean_upper = sigmoid(sum(scalar[0].data for scalar in y_upper) / len(y_upper))\n",
    "\n",
    "    # Plot and fill    \n",
    "    ax.fill_betweenx(\n",
    "        [i/10 for i in range(11)],\n",
    "        [x1_upper for _ in range(11)],\n",
    "        x1_lower,\n",
    "        alpha=(y_mean_lower - 0.5) if y_mean_lower >= 0.5 else (0.5 - y_mean_lower),\n",
    "        color=\"tab:blue\" if y_mean_lower >= 0.5 else \"tab:red\",\n",
    "        lw=0.01\n",
    "    )\n",
    "\n",
    "ax.set_xlabel(\"x1\")\n",
    "ax.set_ylabel(\"x2\")\n",
    "\n",
    "fig.tight_layout()"
   ]
  },
  {
   "cell_type": "markdown",
   "id": "524bfbd4",
   "metadata": {},
   "source": [
    "### Tensors"
   ]
  },
  {
   "cell_type": "code",
   "execution_count": 3,
   "id": "64594afc",
   "metadata": {},
   "outputs": [],
   "source": [
    "# Create a network\n",
    "network = LinearTensorLayer(input_dim=2, output_dim=1)\n",
    "\n",
    "# Define an optimizer\n",
    "optimizer = SGDOptimizer(parameters=network.parameters(), lr=0.5)\n",
    "\n",
    "# Data\n",
    "X = tf.tensor([list(x) for x in dataset.xs])\n",
    "y_true = tf.tensor(dataset.ys).view(N_SAMPLES, 1)\n"
   ]
  },
  {
   "cell_type": "code",
   "execution_count": 4,
   "id": "121ab8da",
   "metadata": {},
   "outputs": [
    {
     "name": "stdout",
     "output_type": "stream",
     "text": [
      "epoch 0: loss = 0.6890154655933525\n",
      "epoch 1: loss = 0.7109498779376464\n",
      "epoch 2: loss = 0.7368268435979813\n",
      "epoch 3: loss = 0.7654878205422113\n",
      "epoch 4: loss = 0.7959990198368362\n",
      "epoch 5: loss = 0.8276307343098288\n",
      "epoch 6: loss = 0.8598266968143193\n",
      "epoch 7: loss = 0.8921716963612347\n",
      "epoch 8: loss = 0.9243618246325348\n",
      "epoch 9: loss = 0.9561791487483811\n",
      "epoch 10: loss = 0.9874711325519722\n",
      "epoch 11: loss = 1.018134409430547\n",
      "epoch 12: loss = 1.048102237202136\n",
      "epoch 13: loss = 1.0773349272995623\n",
      "epoch 14: loss = 1.1058126082768176\n",
      "epoch 15: loss = 1.133529787918151\n",
      "epoch 16: loss = 1.1604912848305182\n",
      "epoch 17: loss = 1.1867091949224549\n",
      "epoch 18: loss = 1.2122006362570208\n",
      "epoch 19: loss = 1.236986077717202\n"
     ]
    }
   ],
   "source": [
    "# Training loop\n",
    "n_epochs = 20\n",
    "losses = []\n",
    "\n",
    "for epoch in range(n_epochs): \n",
    "    \n",
    "    # Zero all grads\n",
    "    optimizer.zero_grad()\n",
    "    \n",
    "    # Forward\n",
    "    y_hat = network.forward(X).sigmoid()\n",
    "\n",
    "    # Compute a loss\n",
    "    loss_per_epoch = tl.binary_cross_entropy(y_true, y_hat)\n",
    "    loss_per_epoch.backward()\n",
    "    \n",
    "    optimizer.step()\n",
    "    \n",
    "    # Record\n",
    "    losses.append(loss_per_epoch.item())\n",
    "    if epoch % 1 == 0:\n",
    "        print(f\"epoch {epoch}: loss = {loss_per_epoch.item()}\")"
   ]
  },
  {
   "cell_type": "code",
   "execution_count": null,
   "id": "ed84b114",
   "metadata": {},
   "outputs": [],
   "source": [
    "# Metrics\n",
    "y_true = y_true.view(y_true.size)\n",
    "y_hat = network.forward(X).sigmoid()\n",
    "y_hat_classes = (y_hat >= 0.5).view(y_hat.size)\n",
    "\n",
    "{\n",
    "    f.__name__: f(y_true=y_true, y_hat=y_hat_classes)\n",
    "    for f in [tm.accuracy, tm.precision, tm.recall]\n",
    "}"
   ]
  },
  {
   "cell_type": "code",
   "execution_count": null,
   "id": "b97abd77",
   "metadata": {},
   "outputs": [],
   "source": []
  }
 ],
 "metadata": {
  "kernelspec": {
   "display_name": "minitorch",
   "language": "python",
   "name": "minitorch"
  },
  "language_info": {
   "codemirror_mode": {
    "name": "ipython",
    "version": 3
   },
   "file_extension": ".py",
   "mimetype": "text/x-python",
   "name": "python",
   "nbconvert_exporter": "python",
   "pygments_lexer": "ipython3",
   "version": "3.9.8"
  }
 },
 "nbformat": 4,
 "nbformat_minor": 5
}

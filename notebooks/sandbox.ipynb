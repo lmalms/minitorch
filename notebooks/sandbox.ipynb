{
 "cells": [
  {
   "cell_type": "code",
   "execution_count": null,
   "id": "0a2630ad",
   "metadata": {},
   "outputs": [],
   "source": [
    "import os\n",
    "os.chdir(\"../src\")"
   ]
  },
  {
   "cell_type": "markdown",
   "id": "dedcbadd",
   "metadata": {},
   "source": [
    "### Experiment with topological sort"
   ]
  },
  {
   "cell_type": "code",
   "execution_count": null,
   "id": "ce9796c7",
   "metadata": {},
   "outputs": [],
   "source": [
    "from minitorch.autodiff import topological_sort\n",
    "from minitorch.autodiff import Scalar\n",
    "from minitorch.operators import summation, product"
   ]
  },
  {
   "cell_type": "code",
   "execution_count": null,
   "id": "53643095",
   "metadata": {},
   "outputs": [],
   "source": [
    "scalar1 = Scalar(1.5)\n",
    "scalar2 = Scalar(2.5)\n",
    "scalar3 = scalar1 * scalar2\n",
    "scalar4 = scalar3.log()\n",
    "scalar5 = scalar3.exp()\n",
    "scalar6 = scalar4 + scalar5\n",
    "\n",
    "sorted_ = topological_sort(scalar6)"
   ]
  },
  {
   "cell_type": "code",
   "execution_count": null,
   "id": "7b438fea",
   "metadata": {},
   "outputs": [],
   "source": [
    "sorted_"
   ]
  },
  {
   "cell_type": "code",
   "execution_count": null,
   "id": "31271972",
   "metadata": {},
   "outputs": [],
   "source": []
  }
 ],
 "metadata": {
  "kernelspec": {
   "display_name": "Python 3 (ipykernel)",
   "language": "python",
   "name": "python3"
  },
  "language_info": {
   "codemirror_mode": {
    "name": "ipython",
    "version": 3
   },
   "file_extension": ".py",
   "mimetype": "text/x-python",
   "name": "python",
   "nbconvert_exporter": "python",
   "pygments_lexer": "ipython3",
   "version": "3.9.8"
  }
 },
 "nbformat": 4,
 "nbformat_minor": 5
}

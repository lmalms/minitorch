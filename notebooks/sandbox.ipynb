{
 "cells": [
  {
   "cell_type": "code",
   "execution_count": 9,
   "id": "b8957870",
   "metadata": {},
   "outputs": [],
   "source": [
    "from enum import Enum\n",
    "from dataclasses import dataclass, asdict\n",
    "import numpy as np"
   ]
  },
  {
   "cell_type": "code",
   "execution_count": 40,
   "id": "9cd9b721",
   "metadata": {},
   "outputs": [],
   "source": [
    "def expand_dims(*dims):\n",
    "    max_dim = max(len(dim) for dim in dims)\n",
    "    dims = [(1,) * (max_dim - len(dim)) + dim for dim in dims]\n",
    "    return dims\n",
    "\n",
    "\n",
    "def broadcast(shape_a, shape_b):\n",
    "\n",
    "    if len(shape_a) != len(shape_b):\n",
    "        # Expand dimension to match\n",
    "        shape_a, shape_b = expand_dims(shape_a, shape_b)\n",
    "\n",
    "    broadcast_shape = tuple()\n",
    "    for (a, b) in zip(shape_a, shape_b):\n",
    "        if (a != b):\n",
    "            if (min(a, b) != 1):\n",
    "                raise IndexError(f\"Shapes {shape_a} and {shape_b} cannot be broadcast together.\")\n",
    "        \n",
    "        broadcast_shape += (max(a, b),) \n",
    "    \n",
    "    return broadcast_shape\n"
   ]
  },
  {
   "cell_type": "code",
   "execution_count": 46,
   "id": "290360a3",
   "metadata": {},
   "outputs": [
    {
     "data": {
      "text/plain": [
       "(5, 5, 5, 5)"
      ]
     },
     "execution_count": 46,
     "metadata": {},
     "output_type": "execute_result"
    }
   ],
   "source": [
    "shape_a = (1, 5, 1, 5)\n",
    "shape_b = (5, 1, 5, 1)\n",
    "\n",
    "broadcast(shape_a, shape_b)"
   ]
  },
  {
   "cell_type": "code",
   "execution_count": 47,
   "id": "2ba1f8ee",
   "metadata": {},
   "outputs": [],
   "source": [
    "_ = np.ones(shape_a) + np.ones(shape_b)"
   ]
  },
  {
   "cell_type": "code",
   "execution_count": 24,
   "id": "ed472034",
   "metadata": {},
   "outputs": [
    {
     "data": {
      "text/plain": [
       "(3,)"
      ]
     },
     "execution_count": 24,
     "metadata": {},
     "output_type": "execute_result"
    }
   ],
   "source": [
    "tuple() + (3, )"
   ]
  },
  {
   "cell_type": "code",
   "execution_count": null,
   "id": "5074d794",
   "metadata": {},
   "outputs": [],
   "source": []
  }
 ],
 "metadata": {
  "kernelspec": {
   "display_name": "minitorch",
   "language": "python",
   "name": "minitorch"
  },
  "language_info": {
   "codemirror_mode": {
    "name": "ipython",
    "version": 3
   },
   "file_extension": ".py",
   "mimetype": "text/x-python",
   "name": "python",
   "nbconvert_exporter": "python",
   "pygments_lexer": "ipython3",
   "version": "3.9.8"
  }
 },
 "nbformat": 4,
 "nbformat_minor": 5
}

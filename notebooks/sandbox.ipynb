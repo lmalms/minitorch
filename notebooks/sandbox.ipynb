{
 "cells": [
  {
   "cell_type": "code",
   "execution_count": 13,
   "id": "79e64c06",
   "metadata": {},
   "outputs": [],
   "source": [
    "from enum import Enum\n",
    "from dataclasses import dataclass, asdict"
   ]
  },
  {
   "cell_type": "code",
   "execution_count": 12,
   "id": "b9d4cd24",
   "metadata": {},
   "outputs": [],
   "source": [
    "class DatasetTypes(str, Enum):\n",
    "    simple = \"simple\"\n",
    "    split = \"split\"\n",
    "    diagonal = \"diagonal\"\n",
    "    xor = \"xor\""
   ]
  },
  {
   "cell_type": "code",
   "execution_count": 7,
   "id": "2a843095",
   "metadata": {},
   "outputs": [
    {
     "data": {
      "text/plain": [
       "['simple', 'split', 'diagonal', 'xor']"
      ]
     },
     "execution_count": 7,
     "metadata": {},
     "output_type": "execute_result"
    }
   ],
   "source": [
    "[name for (name, value) in DatasetTypes.__members__.items()]"
   ]
  },
  {
   "cell_type": "code",
   "execution_count": 9,
   "id": "39098f39",
   "metadata": {},
   "outputs": [],
   "source": [
    "@dataclass\n",
    "class Dataset:\n",
    "    simple: int\n",
    "    split: int"
   ]
  },
  {
   "cell_type": "code",
   "execution_count": 14,
   "id": "ad5b4d43",
   "metadata": {},
   "outputs": [
    {
     "data": {
      "text/plain": [
       "5"
      ]
     },
     "execution_count": 14,
     "metadata": {},
     "output_type": "execute_result"
    }
   ],
   "source": [
    "datasets = Dataset(5, 10)\n",
    "asdict(datasets)[DatasetTypes.simple]"
   ]
  },
  {
   "cell_type": "code",
   "execution_count": null,
   "id": "714008d1",
   "metadata": {},
   "outputs": [],
   "source": []
  }
 ],
 "metadata": {
  "kernelspec": {
   "display_name": "minitorch",
   "language": "python",
   "name": "minitorch"
  },
  "language_info": {
   "codemirror_mode": {
    "name": "ipython",
    "version": 3
   },
   "file_extension": ".py",
   "mimetype": "text/x-python",
   "name": "python",
   "nbconvert_exporter": "python",
   "pygments_lexer": "ipython3",
   "version": "3.9.8"
  }
 },
 "nbformat": 4,
 "nbformat_minor": 5
}

{
 "cells": [
  {
   "cell_type": "code",
   "execution_count": null,
   "id": "b8957870",
   "metadata": {},
   "outputs": [],
   "source": [
    "from enum import Enum\n",
    "from dataclasses import dataclass, asdict"
   ]
  },
  {
   "cell_type": "code",
   "execution_count": null,
   "id": "65fd2856",
   "metadata": {},
   "outputs": [],
   "source": [
    "class DatasetTypes(str, Enum):\n",
    "    simple = \"simple\"\n",
    "    split = \"split\"\n",
    "    diagonal = \"diagonal\"\n",
    "    xor = \"xor\""
   ]
  },
  {
   "cell_type": "code",
   "execution_count": null,
   "id": "a41e80ba",
   "metadata": {},
   "outputs": [],
   "source": [
    "DatasetTypes(\"simpl\")"
   ]
  },
  {
   "cell_type": "code",
   "execution_count": null,
   "id": "616d9000",
   "metadata": {},
   "outputs": [],
   "source": [
    "@dataclass\n",
    "class Dataset:\n",
    "    simple: int\n",
    "    split: int"
   ]
  },
  {
   "cell_type": "code",
   "execution_count": null,
   "id": "9640f6d2",
   "metadata": {},
   "outputs": [],
   "source": [
    "datasets = Dataset(5, 10)\n",
    "asdict(datasets)[DatasetTypes.simple]"
   ]
  },
  {
   "cell_type": "code",
   "execution_count": null,
   "id": "fe0ab41e",
   "metadata": {},
   "outputs": [],
   "source": [
    "import numpy as np"
   ]
  },
  {
   "cell_type": "code",
   "execution_count": null,
   "id": "2d286bdc",
   "metadata": {},
   "outputs": [],
   "source": [
    "ones = np.ones((3, 4))\n",
    "np.array([[x + 1 for x in row] for row in ones])"
   ]
  },
  {
   "cell_type": "code",
   "execution_count": null,
   "id": "46363e0d",
   "metadata": {},
   "outputs": [],
   "source": [
    "np.array(ones)"
   ]
  },
  {
   "cell_type": "code",
   "execution_count": null,
   "id": "290360a3",
   "metadata": {},
   "outputs": [],
   "source": []
  }
 ],
 "metadata": {
  "kernelspec": {
   "display_name": "minitorch",
   "language": "python",
   "name": "minitorch"
  },
  "language_info": {
   "codemirror_mode": {
    "name": "ipython",
    "version": 3
   },
   "file_extension": ".py",
   "mimetype": "text/x-python",
   "name": "python",
   "nbconvert_exporter": "python",
   "pygments_lexer": "ipython3",
   "version": "3.9.8"
  }
 },
 "nbformat": 4,
 "nbformat_minor": 5
}

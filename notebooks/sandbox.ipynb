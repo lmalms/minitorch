{
 "cells": [
  {
   "cell_type": "code",
   "execution_count": 9,
   "id": "b8957870",
   "metadata": {},
   "outputs": [],
   "source": [
    "from enum import Enum\n",
    "from dataclasses import dataclass, asdict\n",
    "import numpy as np"
   ]
  },
  {
   "cell_type": "code",
   "execution_count": 13,
   "id": "9cd9b721",
   "metadata": {},
   "outputs": [],
   "source": [
    "\n",
    "def can_copy_dimensions(shape_a, shape_b):\n",
    "    # Where the dimensions are unequal, one of the dims has to be equal to 1.\n",
    "    for (a, b) in zip(shape_a, shape_b):\n",
    "        if (a != b) and (a != 1 and b != 1):\n",
    "            return False\n",
    "    \n",
    "    return True\n",
    "\n",
    "\n",
    "def can_broadcast(shape_a, shape_b):\n",
    "    if len(shape_a) == len(shape_b):\n",
    "        return can_copy_dimensions(shape_a, shape_b)\n",
    "\n",
    "    else:\n",
    "        # Add a dimension of size 1 to left until dimensions are equal\n",
    "        max_dim = max(len(shape_a), len(shape_b))\n",
    "\n",
    "        # Turn this into a function\n",
    "        shape_a = (1,) * (max_dim - len(shape_a)) + shape_a\n",
    "        shape_b = (1,) * (max_dim - len(shape_b)) + shape_b\n",
    "\n",
    "        return can_copy_dimensions(shape_a, shape_b)\n",
    "\n",
    "\n",
    "def broadcast(shape_a, shape_b):\n",
    "    if not can_broadcast(shape_a, shape_b):\n",
    "        raise IndexError(f\"Cannot broadcast together shapes {shape_a} and {shape_b}.\")\n",
    "    \n",
    "    if len(shape_a) == len(shape_b):\n",
    "        shape_a, shape_b = list(shape_a), list(shape_b)\n",
    "        for i, (a, b) in enumerate(zip(shape_a, shape_b)):\n",
    "            if (a != b):\n",
    "                \n",
    "\n"
   ]
  },
  {
   "cell_type": "code",
   "execution_count": 20,
   "id": "290360a3",
   "metadata": {},
   "outputs": [
    {
     "data": {
      "text/plain": [
       "True"
      ]
     },
     "execution_count": 20,
     "metadata": {},
     "output_type": "execute_result"
    }
   ],
   "source": [
    "shape_a = (5, 4, 2, 3)\n",
    "shape_b = (1, 4, 2, 1)\n",
    "\n",
    "can_broadcast(shape_a, shape_b)"
   ]
  },
  {
   "cell_type": "code",
   "execution_count": 21,
   "id": "2ba1f8ee",
   "metadata": {},
   "outputs": [],
   "source": [
    "_ = np.ones(shape_a) + np.ones(shape_b)"
   ]
  },
  {
   "cell_type": "code",
   "execution_count": null,
   "id": "ed472034",
   "metadata": {},
   "outputs": [],
   "source": []
  }
 ],
 "metadata": {
  "kernelspec": {
   "display_name": "minitorch",
   "language": "python",
   "name": "minitorch"
  },
  "language_info": {
   "codemirror_mode": {
    "name": "ipython",
    "version": 3
   },
   "file_extension": ".py",
   "mimetype": "text/x-python",
   "name": "python",
   "nbconvert_exporter": "python",
   "pygments_lexer": "ipython3",
   "version": "3.9.8"
  }
 },
 "nbformat": 4,
 "nbformat_minor": 5
}

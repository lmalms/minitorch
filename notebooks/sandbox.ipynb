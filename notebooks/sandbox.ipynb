{
 "cells": [
  {
   "cell_type": "code",
   "execution_count": 1,
   "id": "b8957870",
   "metadata": {},
   "outputs": [],
   "source": [
    "from enum import Enum\n",
    "from dataclasses import dataclass, asdict\n",
    "import numpy as np\n",
    "import math\n",
    "\n",
    "from operator import add"
   ]
  },
  {
   "cell_type": "code",
   "execution_count": 2,
   "id": "5e8d41fe",
   "metadata": {},
   "outputs": [],
   "source": [
    "from minitorch.functional import product, summation, multiply_lists, reduce"
   ]
  },
  {
   "cell_type": "code",
   "execution_count": 3,
   "id": "209ec08e",
   "metadata": {},
   "outputs": [],
   "source": [
    "def strides_from_shape(shape):\n",
    "    strides, offset = [1], 1\n",
    "    for s in reversed(shape[1:]):\n",
    "        strides.append(s * offset)\n",
    "        offset = s * offset\n",
    "    return tuple(reversed(strides))"
   ]
  },
  {
   "cell_type": "code",
   "execution_count": 4,
   "id": "0240774b",
   "metadata": {},
   "outputs": [],
   "source": [
    "def to_index(ordinal, shape, out_index) -> None:\n",
    "\n",
    "    remaining_ordinal = ordinal\n",
    "    for i, dim in enumerate(shape):\n",
    "        is_last_dim = i == (len(shape) - 1)\n",
    "\n",
    "        if not is_last_dim:\n",
    "            remaining_size = int(product(shape[(i + 1) :].tolist()))\n",
    "            idx = remaining_ordinal // remaining_size\n",
    "            remaining_ordinal = remaining_ordinal % remaining_size\n",
    "            out_index[i] = idx\n",
    "        else:\n",
    "            if remaining_ordinal // shape[i - 1] == 0:\n",
    "                out_index[i] = remaining_ordinal\n",
    "            else:\n",
    "                out_index[i] = remaining_ordinal % dim\n",
    "\n",
    "\n",
    "def broadcast_index(big_index, big_shape, shape, out_index) -> None:\n",
    "    for i in range(len(shape)):\n",
    "        offset = i + len(big_shape) - len(shape)\n",
    "        out_index[i] = big_index[offset] if shape[i] != 1 else 0\n",
    "\n",
    "\n",
    "def index_to_position(index, strides) -> int:\n",
    "    index, strides = index.tolist(), strides.tolist()\n",
    "    return int(summation(multiply_lists(index, strides)))\n",
    "\n",
    "\n",
    "def shape_broadcast(shape_a, shape_b):\n",
    "\n",
    "    def expand_dims(*dims):\n",
    "        max_dim = max(len(dim) for dim in dims)\n",
    "        dims = [(1,) * (max_dim - len(dim)) + dim for dim in dims]\n",
    "        return dims\n",
    "\n",
    "    if len(shape_a) != len(shape_b):\n",
    "        # Expand dimension to match\n",
    "        shape_a, shape_b = expand_dims(shape_a, shape_b)\n",
    "\n",
    "    broadcast_shape = tuple()\n",
    "    for (a, b) in zip(shape_a, shape_b):\n",
    "        if a != b:\n",
    "            if min(a, b) != 1:\n",
    "                raise IndexError(\n",
    "                    f\"Shapes {shape_a} and {shape_b} cannot be broadcast together.\"\n",
    "                )\n",
    "\n",
    "        broadcast_shape += (max(a, b),)\n",
    "\n",
    "    return broadcast_shape"
   ]
  },
  {
   "cell_type": "code",
   "execution_count": 21,
   "id": "3d6b269c",
   "metadata": {},
   "outputs": [],
   "source": [
    "fn = add\n",
    "dim, start = 0, 0\n",
    "\n",
    "a_arr = np.arange(27).reshape(3, 3, 3)\n",
    "a_storage = a_arr.flatten()\n",
    "a_shape = np.array(a_arr.shape)\n",
    "a_strides = np.array(strides_from_shape(a_shape))\n",
    "a_index = np.zeros_like(a_shape)\n",
    "\n",
    "out_shape = list(a_arr.shape)\n",
    "out_shape[dim] = 1\n",
    "\n",
    "out_shape = np.array(out_shape)\n",
    "out_strides = np.array(strides_from_shape(out_shape))\n",
    "out_arr = np.zeros(tuple(out_shape))\n",
    "out_storage = np.ones((out_arr.size,)) * start\n",
    "out_index = np.zeros_like(out_shape)\n"
   ]
  },
  {
   "cell_type": "code",
   "execution_count": 22,
   "id": "eaba39f3",
   "metadata": {},
   "outputs": [],
   "source": [
    "out_size = int(product(out_shape.tolist()))\n",
    "for i in range(out_size):\n",
    "    \n",
    "    # Get the corresponding out_index\n",
    "    to_index(i, out_shape, out_index)\n",
    "    \n",
    "    # Get all indices in original tensor that would give rise to that index\n",
    "    a_positions = []\n",
    "    max_dim = a_shape[dim]\n",
    "    for j in range(max_dim):\n",
    "        out_index[dim] = j\n",
    "        a_positions.append(index_to_position(out_index, a_strides))\n",
    "    \n",
    "    a_values = [a_storage[i] for i in a_positions]\n",
    "    out_storage[i] = reduce(add, out_storage[i])(a_values)"
   ]
  },
  {
   "cell_type": "code",
   "execution_count": 23,
   "id": "f4deb6aa",
   "metadata": {},
   "outputs": [
    {
     "data": {
      "text/plain": [
       "array([[[27., 30., 33.],\n",
       "        [36., 39., 42.],\n",
       "        [45., 48., 51.]]])"
      ]
     },
     "execution_count": 23,
     "metadata": {},
     "output_type": "execute_result"
    }
   ],
   "source": [
    "out_storage.reshape(out_shape)"
   ]
  },
  {
   "cell_type": "code",
   "execution_count": 24,
   "id": "9ecd3e1e",
   "metadata": {},
   "outputs": [
    {
     "data": {
      "text/plain": [
       "array([[[ 0,  1,  2],\n",
       "        [ 3,  4,  5],\n",
       "        [ 6,  7,  8]],\n",
       "\n",
       "       [[ 9, 10, 11],\n",
       "        [12, 13, 14],\n",
       "        [15, 16, 17]],\n",
       "\n",
       "       [[18, 19, 20],\n",
       "        [21, 22, 23],\n",
       "        [24, 25, 26]]])"
      ]
     },
     "execution_count": 24,
     "metadata": {},
     "output_type": "execute_result"
    }
   ],
   "source": [
    "a_arr"
   ]
  },
  {
   "cell_type": "code",
   "execution_count": 53,
   "id": "77e5aa18",
   "metadata": {},
   "outputs": [
    {
     "data": {
      "text/plain": [
       "array([[ 0.,  2.,  4.,  6.,  8.],\n",
       "       [ 5.,  7.,  9., 11., 13.]])"
      ]
     },
     "execution_count": 53,
     "metadata": {},
     "output_type": "execute_result"
    }
   ],
   "source": [
    "# Iterate over each dimension in out_index\n",
    "out_size = int(product(out_shape.tolist()))\n",
    "for i in range(out_size):\n",
    "    to_index(i, out_shape, out_index)\n",
    "    broadcast_index(out_index, out_shape, a_shape, a_index)\n",
    "    broadcast_index(out_index, out_shape, b_shape, b_index)\n",
    "\n",
    "    a_position = index_to_position(a_index, a_strides)\n",
    "    b_position = index_to_position(b_index, b_strides)\n",
    "    \n",
    "    out_storage[i] = add(a_storage[a_position], b_storage[b_position])\n",
    "\n",
    "out_storage.reshape(out_shape)"
   ]
  },
  {
   "cell_type": "code",
   "execution_count": 41,
   "id": "85cafbaa",
   "metadata": {},
   "outputs": [
    {
     "data": {
      "text/plain": [
       "array([[ 0,  2,  4,  6,  8],\n",
       "       [ 5,  7,  9, 11, 13]])"
      ]
     },
     "execution_count": 41,
     "metadata": {},
     "output_type": "execute_result"
    }
   ],
   "source": [
    "np.add(a_arr, b_arr)"
   ]
  },
  {
   "cell_type": "code",
   "execution_count": 30,
   "id": "ad8f22a3",
   "metadata": {},
   "outputs": [
    {
     "data": {
      "text/plain": [
       "array([[1.        , 1.01005017, 1.02020134, 1.03045453, 1.04081077],\n",
       "       [1.        , 1.01005017, 1.02020134, 1.03045453, 1.04081077],\n",
       "       [1.        , 1.01005017, 1.02020134, 1.03045453, 1.04081077],\n",
       "       [1.        , 1.01005017, 1.02020134, 1.03045453, 1.04081077]])"
      ]
     },
     "execution_count": 30,
     "metadata": {},
     "output_type": "execute_result"
    }
   ],
   "source": [
    "np.exp(in_arr, out_arr)"
   ]
  },
  {
   "cell_type": "code",
   "execution_count": 73,
   "id": "b4062c9c",
   "metadata": {},
   "outputs": [
    {
     "data": {
      "text/plain": [
       "[0, 0]"
      ]
     },
     "execution_count": 73,
     "metadata": {},
     "output_type": "execute_result"
    }
   ],
   "source": [
    "big_shape = big_arr.shape\n",
    "small_shape = small_arr.shape\n",
    "big_index = (0, 0, 1)\n",
    "out_index = [1,] * len(small_shape)\n",
    "\n",
    "broadcast_index(big_shape, big_index, small_shape, out_index)\n",
    "out_index"
   ]
  },
  {
   "cell_type": "code",
   "execution_count": null,
   "id": "c15865e7",
   "metadata": {},
   "outputs": [],
   "source": []
  }
 ],
 "metadata": {
  "kernelspec": {
   "display_name": "minitorch",
   "language": "python",
   "name": "minitorch"
  },
  "language_info": {
   "codemirror_mode": {
    "name": "ipython",
    "version": 3
   },
   "file_extension": ".py",
   "mimetype": "text/x-python",
   "name": "python",
   "nbconvert_exporter": "python",
   "pygments_lexer": "ipython3",
   "version": "3.9.8"
  }
 },
 "nbformat": 4,
 "nbformat_minor": 5
}
